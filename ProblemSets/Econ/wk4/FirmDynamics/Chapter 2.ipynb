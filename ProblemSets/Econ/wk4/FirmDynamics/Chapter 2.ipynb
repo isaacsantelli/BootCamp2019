{
 "cells": [
  {
   "cell_type": "code",
   "execution_count": null,
   "metadata": {},
   "outputs": [],
   "source": [
    "import numpy as np"
   ]
  },
  {
   "cell_type": "code",
   "execution_count": null,
   "metadata": {},
   "outputs": [],
   "source": [
    "\n",
    "def feasible(f_params, bvec_guess):\n",
    "    '''\n",
    "    Inputs \n",
    "        f params = (nvec, A, alpha, delta)\n",
    "        bvec guess = np.array([scalar, scalar])\n",
    "    Outputs \n",
    "        b_cnstr (boolean list, len=2) [which element of bvec guess is \n",
    "            likely responsible for any of the consumption nonnegativity \n",
    "            constraint violations identified in c cnstr]\n",
    "            - If the first element of c cnstr is True, then the first element of b cnstr is True. \n",
    "            - If the second element of c cnstr is True, then both elements of b cnstr are True. \n",
    "            - if the last element of c cnstr is True, then the last element of b cnstr is True.\n",
    "        c_cnstr (boolean list, len=3) [True if cs ≤ 0]\n",
    "        K_cnstr (boolean list, len=1) [True if K ≤ 0]\n",
    "    '''\n",
    "    "
   ]
  }
 ],
 "metadata": {
  "kernelspec": {
   "display_name": "Python 3",
   "language": "python",
   "name": "python3"
  },
  "language_info": {
   "codemirror_mode": {
    "name": "ipython",
    "version": 3
   },
   "file_extension": ".py",
   "mimetype": "text/x-python",
   "name": "python",
   "nbconvert_exporter": "python",
   "pygments_lexer": "ipython3",
   "version": "3.7.3"
  }
 },
 "nbformat": 4,
 "nbformat_minor": 2
}
