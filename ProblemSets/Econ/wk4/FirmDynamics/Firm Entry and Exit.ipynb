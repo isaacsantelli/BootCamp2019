{
 "cells": [
  {
   "cell_type": "code",
   "execution_count": 1,
   "metadata": {},
   "outputs": [],
   "source": [
    "import numpy as np"
   ]
  },
  {
   "cell_type": "code",
   "execution_count": 6,
   "metadata": {},
   "outputs": [],
   "source": [
    "rho = 0.9\n",
    "sigma_w = .02\n",
    "m = 3 \n",
    "theta = .21\n",
    "v = .64\n",
    "delta = .1\n",
    "beta = .96 \n",
    "phi = .5"
   ]
  },
  {
   "cell_type": "code",
   "execution_count": 5,
   "metadata": {},
   "outputs": [
    {
     "name": "stdout",
     "output_type": "stream",
     "text": [
      "[-0.13764944 -0.10706068 -0.07647191 -0.04588315 -0.01529438  0.01529438\n",
      "  0.04588315  0.07647191  0.10706068  0.13764944]\n"
     ]
    }
   ],
   "source": [
    "e_n = m * ((sigma_w**2) / (1-rho**2))**.5\n",
    "appr = np.linspace(-e_n, e_n, 10)\n",
    "print(appr)"
   ]
  },
  {
   "cell_type": "code",
   "execution_count": null,
   "metadata": {},
   "outputs": [],
   "source": []
  }
 ],
 "metadata": {
  "kernelspec": {
   "display_name": "Python 3",
   "language": "python",
   "name": "python3"
  },
  "language_info": {
   "codemirror_mode": {
    "name": "ipython",
    "version": 3
   },
   "file_extension": ".py",
   "mimetype": "text/x-python",
   "name": "python",
   "nbconvert_exporter": "python",
   "pygments_lexer": "ipython3",
   "version": "3.7.3"
  }
 },
 "nbformat": 4,
 "nbformat_minor": 2
}
