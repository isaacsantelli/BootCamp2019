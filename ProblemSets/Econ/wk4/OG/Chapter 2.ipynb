{
 "cells": [
  {
   "cell_type": "code",
   "execution_count": 2,
   "metadata": {},
   "outputs": [],
   "source": [
    "import numpy as np\n",
    "import params\n",
    "from scipy.optimize import root\n",
    "from matplotlib import pyplot as plt\n",
    "import time\n",
    "\n",
    "beta = .442\n",
    "beta1 = .55\n",
    "delta = 0.6415\n",
    "sigma = 3\n",
    "A = 1\n",
    "alpha = .35\n",
    "nvec = np.array([1,1,.2])\n",
    "L = np.sum(nvec)\n",
    "SStol = 1.E-10\n",
    "xi = .4\n",
    "T = 40\n",
    "\n",
    "\n",
    "params1 = (.55, sigma, nvec, L, A, alpha, delta, SStol)\n",
    "params2 = (beta, sigma, nvec, L, A, alpha, delta, SStol, 1000, xi, 45)"
   ]
  },
  {
   "cell_type": "markdown",
   "metadata": {},
   "source": [
    "### Exercise 2.1"
   ]
  },
  {
   "cell_type": "code",
   "execution_count": 12,
   "metadata": {},
   "outputs": [],
   "source": [
    "f_params = (nvec, A, alpha, delta)\n",
    "def feasible(f_params, bvec_guess):\n",
    "    '''\n",
    "    Purpose: \n",
    "        Determine the feasibility of a given steady state guess based on a set of wealth allocations\n",
    "    Inputs \n",
    "        f params = (nvec, A, alpha, delta)\n",
    "        bvec guess = np.array([scalar, scalar])\n",
    "    Outputs \n",
    "        b_cnstr (boolean list, len=2) [which element of bvec guess is \n",
    "            likely responsible for any of the consumption nonnegativity \n",
    "            constraint violations identified in c cnstr]\n",
    "            - If the first element of c cnstr is True, then the first element of b cnstr is True. \n",
    "            - If the second element of c cnstr is True, then both elements of b cnstr are True. \n",
    "            - if the last element of c cnstr is True, then the last element of b cnstr is True.\n",
    "        c_cnstr (boolean list, len=3) [True if cs ≤ 0]\n",
    "        K_cnstr (boolean list, len=1) [True if K ≤ 0]\n",
    "    '''\n",
    "    nvec, A, alpha, delta = f_params\n",
    "    # First we want to check whether the savings are collectively nonnegative\n",
    "    K = np.sum(bvec_guess)\n",
    "    K_cnstr = np.array([K <= 0])\n",
    "   \n",
    "    # Calculate wage and rental rate parameter \n",
    "    r = alpha * A * ( (np.sum(nvec) / abs(K)) ** (1-alpha) ) - delta\n",
    "    w = (1-alpha) * A * ( ( abs(K) / np.sum(nvec)) ** (alpha) )\n",
    "    if (K <= 0):\n",
    "        r = r * -1\n",
    "        w = w * -1\n",
    "    \n",
    "    \n",
    "    # Each Generations Consumption\n",
    "    c = np.array([0.0,0.0,0.0])\n",
    "    c[0] = w*nvec[0] - bvec_guess[0]\n",
    "    c[1] = w*nvec[1] - bvec_guess[1] + bvec_guess[0]*(1+r)\n",
    "    c[2] = w*nvec[2] + bvec_guess[1]*(1+r)\n",
    "    c_cnstr = np.array(c <= 0)\n",
    "    \n",
    "    \n",
    "    # Why are certain generations getting negative consumption\n",
    "    b_cnstr = np.array((False, False))\n",
    "    if (c_cnstr[0]): \n",
    "        b_cnstr[0] = True\n",
    "    if (c_cnstr[1]): \n",
    "        b_cnstr[0] = True\n",
    "        b_cnstr[1] = True\n",
    "    if (c_cnstr[2]):\n",
    "        b_cnstr[1] = True   \n",
    "    return [b_cnstr, c_cnstr, K_cnstr]"
   ]
  },
  {
   "cell_type": "code",
   "execution_count": 13,
   "metadata": {},
   "outputs": [
    {
     "name": "stdout",
     "output_type": "stream",
     "text": [
      "K_cnstr [False]\n",
      "c_cnstr [ True False False]\n",
      "b_cnstr: [ True False]\n"
     ]
    }
   ],
   "source": [
    "guess1 = np.array([1.0, 1.2])\n",
    "b_cnstr, c_cnstr, K_cnstr = feasible(f_params, guess1)\n",
    "print(\"K_cnstr\", K_cnstr)\n",
    "print(\"c_cnstr\", c_cnstr)\n",
    "print(\"b_cnstr:\", b_cnstr)"
   ]
  },
  {
   "cell_type": "code",
   "execution_count": 14,
   "metadata": {},
   "outputs": [
    {
     "name": "stdout",
     "output_type": "stream",
     "text": [
      "K_cnstr [False]\n",
      "c_cnstr [False False False]\n",
      "b_cnstr: [False False]\n"
     ]
    }
   ],
   "source": [
    "guess2 = np.array([0.06, -.001])\n",
    "b_cnstr, c_cnstr, K_cnstr = feasible(f_params, guess2)\n",
    "print(\"K_cnstr\", K_cnstr)\n",
    "print(\"c_cnstr\", c_cnstr)\n",
    "print(\"b_cnstr:\", b_cnstr)"
   ]
  },
  {
   "cell_type": "code",
   "execution_count": 16,
   "metadata": {},
   "outputs": [
    {
     "name": "stdout",
     "output_type": "stream",
     "text": [
      "K_cnstr [False]\n",
      "c_cnstr [False False False]\n",
      "b_cnstr: [False False]\n"
     ]
    }
   ],
   "source": [
    "guess2 = np.array([0.1, 0.1])\n",
    "b_cnstr, c_cnstr, K_cnstr = feasible(f_params, guess2)\n",
    "print(\"K_cnstr\", K_cnstr)\n",
    "print(\"c_cnstr\", c_cnstr)\n",
    "print(\"b_cnstr:\", b_cnstr)"
   ]
  },
  {
   "cell_type": "markdown",
   "metadata": {},
   "source": [
    "### Exercise 2.2"
   ]
  },
  {
   "cell_type": "code",
   "execution_count": 8,
   "metadata": {},
   "outputs": [],
   "source": [
    "params = (beta, sigma, nvec, L, A, alpha, delta, SStol)\n",
    "def funcfact(params):\n",
    "    def utility(c):\n",
    "        '''\n",
    "        utility function\n",
    "        Inputs:\n",
    "            consumption\n",
    "        Outputs\n",
    "        '''\n",
    "        if (c <= 0):\n",
    "            return -9999999\n",
    "        else:\n",
    "            u = ((c ** (1-sigma)) - 1)/(1-sigma)\n",
    "            return u\n",
    "    def du(c):\n",
    "        '''\n",
    "        utility function\n",
    "        Inputs:\n",
    "            consumption\n",
    "        Outputs\n",
    "        '''\n",
    "        if (c <= 0): return -99999999\n",
    "        else:\n",
    "            return (c ** (-sigma))\n",
    "    \n",
    "    return utility, du\n",
    "\n",
    "\n",
    "        \n",
    "u, du = funcfact(params)"
   ]
  },
  {
   "cell_type": "code",
   "execution_count": 9,
   "metadata": {},
   "outputs": [
    {
     "name": "stdout",
     "output_type": "stream",
     "text": [
      "b_ss       : [0.019312529832027088, 0.05841109592113676]\n",
      "c_ss       : [0.18241212755849867, 0.20961468030898922, 0.24087386507209851]\n",
      "w_ss       : 0.20172465739052575\n",
      "r_ss       : 2.433062339127069\n",
      "K_ss       : 0.07772362575316386\n",
      "Y_ss       : 0.6827603788602411\n",
      "C_ss       : 0.6329006729395864\n",
      "EulErr_ss  : [-1.3926637620897964e-12, 2.6290081223123707e-12]\n",
      "RCerr_ss   : 8.326672684688674e-17\n",
      "ss_time    : 0.04398538899840787\n"
     ]
    },
    {
     "data": {
      "image/png": "[encoded data removed]",
      "text/plain": [
       "<Figure size 432x288 with 1 Axes>"
      ]
     },
     "metadata": {
      "needs_background": "light"
     },
     "output_type": "display_data"
    }
   ],
   "source": [
    "def modeldef(v, beta, sigma, nvec, L, A, alpha, delta):\n",
    "    '''\n",
    "        Defines the model\n",
    "        Inputs:\n",
    "            v - vector of solutions \n",
    "            beta - discount rate\n",
    "            sigma - rate of relative risk aversion\n",
    "            nvec - how much each population works \n",
    "            L - aggregate labor \n",
    "            A - technology\n",
    "            alpha - capital share\n",
    "            delta - depreciation\n",
    "        Return:\n",
    "            list of functions\n",
    "    '''\n",
    "    b2, b3 = v\n",
    "    k = b2 + b3\n",
    "    r = ( ( alpha * A * ( (np.sum(nvec) / k))**(1-alpha) )) - delta\n",
    "    w = (  (1-alpha) * A * ( ( k / np.sum(nvec))**(alpha) ) )\n",
    "    c1 = w*nvec[0] - b2\n",
    "    c2 = w*nvec[1] + (1+r)*b2 - b3\n",
    "    c3 = w*nvec[2] + (1+r)*b3\n",
    "    rv = []\n",
    "    rv.append( du(c1) - ( (beta*(1+r))*du(c2) ) )\n",
    "    rv.append( du(c2) - ( (beta*(1+r))*du(c3) ) )\n",
    "    return rv\n",
    "    \n",
    "    \n",
    "\n",
    "def get_SS(params, bvec_guess, SS_graphs):\n",
    "    '''\n",
    "    Purpose: \n",
    "        Get the steady state of the function from a guess\n",
    "    Inputs:\n",
    "        params = beta, sigma, nvec, L, A, alpha, delta, SS_tol\n",
    "        bvec_guess = np.array([scalar, scalar])\n",
    "        SS_graphs (boolean to display graphs if true)\n",
    "    Outputs \n",
    "        ss_output: dictionary containing the model parameters in steady state. \n",
    "    '''\n",
    "    start_time = time.perf_counter() \n",
    "    ret = root(modeldef, bvec_guess, method = 'hybr', args=(params[:7]) )\n",
    "    b2, b3 = ret.x\n",
    "    e1, e2 = ret.fun\n",
    "    beta, sigma, nvec, L, A, alpha, delta, SStol = params\n",
    "\n",
    "    k = b2 + b3\n",
    "    r = ( (np.sign(k) * alpha * A * ( (np.sum(nvec) / abs(k))**(1-alpha) )) - delta) \n",
    "    w = ( np.sign(k) * (1-alpha) * A * ( ( abs(k) / np.sum(nvec))**(alpha) ) )\n",
    "    c1 = w*nvec[0] - b2\n",
    "    c2 = w*nvec[1] + (1+r)*b2 - b3\n",
    "    c3 = w*nvec[2] + (1+r)*b3\n",
    "    C = c1 + c2 + c3\n",
    "    Y = A * (L**(1-alpha)) * (k**alpha)\n",
    "    \n",
    "     \n",
    "    rv = {}\n",
    "    rv['b_ss'] = [b2, b3]\n",
    "    rv['c_ss'] = [c1, c2, c3]\n",
    "    rv['w_ss'] = w\n",
    "    rv['r_ss'] = r\n",
    "    rv['K_ss'] = k\n",
    "    rv['Y_ss'] = Y\n",
    "    rv['C_ss'] = C\n",
    "    rv['EulErr_ss'] = [e1, e2]\n",
    "    rv['RCerr_ss'] = Y - C - delta*k\n",
    "\n",
    "    \n",
    "    \n",
    "    if (SS_graphs == True):\n",
    "        fig = plt.figure()\n",
    "        age = np.array((1,2,3))\n",
    "        plt.plot(age, rv['c_ss'], '*', label=\"Consumption\")\n",
    "        plt.plot(age[:2], rv['b_ss'], '+', label=\"Savings\")\n",
    "        plt.legend(loc=\"lower right\")\n",
    "    \n",
    "    end_time = time.perf_counter()\n",
    "    rv['ss_time'] = end_time - start_time\n",
    "    \n",
    "    return rv\n",
    "    \n",
    "d = get_SS(params, [.1, .1], True)    \n",
    "for key, item in d.items():\n",
    "    print(\"{:10s}\".format(key), \":\", item)"
   ]
  },
  {
   "cell_type": "code",
   "execution_count": 10,
   "metadata": {},
   "outputs": [
    {
     "name": "stdout",
     "output_type": "stream",
     "text": [
      "b_ss       : [0.028176918915182085, 0.07686545131079861]\n",
      "c_ss       : [0.19597527701928497, 0.2286159413839988, 0.26669307195186887]\n",
      "w_ss       : 0.22415219593446706\n",
      "r_ss       : 1.8863765057189819\n",
      "K_ss       : 0.1050423702259807\n",
      "Y_ss       : 0.7586689708551193\n",
      "C_ss       : 0.6912842903551526\n",
      "EulErr_ss  : [6.87805368215777e-12, 2.5295321393059567e-12]\n",
      "RCerr_ss   : 9.71445146547012e-17\n",
      "ss_time    : 0.02900983400104451\n"
     ]
    },
    {
     "data": {
      "image/png": "[encoded data removed]",
      "text/plain": [
       "<Figure size 432x288 with 1 Axes>"
      ]
     },
     "metadata": {
      "needs_background": "light"
     },
     "output_type": "display_data"
    }
   ],
   "source": [
    "params = (beta1, sigma, nvec, L, A, alpha, delta, SStol)\n",
    "d = get_SS(params1, [.1, .1], True)    \n",
    "for key, item in d.items():\n",
    "    print(\"{:10s}\".format(key), \":\", item)"
   ]
  },
  {
   "cell_type": "code",
   "execution_count": 11,
   "metadata": {},
   "outputs": [
    {
     "name": "stdout",
     "output_type": "stream",
     "text": [
      "Total difference: 8.137488997864269e-11\n",
      "Function Converged after 56 iterations with epsilon 1e-10 in total squared deviations\n",
      "Yeet XD\n"
     ]
    }
   ],
   "source": [
    "def hhsol3(V, beta, n, w, wp, wpp, r, rp, rpp, b20):\n",
    "    '''\n",
    "    Corner Solution\n",
    "    '''\n",
    "    b21, b31, b32 = V \n",
    "    rv = []\n",
    "    rv.append( du(w*n[0] - b21) - ( beta*(1+rp)*du(wp*n[1] + (1+rp)*b21 - b32) ) )\n",
    "    rv.append( du(wp*n[1] + (1+rp)*b21 - b32) - ( beta*(1+rpp)*du(wpp*n[2] + (1+rpp)*b32 ) ) )\n",
    "    \n",
    "    rv.append( du(w*n[1] + (1+r)*b20 - b31) - ( beta*(1+rp)*du(wp*n[2] + (1+rp)*b31 ) ) )\n",
    "    return rv\n",
    "    \n",
    "    \n",
    "def hhsol2(V, beta, n, w, wp, wpp, rp, rpp):\n",
    "    '''\n",
    "    Standard Solution\n",
    "    '''\n",
    "    b21, b32 = V \n",
    "    rv = []\n",
    "    rv.append( du(w*n[0] - b21) - ( beta*(1+rp)*du(wp*n[1] + (1+rp)*b21 - b32) ) )\n",
    "    rv.append( du(wp*n[1] + (1+rp)*b21 - b32) - ( beta*(1+rpp)*du(wpp*n[2] + (1+rpp)*b32 ) ) )\n",
    "    return rv\n",
    "    \n",
    "    \n",
    "def TPI(current , parameters):\n",
    "    '''\n",
    "    A function which solves for the optimal transition path through value function iteration. \n",
    "    Inputs:\n",
    "        parameters = beta, sigma, nvec, L, A, \n",
    "        alpha, delta, SS_tol, max_iterations, xi\n",
    "    Outputs: \n",
    "        Ideal capital path\n",
    "    '''\n",
    "    beta, sigma, nvec, L, A, alpha, delta, SS_tol, max_iters, xi, T = parameters\n",
    "    # Solve for SS\n",
    "    SS = get_SS(parameters[:8], (.1, .1), False)\n",
    "    # Guess T Economy will be in SS \n",
    "    currk = sum(current)\n",
    "    K_i = np.linspace(currk, SS['K_ss'], T+1)\n",
    "    K_i = np.append(K_i, K_i[-1])\n",
    "\n",
    "    for i in range(1, max_iters):\n",
    "        # Guess K_i = {K_i1, K_i2, ... K_iT} which implies \n",
    "        # r_i = {r_i1, r_i2, ... r_iT} and w_i = {w_i1, w_i2, ... w_iT}\n",
    "        r = alpha * A * ((L / K_i)**(1-alpha)) - delta\n",
    "        r = np.append(r, r[-1])\n",
    "        w = (1-alpha)*A*(K_i / L) **(alpha)\n",
    "        w = np.append(w, w[-1])\n",
    "        b2 = np.zeros_like(K_i)\n",
    "        b3 = np.zeros_like(K_i)\n",
    "        Kp = np.copy(K_i)\n",
    "        EuErrs = np.zeros((2, len(K_i)))\n",
    "        b2[0] = current[0]\n",
    "        b3[0] = current[1]\n",
    "        Kp[0] = currk\n",
    "        # HH solution to optimal b2, and b3 + Calculate K'\n",
    "        g = beta, nvec, w[1], w[2], w[3], r[1], r[2], r[3], current[0]\n",
    "        ret = root(hhsol3, [.1, .1, .1], method = 'hybr', args=(g) )\n",
    "        b2[1], b3[1], b3[2] = ret.x\n",
    "        EuErrs[0,1], EuErrs[1,2], EuErrs[1,1] = ret.fun\n",
    "        Kp[1] = b2[1] + b3[1]\n",
    "        \n",
    "        for t in range(2, T+1):\n",
    "            g = beta, nvec, w[t], w[t+1], w[t+2], r[t+1], r[t+2]\n",
    "            ret = root(hhsol2, [.1, .1], method = 'hybr', args=(g) )\n",
    "            b2[t], b3[t+1] = ret.x\n",
    "            EuErrs[0,t], EuErrs[0,t] = ret.fun\n",
    "            Kp[t] = b2[t] + b3[t]\n",
    "        \n",
    "        totaldiff = np.sum(((K_i - Kp)/K_i)**2)\n",
    "        if (totaldiff < SS_tol):\n",
    "            print(\"Total difference:\", totaldiff)\n",
    "            print(\"Function Converged after {} iterations\".format(i), \n",
    "                  \"with epsilon {} in total squared deviations\".format(SStol))\n",
    "            print(\"Yeet XD\")\n",
    "            break\n",
    "        else:\n",
    "            K_i = xi*Kp + (1-xi)*K_i\n",
    "    \n",
    "    r = alpha * A * ((L / Kp)**(1-alpha)) - delta\n",
    "    w = (1-alpha)*A*(Kp / L) **(alpha)\n",
    "    for i in range(4):\n",
    "        r = np.append(r, r[-1])\n",
    "        w = np.append(w, w[-1])\n",
    "        Kp = np.append(Kp, Kp[-1])\n",
    "    \n",
    "    return (Kp, EuErrs, r, w)\n",
    "    \n",
    "params = (beta, sigma, nvec, L, A, alpha, delta, SStol, 1000, xi, T)    \n",
    "\n",
    "kp, errs, r, w = TPI([.5, .5] , params)  \n"
   ]
  },
  {
   "cell_type": "code",
   "execution_count": 12,
   "metadata": {},
   "outputs": [
    {
     "name": "stdout",
     "output_type": "stream",
     "text": [
      "[1.         0.3567039  0.12026671 0.08834094 0.08072252 0.0786007\n",
      " 0.0779828  0.07780048 0.07774649 0.07773048 0.07772574 0.07772434\n",
      " 0.07772392 0.0777238  0.07772376 0.07772375 0.07772375 0.07772374\n",
      " 0.07772374 0.07772374 0.07772374 0.07772373 0.07772373 0.07772373\n",
      " 0.07772373 0.07772372 0.07772372 0.07772372 0.07772371 0.07772371\n",
      " 0.07772371 0.0777237  0.0777237  0.0777237  0.07772369 0.07772369\n",
      " 0.07772368 0.07772368 0.07772367 0.07772367 0.07772366 0.07772363\n",
      " 0.07772363 0.07772363 0.07772363 0.07772363]\n"
     ]
    },
    {
     "data": {
      "image/png": "[encoded data removed]",
      "text/plain": [
       "<Figure size 432x288 with 1 Axes>"
      ]
     },
     "metadata": {
      "needs_background": "light"
     },
     "output_type": "display_data"
    }
   ],
   "source": [
    "fig = plt.figure\n",
    "x = np.linspace(0, T+6, T+6)\n",
    "plt.plot(x, kp)\n",
    "print(kp)"
   ]
  },
  {
   "cell_type": "code",
   "execution_count": 13,
   "metadata": {},
   "outputs": [
    {
     "data": {
      "text/plain": [
       "<matplotlib.legend.Legend at 0x10205f9d68>"
      ]
     },
     "execution_count": 13,
     "metadata": {},
     "output_type": "execute_result"
    },
    {
     "data": {
      "image/png": "[encoded data removed]",
      "text/plain": [
       "<Figure size 432x288 with 1 Axes>"
      ]
     },
     "metadata": {
      "needs_background": "light"
     },
     "output_type": "display_data"
    }
   ],
   "source": [
    "fig = plt.figure()\n",
    "plt.plot(x[:T+2], errs[0], 'r-', label=\"Eq. 1 Errors\")\n",
    "plt.plot(x[:T+2], errs[1], 'r-', label=\"Eq. 2 Errors\")\n",
    "plt.legend()"
   ]
  },
  {
   "cell_type": "code",
   "execution_count": 14,
   "metadata": {},
   "outputs": [
    {
     "data": {
      "text/plain": [
       "<matplotlib.legend.Legend at 0x10203e2208>"
      ]
     },
     "execution_count": 14,
     "metadata": {},
     "output_type": "execute_result"
    },
    {
     "data": {
      "image/png": "[encoded data removed]",
      "text/plain": [
       "<Figure size 432x288 with 1 Axes>"
      ]
     },
     "metadata": {
      "needs_background": "light"
     },
     "output_type": "display_data"
    }
   ],
   "source": [
    "fig = plt.figure()\n",
    "plt.plot(x, kp, 'r--', label=\"Capital\")\n",
    "plt.plot(x, w, 'y:', label=\"Wage\")\n",
    "plt.plot(x, r, 'b-', label=\"Rental Price\")\n",
    "plt.legend()\n"
   ]
  },
  {
   "cell_type": "markdown",
   "metadata": {},
   "source": [
    "After 12 periods the capital value was never farther than .00001 away from the steady state value. This is becuase without shocks the system was effectively in steady state and since the it was effectrively already in the steady state, the adjustments made by agents asymptotically slowed as they tried to get closer and closer to the perfect steady state. However, it was always above the steady state until machine precision  made it appear equivalent and throughout that whole time it was monotonically decreasing"
   ]
  },
  {
   "cell_type": "code",
   "execution_count": null,
   "metadata": {},
   "outputs": [],
   "source": []
  },
  {
   "cell_type": "code",
   "execution_count": null,
   "metadata": {},
   "outputs": [],
   "source": []
  },
  {
   "cell_type": "code",
   "execution_count": null,
   "metadata": {},
   "outputs": [],
   "source": []
  },
  {
   "cell_type": "code",
   "execution_count": null,
   "metadata": {},
   "outputs": [],
   "source": []
  },
  {
   "cell_type": "code",
   "execution_count": null,
   "metadata": {},
   "outputs": [],
   "source": []
  },
  {
   "cell_type": "code",
   "execution_count": null,
   "metadata": {},
   "outputs": [],
   "source": []
  },
  {
   "cell_type": "code",
   "execution_count": null,
   "metadata": {},
   "outputs": [],
   "source": []
  }
 ],
 "metadata": {
  "kernelspec": {
   "display_name": "Python 3",
   "language": "python",
   "name": "python3"
  },
  "language_info": {
   "codemirror_mode": {
    "name": "ipython",
    "version": 3
   },
   "file_extension": ".py",
   "mimetype": "text/x-python",
   "name": "python",
   "nbconvert_exporter": "python",
   "pygments_lexer": "ipython3",
   "version": "3.7.3"
  }
 },
 "nbformat": 4,
 "nbformat_minor": 2
}
