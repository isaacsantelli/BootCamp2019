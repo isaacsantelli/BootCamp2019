{
 "cells": [
  {
   "cell_type": "code",
   "execution_count": 148,
   "metadata": {},
   "outputs": [],
   "source": [
    "import numpy as np\n",
    "import pandas as pd\n",
    "from datetime import datetime\n",
    "from scipy.optimize import broyden1"
   ]
  },
  {
   "cell_type": "code",
   "execution_count": 149,
   "metadata": {},
   "outputs": [
    {
     "name": "stdout",
     "output_type": "stream",
     "text": [
      "              PCECC96   GDPDEF   W5000  TB3MS  W5000_real  W5000_return\n",
      "DATE                                                                   \n",
      "2000-01-01   8520.710   77.396   44.67   5.20   57.716161           NaN\n",
      "2000-04-01   8603.007   77.865   46.37   5.69   59.551788      1.031804\n",
      "2000-07-01   8687.485   78.309   44.29   5.69   56.557995      0.949728\n",
      "2000-10-01   8762.205   78.723   44.37   6.00   56.362181      0.996538\n",
      "2001-01-01   8797.280   79.204   39.80   5.77   50.249987      0.891555\n",
      "2001-04-01   8818.079   79.683   34.89   4.42   43.786002      0.871363\n",
      "2001-07-01   8848.300   80.004   37.50   3.49   46.872656      1.070494\n",
      "2001-10-01   8980.610   80.268   31.53   2.64   39.280909      0.838035\n",
      "2002-01-01   9008.096   80.533   35.43   1.69   43.994387      1.119994\n",
      "2002-04-01   9054.348   80.821   35.77   1.79   44.258299      1.005999\n",
      "2002-07-01   9119.949   81.194   31.26   1.70   38.500382      0.869902\n",
      "2002-10-01   9172.361   81.654   26.01   1.63   31.853920      0.827366\n",
      "2003-01-01   9215.501   82.025   28.04   1.19   34.184700      1.073171\n",
      "2003-04-01   9318.994   82.266   27.18   1.13   33.039166      0.966490\n",
      "2003-07-01   9455.687   82.712   31.66   0.92   38.277396      1.158546\n",
      "2003-10-01   9519.802   83.201   32.84   0.94   39.470679      1.031175\n",
      "2004-01-01   9604.507   83.820   36.92   0.90   44.046767      1.115936\n",
      "2004-04-01   9664.264   84.504   37.88   0.94   44.826280      1.017697\n",
      "2004-07-01   9771.136   85.056   38.37   1.27   45.111456      1.006362\n",
      "2004-10-01   9877.416   85.712   37.68   1.65   43.961172      0.974501\n",
      "2005-01-01   9935.048   86.391   41.58   2.19   48.130014      1.094830\n",
      "2005-04-01  10047.766   86.996   40.58   2.74   46.645823      0.969163\n",
      "2005-07-01  10145.297   87.783   41.58   2.97   47.366802      1.015456\n",
      "2005-10-01  10175.424   88.489   43.20   3.42   48.819627      1.030672\n",
      "2006-01-01  10288.892   89.107   44.20   3.89   49.603286      1.016052\n",
      "2006-04-01  10341.016   89.852   46.65   4.51   51.918711      1.046679\n",
      "2006-07-01  10403.798   90.481   45.76   4.79   50.574154      0.974103\n",
      "2006-10-01  10504.481   90.815   47.73   4.81   52.557397      1.039215\n",
      "2007-01-01  10563.261   91.708   51.22   4.85   55.851180      1.062670\n",
      "2007-04-01  10582.839   92.301   51.98   4.94   56.315750      1.008318\n",
      "...               ...      ...     ...    ...         ...           ...\n",
      "2012-01-01  10973.303   99.320   52.08   0.01   52.436569      1.112564\n",
      "2012-04-01  10989.585   99.713   58.73   0.08   58.899040      1.123244\n",
      "2012-07-01  11007.517  100.225   56.86   0.09   56.732352      0.963214\n",
      "2012-10-01  11056.852  100.737   60.31   0.11   59.868767      1.055284\n",
      "2013-01-01  11114.186  101.139   60.47   0.07   59.789003      0.998668\n",
      "2013-04-01  11122.185  101.431   67.26   0.09   66.311088      1.109085\n",
      "2013-07-01  11167.422  101.918   69.21   0.05   67.907534      1.024075\n",
      "2013-10-01  11263.648  102.517   73.59   0.02   71.783216      1.057073\n",
      "2014-01-01  11308.019  102.937   81.04   0.07   78.727766      1.096743\n",
      "2014-04-01  11431.831  103.512   82.61   0.05   79.807172      1.013711\n",
      "2014-07-01  11554.841  103.957   86.61   0.04   83.313293      1.043932\n",
      "2014-10-01  11694.969  104.123   86.59   0.02   83.161261      0.998175\n",
      "2015-01-01  11792.119  104.090   90.82   0.03   87.251417      1.049183\n",
      "2015-04-01  11885.980  104.675   92.43   0.03   88.301887      1.012040\n",
      "2015-07-01  11976.589  105.048   92.43   0.02   87.988348      0.996449\n",
      "2015-10-01  12030.223  105.049   85.57   0.02   81.457225      0.925773\n",
      "2016-01-01  12124.214  104.941   90.61   0.23   86.343755      1.059989\n",
      "2016-04-01  12211.285  105.657   91.35   0.29   86.459014      1.001335\n",
      "2016-07-01  12289.063  106.043   93.95   0.27   88.596136      1.024718\n",
      "2016-10-01  12365.312  106.551   98.21   0.29   92.171824      1.040359\n",
      "2017-01-01  12438.898  107.058  102.42   0.51   95.667769      1.037929\n",
      "2017-04-01  12512.899  107.411  108.27   0.74  100.799732      1.053644\n",
      "2017-07-01  12586.281  107.973  111.48   0.98  103.248034      1.024289\n",
      "2017-10-01  12729.713  108.713  116.50   1.03  107.162897      1.037917\n",
      "2018-01-01  12782.902  109.355  123.92   1.32  113.319007      1.057446\n",
      "2018-04-01  12909.192  110.281  123.05   1.70  111.578604      0.984642\n",
      "2018-07-01  13019.802  110.767  128.11   1.90  115.657190      1.036553\n",
      "2018-10-01  13066.302  111.256  137.15   2.13  123.274250      1.065859\n",
      "2019-01-01  13103.317  111.473  117.37   2.37  105.290070      0.854112\n",
      "2019-04-01  13241.083  112.164  134.07   2.40  119.530331      1.135248\n",
      "\n",
      "[78 rows x 6 columns]\n"
     ]
    }
   ],
   "source": [
    "pcecc = pd.read_csv(\"PCECC96.csv\")\n",
    "W5000 = pd.read_csv(\"WILL5000INDFC.csv\")\n",
    "gdpdef = pd.read_csv(\"GDPDEF.csv\")\n",
    "TB3MS = pd.read_csv(\"TB3MS.csv\")\n",
    "l = [pcecc, gdpdef, W5000, TB3MS]\n",
    "for i, ds in enumerate(l):\n",
    "    ds['DATE'] = pd.to_datetime(ds['DATE'])\n",
    "    ds.set_index('DATE', inplace = True)\n",
    "    ds[ds.columns[0]] = pd.to_numeric(ds[ds.columns[0]], errors='coerce')\n",
    "    if i > 1:\n",
    "        ds = ds.resample('D').asfreq()\n",
    "        ds.fillna(method='ffill', inplace=True)\n",
    "        ds = ds.resample('Q').asfreq()\n",
    "        ds.index = ds.index + pd.DateOffset(1)\n",
    "    if i == 0:\n",
    "        df = ds\n",
    "    else:\n",
    "        df = df.merge(ds, \"outer\", left_index=True, right_index=True) \n",
    "df.dropna(inplace = True)\n",
    "df['W5000_real'] = df['W5000'] / (df['GDPDEF'] / 100)\n",
    "df['W5000_return'] = df['W5000_real'] / df['W5000_real'].shift(1)\n",
    "df.head()\n",
    "\n",
    "print(df)"
   ]
  },
  {
   "cell_type": "code",
   "execution_count": 151,
   "metadata": {},
   "outputs": [
    {
     "data": {
      "text/plain": [
       "array(0.48719535)"
      ]
     },
     "execution_count": 151,
     "metadata": {},
     "output_type": "execute_result"
    }
   ],
   "source": [
    "class Prob1:\n",
    "    def __init__(self, df, beta):\n",
    "        self.df = df\n",
    "        self.beta = beta\n",
    "        self.gamma = 0\n",
    "        \n",
    "    def emp_analogs(self, gamma):\n",
    "        du = self.df['PCECC96'] ** (-gamma)\n",
    "        self.df['M'] = self.beta * (du / du.shift(1))\n",
    "        M = self.df['M'][1:]\n",
    "        R = self.df['W5000_return'][1:]\n",
    "        cov = np.cov(M, R)[0,1]\n",
    "        rv = (1 - cov - M.mean() * R.mean())\n",
    "        return rv\n",
    "    \n",
    "    def find_gamma(self, guess):\n",
    "        gamma = broyden1(self.emp_analogs, guess)\n",
    "        self.gamma = gamma\n",
    "        return gamma\n",
    "        \n",
    "\n",
    "problem1 = Prob1(df, .99)\n",
    "problem1.emp_analogs(1.5)\n",
    "problem1.find_gamma(1.5)        "
   ]
  },
  {
   "cell_type": "markdown",
   "metadata": {},
   "source": [
    "Seems like a reasonable parameter, according to this working paper (http://karlshell.com/wp-content/uploads/2015/09/WebPage.pdf) estimates normally range from 1 - 4 with a mean of 2 so .48, while a bit low is not beyond the realm of possibility. It is also hard to know because the data are likely compromised due to market fluctuations around the great recession. "
   ]
  },
  {
   "cell_type": "markdown",
   "metadata": {},
   "source": [
    "$$ 1+r_{f}=\\frac{1}{E\\left[m_{t+1} | \\Omega_{t}\\right]} $$"
   ]
  },
  {
   "cell_type": "code",
   "execution_count": 168,
   "metadata": {},
   "outputs": [
    {
     "data": {
      "text/plain": [
       "array(1.00475361)"
      ]
     },
     "execution_count": 168,
     "metadata": {},
     "output_type": "execute_result"
    }
   ],
   "source": [
    "class Prob3:\n",
    "    def __init__(self, df, beta):\n",
    "        self.df = df\n",
    "        self.beta = beta\n",
    "        self.gamma = 0\n",
    "        \n",
    "    def risk_free_obj(self, gamma):\n",
    "        du = self.df['PCECC96'] ** (-gamma)\n",
    "        self.df['M'] = self.beta * (du / du.shift(1))\n",
    "        M = self.df['M'][1:]\n",
    "        rf = (self.df['TB3MS'][1:]) / 100\n",
    "        rv = 1 + rf.mean() - 1/M.mean()\n",
    "        # rv = np.sum(eq ** 2)\n",
    "        return rv\n",
    "    \n",
    "    def find_gamma(self, guess):\n",
    "        gamma = broyden1(self.risk_free_obj, guess)\n",
    "        self.gamma = gamma\n",
    "        return gamma\n",
    "\n",
    "\n",
    "\n",
    "problem3 = Prob3(df, .99)\n",
    "problem3.find_gamma(3.5)   "
   ]
  },
  {
   "cell_type": "markdown",
   "metadata": {},
   "source": [
    "This value is significantly higher than the last one was and is more reasonable as an estimate"
   ]
  },
  {
   "cell_type": "code",
   "execution_count": 178,
   "metadata": {},
   "outputs": [
    {
     "data": {
      "text/plain": [
       "array([-59.46324968,   0.67836582])"
      ]
     },
     "execution_count": 178,
     "metadata": {},
     "output_type": "execute_result"
    }
   ],
   "source": [
    "class Prob4:\n",
    "    def __init__(self, df):\n",
    "        self.df = df\n",
    "        self.beta = 0\n",
    "        self.gamma = 0\n",
    "        \n",
    "    def both(self, v):\n",
    "        gamma, beta = v\n",
    "        rv = []\n",
    "        du = self.df['PCECC96'] ** (-gamma)\n",
    "        # Condition 1 \n",
    "        self.df['M'] = beta * (du / du.shift(1))\n",
    "        M = self.df['M'][1:]\n",
    "        R = self.df['W5000_return'][1:]\n",
    "        cov = np.cov(M, R)[0,1]\n",
    "        rv.append(1 - cov - M.mean() * R.mean())\n",
    "        #Condition 2\n",
    "        rf = (self.df['TB3MS'][1:]) / 100\n",
    "        rv.append(1 + rf.mean() - 1/M.mean())\n",
    "        return rv\n",
    "    \n",
    "        \n",
    "    def find_gamma(self, guess):\n",
    "        rv = broyden1(self.both, guess)\n",
    "        self.gamma = rv[0]\n",
    "        self.beta = rv[1]\n",
    "        return rv\n",
    "    \n",
    "problem4 = Prob4(df)\n",
    "problem4.find_gamma((1, 1)) "
   ]
  },
  {
   "cell_type": "code",
   "execution_count": null,
   "metadata": {},
   "outputs": [],
   "source": []
  }
 ],
 "metadata": {
  "kernelspec": {
   "display_name": "Python 3",
   "language": "python",
   "name": "python3"
  },
  "language_info": {
   "codemirror_mode": {
    "name": "ipython",
    "version": 3
   },
   "file_extension": ".py",
   "mimetype": "text/x-python",
   "name": "python",
   "nbconvert_exporter": "python",
   "pygments_lexer": "ipython3",
   "version": "3.7.3"
  }
 },
 "nbformat": 4,
 "nbformat_minor": 2
}
