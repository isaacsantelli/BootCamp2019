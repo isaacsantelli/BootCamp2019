{
 "cells": [
  {
   "cell_type": "markdown",
   "metadata": {},
   "source": [
    "### Find SS"
   ]
  },
  {
   "cell_type": "code",
   "execution_count": 10,
   "metadata": {},
   "outputs": [
    {
     "name": "stdout",
     "output_type": "stream",
     "text": [
      "[[0.9 0.1]\n",
      " [0.9 0.1]]\n"
     ]
    }
   ],
   "source": [
    "import numpy as np\n",
    "from scipy.optimize import root\n",
    "from matplotlib import pyplot as plt\n",
    "import time\n",
    "\n",
    "b = .96\n",
    "d = 0.06\n",
    "a = .36\n",
    "SStol = 1.E-10\n",
    "lbar = .90\n",
    "pi_11 = .9 \n",
    "pi_12 = 1 - pi_11\n",
    "pi_21 = (lbar - (lbar * pi_11))/(1-lbar)\n",
    "pi_22 = ((1-lbar) - (lbar * pi_12))/(1-lbar)\n",
    "PI = np.array([[pi_11, pi_12], [pi_21, pi_22]])\n",
    "print(PI)\n"
   ]
  },
  {
   "cell_type": "code",
   "execution_count": 12,
   "metadata": {},
   "outputs": [
    {
     "name": "stdout",
     "output_type": "stream",
     "text": [
      "K_ss 7.211176392599507\n",
      "r_ss 0.09503723459520197\n",
      "w_ss 1.3537387901844178\n"
     ]
    }
   ],
   "source": [
    "params = (b, a, d)\n",
    "def funcfact(params):\n",
    "    def utility(c):\n",
    "        '''\n",
    "        utility function\n",
    "        Inputs:\n",
    "            consumption\n",
    "        Outputs\n",
    "        '''\n",
    "        if (c <= 0):\n",
    "            return -9999999\n",
    "        else:\n",
    "            u = log(c)\n",
    "            return u\n",
    "    def du(c):\n",
    "        '''\n",
    "        utility function\n",
    "        Inputs:\n",
    "            consumption\n",
    "        Outputs\n",
    "        '''\n",
    "        if (c <= 0): return -99999999\n",
    "        else:\n",
    "            return (1/c)\n",
    "    \n",
    "    def compute_r(k, u):\n",
    "        b, a, d = params \n",
    "        r = a*(k**(a-1))*(1-u)**(1-a)\n",
    "        return r\n",
    "        \n",
    "    def compute_w(k, u):\n",
    "        b, a, d = params \n",
    "        w = (1-a)*(k**(a))*(1-u)**(-a) \n",
    "        return w\n",
    "    \n",
    "    \n",
    "    return utility, du, compute_r, compute_w\n",
    "\n",
    "\n",
    "        \n",
    "u, du, comp_r, comp_w = funcfact(params)\n",
    "\n",
    "k_bar = ((a*b)/(1-b*(1-d)))**(1/(1-a))\n",
    "r_bar = comp_r(k_bar, 1-lbar)\n",
    "w_bar = comp_w(k_bar, 1-lbar)\n",
    "print(\"K_ss\", k_bar)\n",
    "print(\"r_ss\", r_bar)\n",
    "print(\"w_ss\", w_bar)\n"
   ]
  },
  {
   "cell_type": "code",
   "execution_count": 13,
   "metadata": {},
   "outputs": [],
   "source": [
    "def smith(k, k1, v, eps, Pi):\n",
    "    '''\n",
    "    Objective Function Value\n",
    "    Given a specific k_index which will refer to a \n",
    "    '''\n",
    "    val = np.zeros_like(k1)\n",
    "    c = \n",
    "    val[c <= 0] = -999999\n",
    "    val[c > 0] = np.log(c[c > 0]) + \\\n",
    "        beta*(Pi[1-eps][0] * v[c > 0][0] + Pi[1-eps][1] *v[c > 0][1])\n",
    "    return val\n",
    "\n",
    "def smith(max_iterations, tol, Pi):\n",
    "    k_grid = np.linspace(.001, 40, 200)           # Array of Admissable capital levels \n",
    "    eps_grid = [0, 1]\n",
    "    ## Upper Case V denotes the average of the two states, lower case v denotes state specific value\n",
    "    V = np.zeros_like(k_grid)                     # (1, grid_size) dim vector of the value functions \n",
    "    v = np.zeros([len(k_grid), len(eps_grid)])      # (2, grid_size) array of the value functions by state\n",
    "    diff_list = []                                # diff_list\n",
    "    pol = np.zeros_like(v)                        # (2, grid_size) array of policy functions by state \n",
    "    plot_int = 50                                 # Plotting Frequency\n",
    "    \n",
    "    for itera in range(max_iterations):\n",
    "        V_new = np.zeros_like(V)\n",
    "        v_new = np.zeros_like(v)\n",
    "        for i, k in enumerate(k_grid):\n",
    "            for j, eps in enumerate(eps_grid):\n",
    "                val = objective(k, k_grid, v, s)\n",
    "                v_new[i, j] = np.amax(val)\n",
    "                pol[i, j] = k_grid[np.argmax(val)]\n",
    "            V_new[i] = pi*v_new[i, 0] + pi*v_new[i, 1]\n",
    "            \n",
    "            \n",
    "        diff = np.amax(abs(v_new - v))\n",
    "        diff_list.append(diff)\n",
    "        V = np.copy(V_new)\n",
    "        v = np.copy(v_new)\n",
    "        \n",
    "        if (diff < tol):\n",
    "            print('Converged after iteration {}'.format(itera +1))\n",
    "            plt.figure()\n",
    "            plt.plot(k_grid, v[:, 0], label = \"Bad Shock (1)\")\n",
    "            plt.plot(k_grid, v[:, 1], label = \"Good Shock (2)\")\n",
    "            plt.legend(loc=\"lower right\")\n",
    "            plt.xlabel('k')\n",
    "            plt.ylabel('V(k)')\n",
    "            plt.title('Value function after convergence')\n",
    "            plt.show();\n",
    "            \n",
    "            \n",
    "            plt.figure()\n",
    "            plt.plot(np.linspace(.001, 10, grid_size), pol[:,0], label = \"Bad Shock (1)\")\n",
    "            plt.plot(np.linspace(.001, 10, grid_size), pol[:,1], label = \"Good Shock (2)\")\n",
    "            plt.legend(loc=\"lower right\")\n",
    "            plt.xlabel('k')\n",
    "            plt.ylabel('k\\'')\n",
    "            plt.title('Value function after convergence')\n",
    "            plt.show();\n",
    "            break\n",
    "            \n",
    "        elif (itera % plot_int == 1 ):\n",
    "            plt.figure()\n",
    "            plt.plot(np.arange(1, itera+2), np.log10(np.array(diff_list)))\n",
    "            plt.xlabel('Iteration')\n",
    "            plt.ylabel('Maximum update [log10]')\n",
    "            plt.show();\n",
    "\n"
   ]
  },
  {
   "cell_type": "code",
   "execution_count": null,
   "metadata": {},
   "outputs": [],
   "source": []
  }
 ],
 "metadata": {
  "kernelspec": {
   "display_name": "Python 3",
   "language": "python",
   "name": "python3"
  },
  "language_info": {
   "codemirror_mode": {
    "name": "ipython",
    "version": 3
   },
   "file_extension": ".py",
   "mimetype": "text/x-python",
   "name": "python",
   "nbconvert_exporter": "python",
   "pygments_lexer": "ipython3",
   "version": "3.7.3"
  }
 },
 "nbformat": 4,
 "nbformat_minor": 2
}
