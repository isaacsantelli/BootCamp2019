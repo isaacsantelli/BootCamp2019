{
 "cells": [
  {
   "cell_type": "markdown",
   "metadata": {},
   "source": [
    "### Find SS"
   ]
  },
  {
   "cell_type": "code",
   "execution_count": 13,
   "metadata": {},
   "outputs": [
    {
     "name": "stdout",
     "output_type": "stream",
     "text": [
      "[[ 0.9  0.1]\n",
      " [ 1.9 -0.9]]\n"
     ]
    }
   ],
   "source": [
    "import numpy as np\n",
    "from scipy.optimize import root\n",
    "from matplotlib import pyplot as plt\n",
    "import time\n",
    "\n",
    "beta = .96\n",
    "delta = 0.06\n",
    "A = 1\n",
    "alpha = .36\n",
    "SStol = 1.E-10\n",
    "xi = .4\n",
    "lbar = .95\n",
    "pi_11 = .9 \n",
    "pi_12 = 1 - pi_11\n",
    "pi_21 = (lbar - (lbar * pi_11))/(1-lbar)\n",
    "pi_22 = ((1-lbar) - (lbar * pi_12))/(1-lbar)\n",
    "PI = np.array([[pi_11, pi_12], [pi_21, pi_22]])\n",
    "print(PI)\n"
   ]
  },
  {
   "cell_type": "code",
   "execution_count": 14,
   "metadata": {},
   "outputs": [],
   "source": [
    "def modeldef(K, beta, L, A, alpha, delta, PI):\n",
    "    '''\n",
    "        Defines the model\n",
    "        Inputs:\n",
    "            v - vector of solutions \n",
    "            beta - discount rate\n",
    "            sigma - rate of relative risk aversion\n",
    "            nvec - how much each population works \n",
    "            L - aggregate labor \n",
    "            A - technology\n",
    "            alpha - capital share\n",
    "            delta - depreciation\n",
    "        Return:\n",
    "            list of functions\n",
    "    '''\n",
    "    r = ( ( alpha * A * ( (L / K))**(1-alpha) ))\n",
    "    w = (  (1-alpha) * A * ( ( K / L)**(alpha) ) )\n",
    "\n"
   ]
  },
  {
   "cell_type": "code",
   "execution_count": null,
   "metadata": {},
   "outputs": [],
   "source": []
  }
 ],
 "metadata": {
  "kernelspec": {
   "display_name": "Python 3",
   "language": "python",
   "name": "python3"
  },
  "language_info": {
   "codemirror_mode": {
    "name": "ipython",
    "version": 3
   },
   "file_extension": ".py",
   "mimetype": "text/x-python",
   "name": "python",
   "nbconvert_exporter": "python",
   "pygments_lexer": "ipython3",
   "version": "3.7.3"
  }
 },
 "nbformat": 4,
 "nbformat_minor": 2
}
