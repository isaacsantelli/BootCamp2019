{
 "cells": [
  {
   "cell_type": "code",
   "execution_count": 1,
   "metadata": {},
   "outputs": [],
   "source": [
    "import numpy as np\n",
    "import scipy as sy\n",
    "from scipy.optimize import root\n",
    "from matplotlib import pyplot as plt"
   ]
  },
  {
   "cell_type": "code",
   "execution_count": 41,
   "metadata": {},
   "outputs": [
    {
     "data": {
      "text/plain": [
       "array([1.48450482, 7.28749795, 1.32795277, 0.12148228, 0.07422524])"
      ]
     },
     "execution_count": 41,
     "metadata": {},
     "output_type": "execute_result"
    }
   ],
   "source": [
    "def equations5(v, g, b, a, d, z, tau, l):\n",
    "    c, k, w, r, T = v\n",
    "    rv = []\n",
    "    rv.append( (1 - tau)* ((w)+(r-d)*k) + k + T - c - k)\n",
    "    rv.append( b * (c ** (-g)) * ((1-tau)*(r-d) + 1 ) - (c ** (-g)) )\n",
    "    rv.append( a * (k**(a-1)) * ((np.exp(z))**(1-a)) - r)\n",
    "    rv.append( (1-a)*((np.exp(z))**(1-a))*(k**a)*(l**(-a)) - w )\n",
    "    rv.append( (tau*(w + (r-d)*k)) - T )\n",
    "    return rv\n",
    "\n",
    "\n",
    "def solver5(g):\n",
    "    rv =  root(equations5, [.5, .5, .5, .5, .5], method = 'hybr', args=(g) ).x\n",
    "    return rv\n",
    "\n",
    "params =  (2.5, .98, .40, .10, 0, .05, 1)\n",
    "solver5(params)"
   ]
  },
  {
   "cell_type": "code",
   "execution_count": 52,
   "metadata": {},
   "outputs": [
    {
     "data": {
      "text/plain": [
       "-0.15655207146132533"
      ]
     },
     "execution_count": 52,
     "metadata": {},
     "output_type": "execute_result"
    }
   ],
   "source": [
    "7.28749795 - 7.28749795*(1+0.12148228-.1)"
   ]
  },
  {
   "cell_type": "code",
   "execution_count": null,
   "metadata": {},
   "outputs": [],
   "source": []
  }
 ],
 "metadata": {
  "kernelspec": {
   "display_name": "Python 3",
   "language": "python",
   "name": "python3"
  },
  "language_info": {
   "codemirror_mode": {
    "name": "ipython",
    "version": 3
   },
   "file_extension": ".py",
   "mimetype": "text/x-python",
   "name": "python",
   "nbconvert_exporter": "python",
   "pygments_lexer": "ipython3",
   "version": "3.7.3"
  }
 },
 "nbformat": 4,
 "nbformat_minor": 2
}
