{
 "cells": [
  {
   "cell_type": "code",
   "execution_count": 1,
   "metadata": {},
   "outputs": [],
   "source": [
    "import numpy as np\n",
    "import scipy as sy\n",
    "from scipy.optimize import root\n",
    "from matplotlib import pyplot as plt"
   ]
  },
  {
   "cell_type": "code",
   "execution_count": 70,
   "metadata": {},
   "outputs": [
    {
     "name": "stdout",
     "output_type": "stream",
     "text": [
      "SS Consumption:     1.4845048188489733\n",
      "SS Capital:         7.287497950681609\n",
      "SS Wage:            1.327952768350565\n",
      "SS Rental Price:    0.12148227712141836\n",
      "SS Total Tax:       0.07422524094244867\n",
      "SS Production:      2.2132546139174605\n",
      "SS Investment:      -0.15655205049831\n"
     ]
    }
   ],
   "source": [
    "def equations5(v, g, b, a, d, z, tau, l):\n",
    "    c, k, w, r, T = v\n",
    "    rv = []\n",
    "    rv.append( (1 - tau)* ((w)+(r-d)*k) + k + T - c - k)\n",
    "    rv.append( b * (c ** (-g)) * ((1-tau)*(r-d) + 1 ) - (c ** (-g)) )\n",
    "    rv.append( a * (k**(a-1)) * ((np.exp(z))**(1-a)) - r)\n",
    "    rv.append( (1-a)*((np.exp(z))**(1-a))*(k**a)*(l**(-a)) - w )\n",
    "    rv.append( (tau*(w + (r-d)*k)) - T )\n",
    "    return rv\n",
    "\n",
    "\n",
    "def solver5(g):\n",
    "    rv =  root(equations5, [.5, .5, .5, .5, .5], method = 'hybr', args=(g) ).x\n",
    "    return rv\n",
    "\n",
    "class Solution5:\n",
    "    def __init__(self, arr, params):\n",
    "        self.c = arr[0]\n",
    "        self.k = arr[1]\n",
    "        self.w = arr[2]\n",
    "        self.r = arr[3]\n",
    "        self.T = arr[4]\n",
    "        self.params = params\n",
    "        self.F = self.k ** params[2]\n",
    "        self.I = self.k - self.k*(1 + self.r - params[3])\n",
    "     \n",
    "    def __str__(self):\n",
    "        rv = []\n",
    "        rv.append('{:<20}{}'.format('SS Consumption:', self.c))\n",
    "        rv.append('{:<20}{}'.format('SS Capital:', self.k))\n",
    "        rv.append('{:<20}{}'.format('SS Wage:', self.w))\n",
    "        rv.append('{:<20}{}'.format('SS Rental Price:', self.r))\n",
    "        rv.append('{:<20}{}'.format('SS Total Tax:', self.T))\n",
    "        rv.append('{:<20}{}'.format('SS Production:', self.F))\n",
    "        rv.append('{:<20}{}'.format('SS Investment:', self.I))\n",
    "        return '\\n'.join(rv)\n",
    "\n",
    "params =  (2.5, .98, .40, .10, 0, .05, 1)\n",
    "sol5 = Solution5(solver5(params), params)\n",
    "print(sol5)"
   ]
  },
  {
   "cell_type": "code",
   "execution_count": 60,
   "metadata": {},
   "outputs": [
    {
     "name": "stdout",
     "output_type": "stream",
     "text": [
      "Steady State Production: 2.213254613834657\n",
      "Steady State Investment: -0.15655207146132533\n"
     ]
    }
   ],
   "source": [
    "SS_F = 7.28749795 ** .4 \n",
    "I =7.28749795 - 7.28749795*(1 + 0.12148228 - .1)\n",
    "print(\"Steady State Production: {}\".format(SS_F))\n",
    "print(\"Steady State Investment: {}\".format(I))"
   ]
  },
  {
   "cell_type": "code",
   "execution_count": 71,
   "metadata": {},
   "outputs": [
    {
     "name": "stdout",
     "output_type": "stream",
     "text": [
      "SS Consumption:     0.8736222632735602\n",
      "SS Labor:           0.5692268086282318\n",
      "SS Capital:         4.148239196451757\n",
      "SS Wage:            1.3279527671032991\n",
      "SS Rental Price:    0.12148227722846389\n",
      "SS Total Tax:       0.07085331958234381\n",
      "SS Production:      1.7666296550128797\n",
      "SS Investment:      -0.08911362442815651\n"
     ]
    }
   ],
   "source": [
    "def equations6(v, g, eta, b, a, A, d, z, tau):\n",
    "    c, k, w, r, T, l = v\n",
    "    rv = []\n",
    "    rv.append( (1 - tau)* ((w*l)+(r-d)*k) + k + T - c - k)\n",
    "    rv.append( b * (c ** (-g)) * ((1-tau)*(r-d) + 1 ) - (c ** (-g)) )\n",
    "    rv.append( ((1-tau) * w * (c**(-g))) - (A * ((1-l)**(-eta))) )\n",
    "    rv.append( a * (k**(a-1)) * (l**(1-a)) - r)\n",
    "    rv.append( (1-a) * (k**a) * (l**(-a)) - w )\n",
    "    rv.append( (tau*(w + (r-d)*k)) - T )\n",
    "    return rv\n",
    "\n",
    "\n",
    "def solver6(g):\n",
    "    rv =  root(equations6, [.5, .5, .5, .5, .5, .5], method = 'hybr', args=(g) ).x\n",
    "    return rv\n",
    "\n",
    "class Solution6:\n",
    "    def __init__(self, arr, params):\n",
    "        self.c = arr[0]\n",
    "        self.k = arr[1]\n",
    "        self.w = arr[2]\n",
    "        self.r = arr[3]\n",
    "        self.T = arr[4]\n",
    "        self.l = arr[5]\n",
    "        self.params = params\n",
    "        self.F = self.k ** params[3]\n",
    "        self.I = self.k - self.k*(1 + self.r - params[5])\n",
    "     \n",
    "    def __str__(self):\n",
    "        rv = []\n",
    "        rv.append('{:<20}{}'.format('SS Consumption:', self.c))\n",
    "        rv.append('{:<20}{}'.format('SS Labor:', self.l))\n",
    "        rv.append('{:<20}{}'.format('SS Capital:', self.k))\n",
    "        rv.append('{:<20}{}'.format('SS Wage:', self.w))\n",
    "        rv.append('{:<20}{}'.format('SS Rental Price:', self.r))\n",
    "        rv.append('{:<20}{}'.format('SS Total Tax:', self.T))\n",
    "        rv.append('{:<20}{}'.format('SS Production:', self.F))\n",
    "        rv.append('{:<20}{}'.format('SS Investment:', self.I))\n",
    "        return '\\n'.join(rv)\n",
    "\n",
    "params =  (2.5, 1.5, .98, .40, .5, .10, 0, .05)\n",
    "sol6 = Solution6(solver6(params), params)\n",
    "print(sol6)"
   ]
  },
  {
   "cell_type": "code",
   "execution_count": null,
   "metadata": {},
   "outputs": [],
   "source": []
  }
 ],
 "metadata": {
  "kernelspec": {
   "display_name": "Python 3",
   "language": "python",
   "name": "python3"
  },
  "language_info": {
   "codemirror_mode": {
    "name": "ipython",
    "version": 3
   },
   "file_extension": ".py",
   "mimetype": "text/x-python",
   "name": "python",
   "nbconvert_exporter": "python",
   "pygments_lexer": "ipython3",
   "version": "3.7.3"
  }
 },
 "nbformat": 4,
 "nbformat_minor": 2
}
