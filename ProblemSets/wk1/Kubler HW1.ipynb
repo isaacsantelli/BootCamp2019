{
 "cells": [
  {
   "cell_type": "code",
   "execution_count": null,
   "metadata": {},
   "outputs": [],
   "source": [
    "import numpy as np\n",
    "import scipy as sy\n",
    "from scipy.optimize import root\n"
   ]
  },
  {
   "cell_type": "markdown",
   "metadata": {},
   "source": [
    "Problem 1"
   ]
  },
  {
   "cell_type": "code",
   "execution_count": 39,
   "metadata": {},
   "outputs": [
    {
     "name": "stdout",
     "output_type": "stream",
     "text": [
      "Gamma: 2\n",
      "H1, Asset 1:        0.019540665546350387\n",
      "H1, Asset 2:        -5.997142761502882e-12\n",
      "H2, Asset 1:        -0.019540665546350387\n",
      "H2, Asset 2:        5.997142751453827e-12\n",
      "Asset 1, Price:     0.5897776558197745\n",
      "Asset 2, Price:     0.7372220697751221\n",
      "\n",
      " \n",
      "\n",
      "Gamma: 4\n",
      "H1, Asset 1:        0.004029823681645771\n",
      "H1, Asset 2:        -4.520386315367643e-11\n",
      "H2, Asset 1:        -0.00402982368164577\n",
      "H2, Asset 2:        4.5203863368132257e-11\n",
      "Asset 1, Price:     0.5186613028541645\n",
      "Asset 2, Price:     0.6483266285778475\n",
      "\n",
      " \n",
      "\n",
      "Gamma: 8\n",
      "H1, Asset 1:        0.0001560941529999874\n",
      "H1, Asset 2:        4.338013916463119e-13\n",
      "H2, Asset 1:        -0.0001560941529999874\n",
      "H2, Asset 2:        -4.3380139189834673e-13\n",
      "Asset 1, Price:     0.5010144010354313\n",
      "Asset 2, Price:     0.626268001293289\n",
      "\n",
      " \n",
      "\n",
      "Gamma: 166\n",
      "H1, Asset 1:        6.502492716803548\n",
      "H1, Asset 2:        4.074527337326263\n",
      "H2, Asset 1:        -6.502492716803548\n",
      "H2, Asset 2:        -4.074527337326263\n",
      "Asset 1, Price:     -2.524271258962357e-24\n",
      "Asset 2, Price:     2.5116682507401988e-24\n"
     ]
    }
   ],
   "source": [
    "def equations1(v, g):\n",
    "    '''\n",
    "    Function which defines and output a list of functions defining the solution to the model\n",
    "    Inputs: \n",
    "        v: vector of inputs to the function\n",
    "    Output:\n",
    "        rv: list of functions\n",
    "    '''\n",
    "    a_1_1, a_2_1, a_1_2, a_2_2, r_1, r_2 = v\n",
    "    rv = []\n",
    "    f_a_1_1 = (-r_1*(1- (r_1 * a_1_1) + (r_2 * a_2_1))** -g + \n",
    "            .25 * ( (1+a_1_1+a_2_1)**-g + (2+a_1_1+a_2_1)**-g + \n",
    "            (1+a_1_1+1.5*a_2_1)**-g  + (2+a_1_1+1.5*a_2_1)**-g ) ) \n",
    "    rv.append(f_a_1_1)\n",
    "    \n",
    "    f_a_2_1 = (-r_2*(1- (r_1 * a_1_1) + (r_2 * a_2_1))**-g + \n",
    "            .25 * ( (1+a_1_1+a_2_1)**-g + (2+a_1_1+a_2_1)**-g + \n",
    "            1.5*(1+a_1_1+1.5*a_2_1)**-g  + 1.5*(2+a_1_1+1.5*a_2_1)**-g ) )\n",
    "    rv.append(f_a_2_1)\n",
    "    \n",
    "    f_a_1_2 = (-r_1*(1- (r_1 * a_1_2) + (r_2 * a_2_2))** -g + \n",
    "            .25 * ( (3+a_1_2+a_2_2)**-g + (1+a_1_2+a_2_2)**-g + \n",
    "            (3+a_1_2+1.5*a_2_2)**-g  + (1+a_1_2+1.5*a_2_2)**-g ) )\n",
    "    rv.append(f_a_1_2)\n",
    "    \n",
    "    f_a_2_2 = (-r_2*(1- (r_1 * a_1_2) + (r_2 * a_2_2))** -g + \n",
    "            .25 * ( (3+a_1_2+a_2_2)**-g + (1+a_1_2+a_2_2)**-g + \n",
    "            1.5*(3+a_1_2+1.5*a_2_2)**-g  + 1.5*(1+a_1_2+1.5*a_2_2)**-g ) ) \n",
    "    rv.append(f_a_2_2)\n",
    "    rv.append(a_1_1 + a_1_2)\n",
    "    rv.append(a_2_1 + a_2_2)\n",
    "    return rv \n",
    "\n",
    "def solver1(g):\n",
    "    rv =  root(equations1, [.5, .5, .5, .5, .5, .5], method = 'hybr', args=(g)).x\n",
    "    return rv\n",
    "\n",
    "class Solution1:\n",
    "    def __init__(self, arr):\n",
    "        self.A11 = arr[0]\n",
    "        self.A21 = arr[1]\n",
    "        self.A12 = arr[2]\n",
    "        self.A22 = arr[3]\n",
    "        self.R1 = arr[4]\n",
    "        self.R2 = arr[5]\n",
    "     \n",
    "    def __str__(self):\n",
    "        rv = []\n",
    "        rv.append('{:<20}{}'.format('H1, Asset 1:', self.A11))\n",
    "        rv.append('{:<20}{}'.format('H1, Asset 2:', self.A21))\n",
    "        rv.append('{:<20}{}'.format('H2, Asset 1:', self.A12))\n",
    "        rv.append('{:<20}{}'.format('H2, Asset 2:', self.A22))\n",
    "        rv.append('{:<20}{}'.format('Asset 1, Price:', self.R1))\n",
    "        rv.append('{:<20}{}'.format('Asset 2, Price:', self.R2))\n",
    "        return '\\n'.join(rv)\n",
    "    \n",
    "\n",
    "for g in [2, 4, 8, 166]:\n",
    "    print(\"Gamma: {}\".format(g))\n",
    "    tmp = Solution1(solver1(g))\n",
    "    print(tmp)\n",
    "    if g < 100:\n",
    "        print('\\n \\n')\n",
    "    "
   ]
  },
  {
   "cell_type": "markdown",
   "metadata": {},
   "source": [
    "Problem 3"
   ]
  },
  {
   "cell_type": "code",
   "execution_count": null,
   "metadata": {},
   "outputs": [],
   "source": []
  }
 ],
 "metadata": {
  "kernelspec": {
   "display_name": "Python 3",
   "language": "python",
   "name": "python3"
  },
  "language_info": {
   "codemirror_mode": {
    "name": "ipython",
    "version": 3
   },
   "file_extension": ".py",
   "mimetype": "text/x-python",
   "name": "python",
   "nbconvert_exporter": "python",
   "pygments_lexer": "ipython3",
   "version": "3.7.3"
  }
 },
 "nbformat": 4,
 "nbformat_minor": 2
}
