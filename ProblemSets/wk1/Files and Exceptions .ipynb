{
 "cells": [
  {
   "cell_type": "code",
   "execution_count": 1,
   "metadata": {},
   "outputs": [],
   "source": [
    "def arithmagic():\n",
    "    step_1 = input(\"Enter a 3-digit number where the first and last \"\n",
    "                                           \"digits differ by 2 or more: \")\n",
    "    step_2 = input(\"Enter the reverse of the first number, obtained \"\n",
    "                                              \"by reading it backwards: \")\n",
    "    step_3 = input(\"Enter the positive difference of these numbers: \")\n",
    "    step_4 = input(\"Enter the reverse of the previous result: \")\n",
    "    print(str(step_3), \"+\", str(step_4), \"= 1089 (ta-da!)\")"
   ]
  },
  {
   "cell_type": "code",
   "execution_count": 2,
   "metadata": {},
   "outputs": [],
   "source": [
    "def arithmagic1():\n",
    "    step_1 = int(input(\"Enter a 3-digit number where the first and last \"\n",
    "                                           \"digits differ by 2 or more: \"))\n",
    "    if (step_1 > 999 or step_1 < 100 or step_1 - int(step_1) != 0):\n",
    "        raise ValueError(\"Must be a 3 digit number\")\n",
    "\n",
    "    if (abs((step_1 // 100) - (step_1 % 10)) < 2):\n",
    "        raise ValueError(\"The first number’s first and last digits differ by less than 2.\")\n",
    "        \n",
    "    step_2 = int(input(\"Enter the reverse of the first number, obtained \"\n",
    "                                                 \"by reading it backwards: \"))\n",
    "    if (step_1 // 100 != step_2 % 10 or \n",
    "        (step_1 // 10) % 10 != (step_2 // 10) % 10 or \n",
    "        step_2 // 100 != step_1 % 10):\n",
    "        raise ValueError(\"The second number (step_2) is not the reverse of the first number.\")    \n",
    "    \n",
    "    step_3 = int(input(\"Enter the positive difference of these numbers: \"))\n",
    "    if (step_3 != abs(step_1 - step_2)):\n",
    "        raise ValueError(\"The third number (step_3) is not the positive difference of the first two numbers.\")\n",
    "    \n",
    "    step_4 = int(input(\"Enter the reverse of the previous result: \"))\n",
    "    if (step_3 // 100 != step_4 % 10 or \n",
    "        (step_3 // 10) % 10 != (step_4 // 10) % 10 or \n",
    "        step_4 // 100 != step_3 % 10):\n",
    "        raise ValueError(\"The fourth number (step_4) is not the reverse of the third number.\")  \n",
    "    \n",
    "    print(str(step_3), \"+\", str(step_4), \"= 1089 (ta-da!)\")"
   ]
  },
  {
   "cell_type": "code",
   "execution_count": 5,
   "metadata": {},
   "outputs": [
    {
     "name": "stdout",
     "output_type": "stream",
     "text": [
      "Enter a 3-digit number where the first and last digits differ by 2 or more: 123\n",
      "Enter the reverse of the first number, obtained by reading it backwards: 321\n",
      "Enter the positive difference of these numbers: 198\n",
      "Enter the reverse of the previous result: 891\n",
      "198 + 891 = 1089 (ta-da!)\n"
     ]
    }
   ],
   "source": [
    "arithmagic1()"
   ]
  },
  {
   "cell_type": "markdown",
   "metadata": {},
   "source": [
    "Problem 2"
   ]
  },
  {
   "cell_type": "code",
   "execution_count": 18,
   "metadata": {},
   "outputs": [],
   "source": [
    "from random import choice\n",
    "def random_walk(max_iters=1e12):\n",
    "    walk = 0\n",
    "    directions = [1, -1]\n",
    "    for i in range(int(max_iters)):\n",
    "        try:\n",
    "            walk += choice(directions)\n",
    "        except (KeyboardInterrupt, SystemExit):\n",
    "            print(\"Process interrupted at iteration {}\".format(i))\n",
    "            raise\n",
    "    return walk"
   ]
  },
  {
   "cell_type": "markdown",
   "metadata": {},
   "source": [
    "Problem 3 & 4"
   ]
  },
  {
   "cell_type": "code",
   "execution_count": 356,
   "metadata": {},
   "outputs": [],
   "source": [
    "class ContentFilter:\n",
    "    def __init__(self, filename):\n",
    "        while True: \n",
    "            try:\n",
    "                with open(filename, 'r') as content:\n",
    "                    self.string = content.read()\n",
    "            except:\n",
    "                filename = input(\"Please enter a valid file name: \")\n",
    "            else: \n",
    "                break\n",
    "        self.name = filename\n",
    "        \n",
    "    def __str__(self):\n",
    "        rv = []\n",
    "        rv.append('{:<25}{}'.format('Source File:', self.name))\n",
    "        rv.append('{:<25}{}'.format('Total characters:', len(self.string)))\n",
    "        rv.append('{:<25}{}'.format('Alphabetic characters:', sum([s.isalpha() for s in self.string])))\n",
    "        rv.append('{:<25}{}'.format('Numeric characters:', sum([s.isdigit() for s in self.string])))\n",
    "        rv.append('{:<25}{}'.format('Whitespace characters:', sum([s.isspace() for s in self.string])))\n",
    "        tmp = 0\n",
    "        for s in self.string:\n",
    "            if s == '\\n':\n",
    "                tmp += 1 \n",
    "        rv.append('{:<25}{}'.format('Whitespace characters:', tmp))\n",
    "        return '\\n'.join(rv)\n",
    "        \n",
    "    def uniform(self, writefile, mode = None, case= None):\n",
    "        if mode is None:\n",
    "            mode = 'w'\n",
    "        if case is None:\n",
    "            case = \"upper\"\n",
    "        if (mode != 'w' and mode != 'x' and mode != 'a'):\n",
    "            raise ValueError(\"Filemode must be w,x, or a\")\n",
    "        file = open(writefile, mode)\n",
    "        if (case == \"upper\"):\n",
    "            file.write(self.string.upper())\n",
    "        elif (case == \"lower\"):\n",
    "            file.write(self.string.lower())\n",
    "        else:\n",
    "            raise ValueError(\"case must be upper or lower\")\n",
    "        file.close()\n",
    "        \n",
    "    def reverse(self, writefile, mode = None, unit = None):\n",
    "        if mode is None:\n",
    "            mode = 'w'\n",
    "        if unit is None:\n",
    "            unit = \"line\"\n",
    "        if (mode != 'w' and mode != 'x' and mode != 'a'):\n",
    "            raise ValueError(\"Filemode must be w,x, or a\")\n",
    "        file = open(writefile, mode)\n",
    "        if (unit == \"line\"):\n",
    "            lines = self.string.split(\"\\n\")\n",
    "            for i in range(len(lines)):\n",
    "                file.write(lines[len(lines) - i - 1])\n",
    "                file.write(\"\\n\")\n",
    "        elif (unit == \"word\"):\n",
    "            lines = self.string.split(\"\\n\")\n",
    "            lines1 = []\n",
    "            for line in lines:\n",
    "                tmp = line.split()\n",
    "                lines1.append(tmp)\n",
    "            for line in lines1:\n",
    "                for i in range(len(line)):\n",
    "                    file.write(line[len(line) - i - 1])\n",
    "                    file.write(\" \")\n",
    "                file.write(\"\\n\")\n",
    "        else:\n",
    "            raise ValueError(\"unit must be line or word\")\n",
    "        file.close()\n",
    "            \n",
    "    def transpose(self, writefile, mode = None):\n",
    "        if mode is None:\n",
    "            mode = 'w'\n",
    "        if (mode != 'w' and mode != 'x' and mode != 'a'):\n",
    "            raise ValueError(\"Filemode must be w,x, or a\")\n",
    "        file = open(writefile, mode)\n",
    "        lines = self.string.split(\"\\n\")\n",
    "        lines1 = []\n",
    "        for line in lines:\n",
    "            tmp = line.split()\n",
    "            lines1.append(tmp)\n",
    "        for i in range(len(lines1[0])):\n",
    "            for j in range(len(lines1)):\n",
    "                file.write(lines1[j][i])\n",
    "                file.write(\" \")\n",
    "            file.write(\"\\n\")\n",
    "        file.close()"
   ]
  },
  {
   "cell_type": "code",
   "execution_count": 357,
   "metadata": {},
   "outputs": [],
   "source": [
    "test = ContentFilter(\"test\")"
   ]
  },
  {
   "cell_type": "code",
   "execution_count": 358,
   "metadata": {},
   "outputs": [
    {
     "data": {
      "text/plain": [
       "\"Hi my name is Isaac Santelli\\nYesterday was the Fourth of July\\nThe 4th is America's Birthday\\nFun fact both Jefferson and Adams died on the 4th\\nGod bless our imperialist nation state\\nHow can we celebrate as we put kids in concentration camps\\nAmerican exceptionalism and values are both lies\\n\""
      ]
     },
     "execution_count": 358,
     "metadata": {},
     "output_type": "execute_result"
    }
   ],
   "source": [
    "test.string"
   ]
  },
  {
   "cell_type": "code",
   "execution_count": 359,
   "metadata": {},
   "outputs": [],
   "source": [
    "test.uniform('newfile1', 'w', \"lower\")"
   ]
  },
  {
   "cell_type": "code",
   "execution_count": 360,
   "metadata": {},
   "outputs": [],
   "source": [
    "test.reverse('newfile2', 'w', \"line\")"
   ]
  },
  {
   "cell_type": "code",
   "execution_count": 361,
   "metadata": {},
   "outputs": [],
   "source": [
    "test.reverse('newfile3', 'w', \"word\")"
   ]
  },
  {
   "cell_type": "code",
   "execution_count": 362,
   "metadata": {},
   "outputs": [],
   "source": [
    "test1 = ContentFilter(\"test1\")"
   ]
  },
  {
   "cell_type": "code",
   "execution_count": 363,
   "metadata": {},
   "outputs": [],
   "source": [
    "test1.transpose('newfile4', 'w')"
   ]
  },
  {
   "cell_type": "code",
   "execution_count": 364,
   "metadata": {},
   "outputs": [
    {
     "name": "stdout",
     "output_type": "stream",
     "text": [
      "Source File:             test\n",
      "Total characters:        289\n",
      "Alphabetic characters:   235\n",
      "Numeric characters:      2\n",
      "Whitespace characters:   51\n",
      "Whitespace characters:   7\n"
     ]
    }
   ],
   "source": [
    "print(test)"
   ]
  },
  {
   "cell_type": "code",
   "execution_count": null,
   "metadata": {},
   "outputs": [],
   "source": []
  }
 ],
 "metadata": {
  "kernelspec": {
   "display_name": "Python 3",
   "language": "python",
   "name": "python3"
  },
  "language_info": {
   "codemirror_mode": {
    "name": "ipython",
    "version": 3
   },
   "file_extension": ".py",
   "mimetype": "text/x-python",
   "name": "python",
   "nbconvert_exporter": "python",
   "pygments_lexer": "ipython3",
   "version": "3.7.3"
  }
 },
 "nbformat": 4,
 "nbformat_minor": 2
}
