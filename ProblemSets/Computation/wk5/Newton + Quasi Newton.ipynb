{
 "cells": [
  {
   "cell_type": "code",
   "execution_count": 2,
   "metadata": {},
   "outputs": [],
   "source": [
    "import numpy as np\n",
    "import pandas as pd \n",
    "import scipy.linalg as la\n",
    "import sympy as sy\n",
    "from matplotlib import pyplot as plt\n",
    "from datetime import datetime\n",
    "from scipy import optimize as opt"
   ]
  },
  {
   "cell_type": "code",
   "execution_count": 54,
   "metadata": {},
   "outputs": [
    {
     "name": "stdout",
     "output_type": "stream",
     "text": [
      "Optimization terminated successfully.\n",
      "         Current function value: 0.000000\n",
      "         Iterations: 35\n",
      "         Function evaluations: 42\n",
      "         Gradient evaluations: 42\n",
      "[1.00000021 1.00000045]\n",
      "[-1606  -400]\n",
      "[-6.02964576 -0.01119396]\n",
      "[ 3387.08115696 -1751.59948417]\n",
      "[-6.62166774e-02 -7.14557746e-08]\n",
      "[ 0.4384666 -0.2192333]\n",
      "[-8.50794768e-10  0.00000000e+00]\n",
      "woohoo\n"
     ]
    },
    {
     "data": {
      "text/plain": [
       "(array([1., 1.]), True, 6)"
      ]
     },
     "execution_count": 54,
     "metadata": {},
     "output_type": "execute_result"
    }
   ],
   "source": [
    "def Prob1(Df, D2f, x_0, maxiter, tol):\n",
    "    x_t = x_0\n",
    "    for i in range(maxiter): \n",
    "        z_t = la.solve(D2f(x_t), Df(x_t).T)\n",
    "        x_t1 = x_t - z_t\n",
    "        if (la.norm(Df(x_t1), np.inf) < tol):\n",
    "            print(\"woohoo\")\n",
    "            return x_t1, True, i+1\n",
    "        x_t = x_t1\n",
    "    print(\"Convergence Failed\")\n",
    "    return x_t1, False, maxiter\n",
    "\n",
    "f = opt.rosen\n",
    "df = opt.rosen_der\n",
    "d2f = opt.rosen_hess\n",
    "print(opt.fmin_bfgs(f=f, x0=[-2,2], fprime=df, maxiter=50))\n",
    "Prob1(df, d2f, [-2, 2], 500, 1.E-10)"
   ]
  },
  {
   "cell_type": "code",
   "execution_count": 78,
   "metadata": {},
   "outputs": [
    {
     "name": "stdout",
     "output_type": "stream",
     "text": [
      "[[1. 0.]\n",
      " [0. 1.]]\n",
      "[ 451. -150.]\n",
      "[-449.5  151.5]\n",
      "[-3.63013962e+10 -4.03797500e+07]\n",
      "x_t1 [-449.5  151.5]\n",
      "y:  [-3.63013966e+10 -4.03796000e+07]\n",
      "s:  [-451.  150.]\n",
      "[[ 1.00074158 -0.33284088]\n",
      " [-0.33284088  0.11070096]]\n",
      "[[2.0003701  1.00111275]\n",
      " [0.66728267 0.9996299 ]]\n",
      "[[ 3.71483371e-04 -1.33395363e+00]\n",
      " [-1.00012355e+00  1.11071054e-01]]\n",
      "[-3.63013962e+10 -4.03797500e+07]\n",
      "[-4.03797988e+07 -3.63013961e+10]\n",
      "[-2.63367457e+25 -3.26112890e+17]\n",
      "x_t1 [-4.03797988e+07 -3.63013961e+10]\n",
      "y:  [-2.63367457e+25 -3.26112890e+17]\n",
      "s:  [-4.03793493e+07 -3.63013963e+10]\n",
      "[[3.71446200e-04 3.33933457e-01]\n",
      " [3.33933457e-01 3.00209166e+02]]\n",
      "[[ -899.10927009  -900.44358034]\n",
      " [ -898.77568954 -2098.33254382]]\n",
      "[[ 899.11001302  899.44356017]\n",
      " [ 898.10949944 2398.6527806 ]]\n",
      "[-2.63367457e+25 -3.26112890e+17]\n",
      "[2.36796321e+28 2.36532823e+28]\n",
      "[ 5.31110445e+87 -1.12144995e+59]\n",
      "x_t1 [2.36796321e+28 2.36532823e+28]\n",
      "y:  [ 5.31110445e+87 -1.12144995e+59]\n",
      "s:  [2.36796321e+28 2.36532823e+28]\n",
      "[[899.11001302 898.10951802]\n",
      " [898.10951802 897.11013632]]\n",
      "[[2695.33014381 2695.66369096]\n",
      " [2694.32964881 2694.66282479]]\n",
      "[[-897.11011777 -898.11061277]\n",
      " [-898.11063135  601.10009213]]\n",
      "[ 5.31110445e+87 -1.12144995e+59]\n",
      "[4.76464554e+90 4.76995937e+90]\n",
      "[ 4.32665019e+274 -4.54036943e+183]\n",
      "x_t1 [4.76464554e+90 4.76995937e+90]\n",
      "y:  [ 4.32665019e+274 -4.54036943e+183]\n",
      "s:  [4.76464554e+90 4.76995937e+90]\n",
      "[[nan nan]\n",
      " [nan nan]]\n",
      "[[nan nan]\n",
      " [nan nan]]\n",
      "[[nan nan]\n",
      " [nan nan]]\n",
      "[ 4.32665019e+274 -4.54036943e+183]\n",
      "[nan nan]\n",
      "[nan nan]\n"
     ]
    },
    {
     "name": "stderr",
     "output_type": "stream",
     "text": [
      "/anaconda3/lib/python3.7/site-packages/ipykernel_launcher.py:18: RuntimeWarning: overflow encountered in matmul\n",
      "/anaconda3/lib/python3.7/site-packages/ipykernel_launcher.py:21: RuntimeWarning: overflow encountered in matmul\n",
      "/anaconda3/lib/python3.7/site-packages/ipykernel_launcher.py:21: RuntimeWarning: invalid value encountered in matmul\n",
      "/anaconda3/lib/python3.7/site-packages/ipykernel_launcher.py:23: RuntimeWarning: overflow encountered in matmul\n",
      "/anaconda3/lib/python3.7/site-packages/ipykernel_launcher.py:23: RuntimeWarning: invalid value encountered in matmul\n",
      "/anaconda3/lib/python3.7/site-packages/ipykernel_launcher.py:23: RuntimeWarning: invalid value encountered in true_divide\n"
     ]
    },
    {
     "ename": "ValueError",
     "evalue": "array must not contain infs or NaNs",
     "output_type": "error",
     "traceback": [
      "\u001b[0;31m---------------------------------------------------------------------------\u001b[0m",
      "\u001b[0;31mValueError\u001b[0m                                Traceback (most recent call last)",
      "\u001b[0;32m<ipython-input-78-bcd9648108fa>\u001b[0m in \u001b[0;36m<module>\u001b[0;34m\u001b[0m\n\u001b[1;32m     29\u001b[0m     \u001b[0;32mreturn\u001b[0m \u001b[0mx_t1\u001b[0m\u001b[0;34m,\u001b[0m \u001b[0;32mFalse\u001b[0m\u001b[0;34m,\u001b[0m \u001b[0mmaxiter\u001b[0m\u001b[0;34m\u001b[0m\u001b[0;34m\u001b[0m\u001b[0m\n\u001b[1;32m     30\u001b[0m \u001b[0;34m\u001b[0m\u001b[0m\n\u001b[0;32m---> 31\u001b[0;31m \u001b[0mProb2\u001b[0m\u001b[0;34m(\u001b[0m\u001b[0mdf\u001b[0m\u001b[0;34m,\u001b[0m \u001b[0;34m[\u001b[0m\u001b[0;36m1.5\u001b[0m\u001b[0;34m,\u001b[0m \u001b[0;36m1.5\u001b[0m\u001b[0;34m]\u001b[0m\u001b[0;34m,\u001b[0m \u001b[0;36m500\u001b[0m\u001b[0;34m,\u001b[0m \u001b[0;36m1.E-10\u001b[0m\u001b[0;34m)\u001b[0m\u001b[0;34m\u001b[0m\u001b[0;34m\u001b[0m\u001b[0m\n\u001b[0m",
      "\u001b[0;32m<ipython-input-78-bcd9648108fa>\u001b[0m in \u001b[0;36mProb2\u001b[0;34m(Df, x_0, maxiter, tol)\u001b[0m\n\u001b[1;32m     10\u001b[0m         \u001b[0mprint\u001b[0m\u001b[0;34m(\u001b[0m\u001b[0mx_t1\u001b[0m\u001b[0;34m)\u001b[0m\u001b[0;34m\u001b[0m\u001b[0;34m\u001b[0m\u001b[0m\n\u001b[1;32m     11\u001b[0m         \u001b[0mprint\u001b[0m\u001b[0;34m(\u001b[0m\u001b[0mvalt1\u001b[0m\u001b[0;34m)\u001b[0m\u001b[0;34m\u001b[0m\u001b[0;34m\u001b[0m\u001b[0m\n\u001b[0;32m---> 12\u001b[0;31m         \u001b[0;32mif\u001b[0m \u001b[0;34m(\u001b[0m\u001b[0mla\u001b[0m\u001b[0;34m.\u001b[0m\u001b[0mnorm\u001b[0m\u001b[0;34m(\u001b[0m\u001b[0mvalt1\u001b[0m\u001b[0;34m,\u001b[0m \u001b[0mnp\u001b[0m\u001b[0;34m.\u001b[0m\u001b[0minf\u001b[0m\u001b[0;34m)\u001b[0m \u001b[0;34m<\u001b[0m \u001b[0mtol\u001b[0m\u001b[0;34m)\u001b[0m\u001b[0;34m:\u001b[0m\u001b[0;34m\u001b[0m\u001b[0;34m\u001b[0m\u001b[0m\n\u001b[0m\u001b[1;32m     13\u001b[0m             \u001b[0mprint\u001b[0m\u001b[0;34m(\u001b[0m\u001b[0;34m\"woohoo\"\u001b[0m\u001b[0;34m)\u001b[0m\u001b[0;34m\u001b[0m\u001b[0;34m\u001b[0m\u001b[0m\n\u001b[1;32m     14\u001b[0m             \u001b[0;32mreturn\u001b[0m \u001b[0mx_t1\u001b[0m\u001b[0;34m,\u001b[0m \u001b[0;32mTrue\u001b[0m\u001b[0;34m,\u001b[0m \u001b[0mi\u001b[0m\u001b[0;34m+\u001b[0m\u001b[0;36m1\u001b[0m\u001b[0;34m\u001b[0m\u001b[0;34m\u001b[0m\u001b[0m\n",
      "\u001b[0;32m/anaconda3/lib/python3.7/site-packages/scipy/linalg/misc.py\u001b[0m in \u001b[0;36mnorm\u001b[0;34m(a, ord, axis, keepdims)\u001b[0m\n\u001b[1;32m    135\u001b[0m     \"\"\"\n\u001b[1;32m    136\u001b[0m     \u001b[0;31m# Differs from numpy only in non-finite handling and the use of blas.\u001b[0m\u001b[0;34m\u001b[0m\u001b[0;34m\u001b[0m\u001b[0;34m\u001b[0m\u001b[0m\n\u001b[0;32m--> 137\u001b[0;31m     \u001b[0ma\u001b[0m \u001b[0;34m=\u001b[0m \u001b[0mnp\u001b[0m\u001b[0;34m.\u001b[0m\u001b[0masarray_chkfinite\u001b[0m\u001b[0;34m(\u001b[0m\u001b[0ma\u001b[0m\u001b[0;34m)\u001b[0m\u001b[0;34m\u001b[0m\u001b[0;34m\u001b[0m\u001b[0m\n\u001b[0m\u001b[1;32m    138\u001b[0m \u001b[0;34m\u001b[0m\u001b[0m\n\u001b[1;32m    139\u001b[0m     \u001b[0;31m# Only use optimized norms if axis and keepdims are not specified.\u001b[0m\u001b[0;34m\u001b[0m\u001b[0;34m\u001b[0m\u001b[0;34m\u001b[0m\u001b[0m\n",
      "\u001b[0;32m/anaconda3/lib/python3.7/site-packages/numpy/lib/function_base.py\u001b[0m in \u001b[0;36masarray_chkfinite\u001b[0;34m(a, dtype, order)\u001b[0m\n\u001b[1;32m    496\u001b[0m     \u001b[0;32mif\u001b[0m \u001b[0ma\u001b[0m\u001b[0;34m.\u001b[0m\u001b[0mdtype\u001b[0m\u001b[0;34m.\u001b[0m\u001b[0mchar\u001b[0m \u001b[0;32min\u001b[0m \u001b[0mtypecodes\u001b[0m\u001b[0;34m[\u001b[0m\u001b[0;34m'AllFloat'\u001b[0m\u001b[0;34m]\u001b[0m \u001b[0;32mand\u001b[0m \u001b[0;32mnot\u001b[0m \u001b[0mnp\u001b[0m\u001b[0;34m.\u001b[0m\u001b[0misfinite\u001b[0m\u001b[0;34m(\u001b[0m\u001b[0ma\u001b[0m\u001b[0;34m)\u001b[0m\u001b[0;34m.\u001b[0m\u001b[0mall\u001b[0m\u001b[0;34m(\u001b[0m\u001b[0;34m)\u001b[0m\u001b[0;34m:\u001b[0m\u001b[0;34m\u001b[0m\u001b[0;34m\u001b[0m\u001b[0m\n\u001b[1;32m    497\u001b[0m         raise ValueError(\n\u001b[0;32m--> 498\u001b[0;31m             \"array must not contain infs or NaNs\")\n\u001b[0m\u001b[1;32m    499\u001b[0m     \u001b[0;32mreturn\u001b[0m \u001b[0ma\u001b[0m\u001b[0;34m\u001b[0m\u001b[0;34m\u001b[0m\u001b[0m\n\u001b[1;32m    500\u001b[0m \u001b[0;34m\u001b[0m\u001b[0m\n",
      "\u001b[0;31mValueError\u001b[0m: array must not contain infs or NaNs"
     ]
    }
   ],
   "source": [
    "def Prob2(Df, x_0, maxiter, tol):\n",
    "    x_t = x_0\n",
    "    A_t1 = np.eye(len(x_0))\n",
    "    valt = Df(x_t).T\n",
    "    for i in range(maxiter): \n",
    "        print(A_t1)\n",
    "        print(valt)\n",
    "        x_t1 = x_t - A_t1 @ valt\n",
    "        valt1 = Df(x_t1)\n",
    "        print(x_t1)\n",
    "        print(valt1)\n",
    "        if (la.norm(valt1, np.inf) < tol):\n",
    "            print(\"woohoo\")\n",
    "            return x_t1, True, i+1\n",
    "        print(\"x_t1\", x_t1)\n",
    "        s = x_t1 - x_t\n",
    "        y = valt1.T - valt\n",
    "        sty = s.T @ y\n",
    "        print(\"y: \", y)\n",
    "        print(\"s: \", s)\n",
    "        term1 = ((sty + y.T @ A_t1 @ y) * np.outer(s, s.T))/((sty)**2)\n",
    "        print(term1)\n",
    "        term2 = ((A_t1 @ y @ s.T) + (np.outer(s, y.T) @ A_t1) )/(sty)\n",
    "        print(term2)\n",
    "        A_t1 = A_t1 + term1 - term2\n",
    "        valt = valt1.T\n",
    "        x_t = np.copy(x_t1)\n",
    "    print(\"Convergence Failed\")\n",
    "    return x_t1, False, maxiter\n",
    "\n",
    "Prob2(df, [1.5, 1.5], 500, 1.E-10)"
   ]
  },
  {
   "cell_type": "code",
   "execution_count": null,
   "metadata": {},
   "outputs": [],
   "source": []
  }
 ],
 "metadata": {
  "kernelspec": {
   "display_name": "Python 3",
   "language": "python",
   "name": "python3"
  },
  "language_info": {
   "codemirror_mode": {
    "name": "ipython",
    "version": 3
   },
   "file_extension": ".py",
   "mimetype": "text/x-python",
   "name": "python",
   "nbconvert_exporter": "python",
   "pygments_lexer": "ipython3",
   "version": "3.7.3"
  }
 },
 "nbformat": 4,
 "nbformat_minor": 2
}
