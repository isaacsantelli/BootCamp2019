{
 "cells": [
  {
   "cell_type": "code",
   "execution_count": 1,
   "metadata": {},
   "outputs": [],
   "source": [
    "import numpy as np\n",
    "import pandas as pd\n",
    "from matplotlib import pyplot as plt"
   ]
  },
  {
   "cell_type": "markdown",
   "metadata": {},
   "source": [
    "### Problem 1"
   ]
  },
  {
   "cell_type": "code",
   "execution_count": 2,
   "metadata": {},
   "outputs": [
    {
     "name": "stdout",
     "output_type": "stream",
     "text": [
      "0       -1\n",
      "2        3\n",
      "4       15\n",
      "6       35\n",
      "8       63\n",
      "10      99\n",
      "12     143\n",
      "14     195\n",
      "16     255\n",
      "18     323\n",
      "20     399\n",
      "22     483\n",
      "24     575\n",
      "26     675\n",
      "28     783\n",
      "30     899\n",
      "32    1023\n",
      "34    1155\n",
      "36    1295\n",
      "38    1443\n",
      "40    1599\n",
      "42    1763\n",
      "44    1935\n",
      "46    2115\n",
      "48    2303\n",
      "50    2499\n",
      "dtype: int64\n"
     ]
    }
   ],
   "source": [
    "ind = np.linspace(0, 50, 26)\n",
    "vals = np.linspace(0, 50, 26)\n",
    "vals = vals ** 2 - 1\n",
    "P1 = pd.Series(vals.astype(int), index = ind.astype(int))\n",
    "print(P1)"
   ]
  },
  {
   "cell_type": "markdown",
   "metadata": {},
   "source": [
    "### Problem 2 "
   ]
  },
  {
   "cell_type": "code",
   "execution_count": 11,
   "metadata": {},
   "outputs": [
    {
     "data": {
      "text/plain": [
       "<matplotlib.axes._subplots.AxesSubplot at 0x120325438>"
      ]
     },
     "execution_count": 11,
     "metadata": {},
     "output_type": "execute_result"
    },
    {
     "data": {
      "image/png": "[encoded data removed]",
      "text/plain": [
       "<Figure size 432x288 with 1 Axes>"
      ]
     },
     "metadata": {
      "needs_background": "light"
     },
     "output_type": "display_data"
    }
   ],
   "source": [
    "def randwalk(p, d = 100):\n",
    "    '''\n",
    "    Simulates a random walk\n",
    "    '''\n",
    "    ind = pd.date_range(start='1/1/2000', end='12/31/2000')\n",
    "    vals = np.zeros(len(ind))\n",
    "    for i in range(len(vals)):\n",
    "        x = np.random.random()\n",
    "        if (x > p): d += 1 \n",
    "        else: d += -1\n",
    "        vals[i] = d\n",
    "    P2 = pd.Series(vals, index = ind)    \n",
    "    return P2\n",
    "    \n",
    "P2 = randwalk(.5)\n",
    "P2.plot()"
   ]
  },
  {
   "cell_type": "markdown",
   "metadata": {},
   "source": [
    "### Problem 3"
   ]
  },
  {
   "cell_type": "code",
   "execution_count": 27,
   "metadata": {},
   "outputs": [
    {
     "name": "stdout",
     "output_type": "stream",
     "text": [
      "   ID   Name\n",
      "0   0  Mylan\n",
      "6   6   Matt\n"
     ]
    }
   ],
   "source": [
    "name = ['Mylan', 'Regan', 'Justin', 'Jess', 'Jason', 'Remi', 'Matt', 'Alexander', 'JeanMarie']\n",
    "sex = ['M', 'F', 'M', 'F', 'M', 'F', 'M', 'M', 'F']\n",
    "age = [20, 21, 18, 22, 19, 20, 20, 19, 20]\n",
    "rank = ['Sp', 'Se', 'Fr', 'Se', 'Sp', 'J', 'J', 'J', 'Se']\n",
    "ID = range(9)\n",
    "aid = ['y', 'n', 'n', 'y', 'n', 'n', 'n', 'y', 'n']\n",
    "GPA = [3.8, 3.5, 3.0, 3.9, 2.8, 2.9, 3.8, 3.4, 3.7]\n",
    "mathID = [0, 1, 5, 6, 3]\n",
    "mathGd = [4.0, 3.0, 3.5, 3.0, 4.0]\n",
    "major = ['y', 'n', 'y', 'n', 'n']\n",
    "studentInfo = pd.DataFrame({'ID': ID, 'Name': name, 'Sex': sex, 'Age': age,'Class': rank})\n",
    "otherInfo = pd.DataFrame({'ID': ID, 'GPA': GPA, 'Financial_Aid': aid})\n",
    "mathInfo = pd.DataFrame({'ID': mathID, 'Grade': mathGd, 'Math_Major': major})\n",
    "\n",
    "P3 = studentInfo[(studentInfo['Age'] > 19) & (studentInfo['Sex'] == 'M')][['ID', 'Name']]\n",
    "print(P3)"
   ]
  },
  {
   "cell_type": "code",
   "execution_count": 28,
   "metadata": {},
   "outputs": [
    {
     "name": "stdout",
     "output_type": "stream",
     "text": [
      "   ID       Name Sex  Age Class\n",
      "0   0      Mylan   M   20    Sp\n",
      "1   1      Regan   F   21    Se\n",
      "2   2     Justin   M   18    Fr\n",
      "3   3       Jess   F   22    Se\n",
      "4   4      Jason   M   19    Sp\n",
      "5   5       Remi   F   20     J\n",
      "6   6       Matt   M   20     J\n",
      "7   7  Alexander   M   19     J\n",
      "8   8  JeanMarie   F   20    Se\n",
      "   ID  GPA Financial_Aid\n",
      "0   0  3.8             y\n",
      "1   1  3.5             n\n",
      "2   2  3.0             n\n",
      "3   3  3.9             y\n",
      "4   4  2.8             n\n",
      "5   5  2.9             n\n",
      "6   6  3.8             n\n",
      "7   7  3.4             y\n",
      "8   8  3.7             n\n",
      "   ID  Grade Math_Major\n",
      "0   0    4.0          y\n",
      "1   1    3.0          n\n",
      "2   5    3.5          y\n",
      "3   6    3.0          n\n",
      "4   3    4.0          n\n"
     ]
    }
   ],
   "source": [
    "print(studentInfo)\n",
    "print(otherInfo)\n",
    "print(mathInfo)"
   ]
  },
  {
   "cell_type": "markdown",
   "metadata": {},
   "source": [
    "### Problem 4"
   ]
  },
  {
   "cell_type": "code",
   "execution_count": 34,
   "metadata": {},
   "outputs": [
    {
     "data": {
      "text/html": [
       "<div>\n",
       "<style scoped>\n",
       "    .dataframe tbody tr th:only-of-type {\n",
       "        vertical-align: middle;\n",
       "    }\n",
       "\n",
       "    .dataframe tbody tr th {\n",
       "        vertical-align: top;\n",
       "    }\n",
       "\n",
       "    .dataframe thead th {\n",
       "        text-align: right;\n",
       "    }\n",
       "</style>\n",
       "<table border=\"1\" class=\"dataframe\">\n",
       "  <thead>\n",
       "    <tr style=\"text-align: right;\">\n",
       "      <th></th>\n",
       "      <th>ID</th>\n",
       "      <th>Age</th>\n",
       "      <th>GPA</th>\n",
       "    </tr>\n",
       "  </thead>\n",
       "  <tbody>\n",
       "    <tr>\n",
       "      <th>0</th>\n",
       "      <td>0</td>\n",
       "      <td>20</td>\n",
       "      <td>3.8</td>\n",
       "    </tr>\n",
       "    <tr>\n",
       "      <th>2</th>\n",
       "      <td>2</td>\n",
       "      <td>18</td>\n",
       "      <td>3.0</td>\n",
       "    </tr>\n",
       "    <tr>\n",
       "      <th>4</th>\n",
       "      <td>4</td>\n",
       "      <td>19</td>\n",
       "      <td>2.8</td>\n",
       "    </tr>\n",
       "    <tr>\n",
       "      <th>6</th>\n",
       "      <td>6</td>\n",
       "      <td>20</td>\n",
       "      <td>3.8</td>\n",
       "    </tr>\n",
       "    <tr>\n",
       "      <th>7</th>\n",
       "      <td>7</td>\n",
       "      <td>19</td>\n",
       "      <td>3.4</td>\n",
       "    </tr>\n",
       "  </tbody>\n",
       "</table>\n",
       "</div>"
      ],
      "text/plain": [
       "   ID  Age  GPA\n",
       "0   0   20  3.8\n",
       "2   2   18  3.0\n",
       "4   4   19  2.8\n",
       "6   6   20  3.8\n",
       "7   7   19  3.4"
      ]
     },
     "execution_count": 34,
     "metadata": {},
     "output_type": "execute_result"
    }
   ],
   "source": [
    "pd.merge(studentInfo, otherInfo, on='ID')[studentInfo['Sex'] == 'M'][['ID', 'Age', 'GPA']]"
   ]
  },
  {
   "cell_type": "code",
   "execution_count": null,
   "metadata": {},
   "outputs": [],
   "source": []
  }
 ],
 "metadata": {
  "kernelspec": {
   "display_name": "Python 3",
   "language": "python",
   "name": "python3"
  },
  "language_info": {
   "codemirror_mode": {
    "name": "ipython",
    "version": 3
   },
   "file_extension": ".py",
   "mimetype": "text/x-python",
   "name": "python",
   "nbconvert_exporter": "python",
   "pygments_lexer": "ipython3",
   "version": "3.7.3"
  }
 },
 "nbformat": 4,
 "nbformat_minor": 2
}
