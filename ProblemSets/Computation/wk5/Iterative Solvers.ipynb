{
 "cells": [
  {
   "cell_type": "code",
   "execution_count": 1,
   "metadata": {},
   "outputs": [],
   "source": [
    "import numpy as np\n",
    "import pandas as pd \n",
    "import scipy.linalg as la\n",
    "import sympy as sy\n",
    "from matplotlib import pyplot as plt\n",
    "from datetime import datetime\n",
    "from scipy import sparse"
   ]
  },
  {
   "cell_type": "code",
   "execution_count": 2,
   "metadata": {},
   "outputs": [
    {
     "name": "stdout",
     "output_type": "stream",
     "text": [
      "Converged at Iteration 31\n",
      "Stable Vector:  [ 1.  2. -1.]\n"
     ]
    }
   ],
   "source": [
    "def Prob1(A, b, tol, maxiters):\n",
    "    x = np.zeros_like(b)\n",
    "    xnew = np.zeros_like(b)\n",
    "    ## Series of steps to create a diag inverse without doing the \n",
    "    ## expensive computation\n",
    "    I = np.eye(A.shape[0])\n",
    "    tmp = np.ones_like(A) - I\n",
    "    tmp = tmp + np.diag(np.diag(A)) \n",
    "    invD = np.diag(np.diag((I / tmp)))\n",
    "    errs = np.zeros(maxiters)\n",
    "    for i in range(maxiters):\n",
    "        xnew = x + np.matmul(invD, b - np.matmul(A, x))\n",
    "        if (la.norm(xnew - x) < tol) and np.allclose(np.matmul(A,x), b, tol, tol):\n",
    "            print(\"Converged at Iteration {}\".format(i+1))\n",
    "            print(\"Stable Vector: \", x)\n",
    "            break\n",
    "        else: \n",
    "            errs[i] = la.norm(xnew - x)\n",
    "        if errs[i] > 100000000: break\n",
    "        x = xnew\n",
    "    return x, errs\n",
    "\n",
    "A = np.array([[2, 0, -1], [-1, 3, 2], [0, 1, 3]])\n",
    "b = np.array([3, 3, -1])\n",
    "tol = 1.E-8\n",
    "rv = Prob1(A, b, tol, 500)"
   ]
  },
  {
   "cell_type": "code",
   "execution_count": 3,
   "metadata": {},
   "outputs": [
    {
     "name": "stdout",
     "output_type": "stream",
     "text": [
      "Converged at Iteration 2\n",
      "Stable Vector:  [0.96638399 0.20358345]\n",
      "Converged at Iteration 3\n",
      "Stable Vector:  [0.02957491 0.05138123 0.29775343]\n",
      "Converged at Iteration 3\n",
      "Stable Vector:  [0.37428825 0.28482431 0.72508742 0.04111042]\n",
      "Converged at Iteration 39\n",
      "Stable Vector:  [0.14129944 0.07886256 0.09561192 0.01073045 0.0638684 ]\n",
      "Converged at Iteration 5\n",
      "Stable Vector:  [0.12908464 0.72416786 0.07368196 0.88360324 0.14311687 0.27071484]\n",
      "Converged at Iteration 18\n",
      "Stable Vector:  [0.2573407  0.00524413 0.09043999 0.06030231 0.14923588 0.04462041\n",
      " 0.04941057]\n",
      "Converged at Iteration 52\n",
      "Stable Vector:  [ 0.16233765  0.03226587 -0.02164728  0.03740312  0.12148408 -0.03468549\n",
      "  0.14368439 -0.02677824]\n",
      "Converged at Iteration 34\n",
      "Stable Vector:  [-0.22162824 -0.01285334  0.04322374  0.42149276  0.45885653 -0.07918205\n",
      "  0.39039225  0.93337291  0.21774671]\n",
      "Converged at Iteration 31\n",
      "Stable Vector:  [ 0.32839565 -0.03479778  0.64578388  0.39680004 -0.02405218  0.32683353\n",
      " -0.04349927 -0.45301973 -0.27941615 -0.11777245]\n",
      "Converged at Iteration 29\n",
      "Stable Vector:  [ 0.04187704 -0.20056081  0.61983427  0.26417156  0.03901266  0.3667827\n",
      " -0.05023315  0.57335198  0.09485056 -0.28043879  0.29428889]\n",
      "Converged at Iteration 21\n",
      "Stable Vector:  [0.06590189 0.07979857 0.26207211 0.70898685 0.02967772 0.09135764\n",
      " 0.20315552 0.14525612 0.16777747 0.13851051 0.15567282 0.22316568]\n",
      "Converged at Iteration 36\n",
      "Stable Vector:  [ 0.17072209  0.20395557  0.12309429  0.11407129  0.33840204  0.18064308\n",
      "  0.16963199  0.15771651  0.07440254  0.1116161   0.44372514 -0.05060269\n",
      "  0.08286434]\n",
      "Converged at Iteration 29\n",
      "Stable Vector:  [ 0.315991    0.76348019  0.33260662  0.21407493  0.86409267  0.33808824\n",
      "  0.6766547   0.07174005  0.10095374  0.5928043   0.72223054  0.46771208\n",
      "  0.36443934 -0.06402783]\n",
      "Converged at Iteration 29\n",
      "Stable Vector:  [ 0.21358909  0.29938792  0.04318282  0.35934525  0.15040299  0.18590324\n",
      "  0.13971323  0.03586515  0.09030237  0.13489267  0.14277994  0.12737949\n",
      " -0.07222339  0.08543269  0.54662217]\n",
      "Converged at Iteration 29\n",
      "Stable Vector:  [ 0.02173162  0.27854445  0.16668363  0.04490118  0.24747233  0.22146844\n",
      "  0.11034701  0.25190363 -0.08944226  0.53837944  0.37299079  0.55220972\n",
      "  0.0328726  -0.12029619  0.18396485  0.34605713]\n",
      "Converged at Iteration 29\n",
      "Stable Vector:  [ 0.14715424  0.48568414 -0.03047824  0.16260123 -0.08779556  0.19311804\n",
      "  0.05691041  0.25359222  0.1402634   0.06695194  0.15702335  0.16517284\n",
      "  0.07612606  0.18883733  0.07875397  0.0012967   0.03998935]\n",
      "Converged at Iteration 28\n",
      "Stable Vector:  [ 0.11574548  0.17379564  0.10880231  0.05258333  0.12281533  0.04751962\n",
      "  0.12860126 -0.02373518 -0.00427509  0.09962643  0.13078468  0.15592151\n",
      "  0.12443651  0.05691538  0.10891641  0.22198275  0.11391148  0.11186293]\n",
      "Converged at Iteration 26\n",
      "Stable Vector:  [-0.00412001  0.10575486  0.09538209  0.08095674  0.39155992  0.20539954\n",
      "  0.41811401  0.00188023 -0.02342896  0.04318412  0.05764363  0.50882682\n",
      "  0.22928474  0.0042305   0.23538243  0.12301139  0.10571414  0.25175092\n",
      " -0.12210697]\n"
     ]
    }
   ],
   "source": [
    "def diag_dom(n, num_entries=None):\n",
    "    \"\"\"Generate a strictly diagonally dominant (n, n) matrix.\n",
    "    Parameters:\n",
    "        n (int): The dimension of the system.\n",
    "        num_entries (int): The number of nonzero values.\n",
    "            Defaults to n^(3/2)-n.\n",
    "    Returns:\n",
    "        A ((n,n) ndarray): A (n, n) strictly diagonally dominant matrix.\n",
    "    \"\"\"\n",
    "    if num_entries is None:\n",
    "        num_entries = int(n**1.5) - n\n",
    "    A = np.zeros((n,n))\n",
    "    rows = np.random.choice(np.arange(0,n), size=num_entries)\n",
    "    cols = np.random.choice(np.arange(0,n), size=num_entries)\n",
    "    data = np.random.randint(-4, 4, size=num_entries)\n",
    "    for i in range(num_entries):\n",
    "        A[rows[i], cols[i]] = data[i]\n",
    "    for i in range(n):\n",
    "        A[i,i] = np.sum(np.abs(A[i])) + 1\n",
    "    return A\n",
    "\n",
    "for i in range(2, 20):\n",
    "    A = diag_dom(i)\n",
    "    b = np.random.random(i)\n",
    "    rv = Prob1(A, b, tol, 500)"
   ]
  },
  {
   "cell_type": "code",
   "execution_count": 4,
   "metadata": {},
   "outputs": [
    {
     "name": "stdout",
     "output_type": "stream",
     "text": [
      "Converged at Iteration 31\n",
      "Stable Vector:  [ 1.  2. -1.]\n"
     ]
    },
    {
     "data": {
      "image/png": "[encoded data removed]",
      "text/plain": [
       "<Figure size 432x288 with 1 Axes>"
      ]
     },
     "metadata": {
      "needs_background": "light"
     },
     "output_type": "display_data"
    }
   ],
   "source": [
    "def Prob2(A, b, tol, maxiters, plot = False):\n",
    "    x = np.zeros_like(b)\n",
    "    xnew = np.zeros_like(b)\n",
    "    ## Series of steps to create a diag inverse without doing the \n",
    "    ## expensive computation\n",
    "    I = np.eye(A.shape[0])\n",
    "    tmp = np.ones_like(A) - I\n",
    "    tmp = tmp + np.diag(np.diag(A)) \n",
    "    invD = np.diag(np.diag((I / tmp)))\n",
    "    errs = np.zeros(maxiters)\n",
    "    for i in range(maxiters):\n",
    "        xnew = x + np.matmul(invD, b - np.matmul(A, x))\n",
    "        if (la.norm(xnew - x) < tol) and np.allclose(np.matmul(A,x), b, tol, tol):\n",
    "            print(\"Converged at Iteration {}\".format(i+1))\n",
    "            print(\"Stable Vector: \", x)\n",
    "            break\n",
    "        else: \n",
    "            errs[i] = la.norm(np.matmul(A,x) - b, ord=np.inf)\n",
    "        if errs[i] > 100000000: break\n",
    "        x = xnew\n",
    "        \n",
    "    if (plot == True):\n",
    "        plt.semilogy(np.linspace(1, i+1, i), errs[:i])\n",
    "    return x, errs\n",
    "\n",
    "A = np.array([[2, 0, -1], [-1, 3, 2], [0, 1, 3]])\n",
    "b = np.array([3, 3, -1])\n",
    "tol = 1.E-8\n",
    "rv = Prob2(A, b, tol, 500, True)"
   ]
  },
  {
   "cell_type": "code",
   "execution_count": 5,
   "metadata": {},
   "outputs": [
    {
     "name": "stdout",
     "output_type": "stream",
     "text": [
      "Converged at Iteration 15\n",
      "Stable Vector:  [ 1.  2. -1.]\n",
      "[2.16666667e+00 1.11111111e+00 1.85185185e-01 3.08641975e-02\n",
      " 5.14403292e-03 8.57338820e-04 1.42889803e-04 2.38149672e-05\n",
      " 3.96916121e-06 6.61526868e-07 1.10254478e-07 1.83757471e-08]\n"
     ]
    },
    {
     "data": {
      "image/png": "[encoded data removed]",
      "text/plain": [
       "<Figure size 432x288 with 1 Axes>"
      ]
     },
     "metadata": {
      "needs_background": "light"
     },
     "output_type": "display_data"
    }
   ],
   "source": [
    "def Prob3(A, b, tol, maxiters, plot = False):\n",
    "    x = np.zeros_like(b, dtype=float)\n",
    "    xnew = np.zeros_like(x, dtype=float)\n",
    "    ## Series of steps to create a diag inverse without doing the \n",
    "    ## expensive computation\n",
    "    D = np.diag(A)\n",
    "    invD = 1/D.astype(float)\n",
    "    errs = np.zeros(maxiters)\n",
    "    for k in range(maxiters):\n",
    "        for i in range(len(x)):\n",
    "            xnew[i] = x[i] + ((invD[i]) * (b[i] - np.matmul(A[i,:].transpose(), x)))\n",
    "        if (la.norm(xnew - x) < tol) and np.allclose(np.matmul(A,x), b, tol, tol):\n",
    "            print(\"Converged at Iteration {}\".format(k+1))\n",
    "            print(\"Stable Vector: \", x)\n",
    "            break\n",
    "        else: \n",
    "            errs[k] = np.linalg.norm(np.matmul(A, xnew) - b, ord=np.inf)\n",
    "        if errs[k] > 100000000:\n",
    "            print(\"function machine broke\")\n",
    "            break\n",
    "        x = xnew\n",
    "        \n",
    "    if (plot == True):\n",
    "        plt.semilogy(np.linspace(1, k+1, k), errs[:k])\n",
    "    return x, errs\n",
    "\n",
    "\n",
    "A = np.array([[2, 0, -1], [-1, 3, 2], [0, 1, 3]])\n",
    "b = np.array([3, 3, -1])\n",
    "tol = 1.E-10\n",
    "rv = Prob3(A, b, tol, 500, True)\n",
    "print(rv[1][:12])"
   ]
  },
  {
   "cell_type": "code",
   "execution_count": 6,
   "metadata": {},
   "outputs": [
    {
     "name": "stdout",
     "output_type": "stream",
     "text": [
      "Converged at Iteration 2\n",
      "Stable Vector:  [0.94718806 0.69207308]\n",
      "Converged at Iteration 2\n",
      "Stable Vector:  [0.54259947 0.29933008 0.24437501]\n",
      "Converged at Iteration 2\n",
      "Stable Vector:  [0.12888801 0.54619447 0.3586271  0.2583772 ]\n",
      "Converged at Iteration 3\n",
      "Stable Vector:  [0.17842879 0.03349705 0.09893851 0.22370103 0.1253302 ]\n",
      "Converged at Iteration 23\n",
      "Stable Vector:  [ 0.60186549  0.23059061 -0.20019923  0.26453024  0.78622978  0.15516533]\n",
      "Converged at Iteration 4\n",
      "Stable Vector:  [ 0.13446401  0.31193283 -0.17315562  0.68120177  0.14292171  0.38155962\n",
      "  0.40563844]\n",
      "Converged at Iteration 15\n",
      "Stable Vector:  [ 0.03098324  0.08163636  0.15638077  0.24321065  0.1559722   0.92792965\n",
      " -0.01055268  0.0296976 ]\n",
      "Converged at Iteration 31\n",
      "Stable Vector:  [ 0.26852302  0.08369251 -0.02784222  0.09241067  0.10128804  0.24408757\n",
      " -0.03045491  0.01520985  0.17294916]\n",
      "Converged at Iteration 17\n",
      "Stable Vector:  [ 0.24972253  0.10154167  0.0692886   0.0911387  -0.10276965  0.13920623\n",
      "  0.17229289  0.24584101  0.22026666  0.8130337 ]\n",
      "Converged at Iteration 25\n",
      "Stable Vector:  [-0.11294419  0.05704448  0.13064721  0.64589272  0.06207457  0.24987782\n",
      " -0.21772515  0.19485095  0.18076655  0.50744992  0.20858776]\n",
      "Converged at Iteration 35\n",
      "Stable Vector:  [ 0.12532773  0.13372474  0.46871767  0.48087516 -0.3311023   0.24493029\n",
      "  0.35300487  0.14368785  0.07575094 -0.13281808 -0.00727359  0.25402478]\n",
      "Converged at Iteration 14\n",
      "Stable Vector:  [0.46053299 0.29621383 0.09900583 0.2651939  0.98982641 0.01834944\n",
      " 0.09030963 0.27998282 0.3696715  0.430464   0.02922533 0.2231457\n",
      " 0.22546837]\n",
      "Converged at Iteration 19\n",
      "Stable Vector:  [ 0.14151571  0.25014544  0.1442288   0.04675176  0.12193164  0.31329323\n",
      "  0.12403904  0.01515653  0.10928187  0.04521062 -0.00966606  0.21182923\n",
      "  0.10007149  0.12263683]\n",
      "Converged at Iteration 11\n",
      "Stable Vector:  [ 0.27543237  0.19263078 -0.22280848  0.09419737  0.39133123  0.23836731\n",
      "  0.24937986  0.6610445   0.18027871  0.17440456 -0.08890269  0.03711435\n",
      "  0.08085449  0.21688976  0.03365723]\n",
      "Converged at Iteration 25\n",
      "Stable Vector:  [ 0.05317894 -0.07530773  0.04090826  0.01542071  0.02819336  0.41620096\n",
      "  0.02165167  0.34950246  0.21671396  0.19888403  0.05560273  0.20617291\n",
      "  0.09319138  0.15597284  0.05259735  0.29704993]\n"
     ]
    },
    {
     "name": "stderr",
     "output_type": "stream",
     "text": [
      "/anaconda3/lib/python3.7/site-packages/matplotlib/ticker.py:2241: UserWarning: Data has no positive values, and therefore cannot be log-scaled.\n",
      "  \"Data has no positive values, and therefore cannot be \"\n"
     ]
    },
    {
     "name": "stdout",
     "output_type": "stream",
     "text": [
      "Converged at Iteration 25\n",
      "Stable Vector:  [ 0.83766253 -0.02984431  0.17708826  0.34505757  0.07735672  0.15620466\n",
      "  0.0740497   0.21693618  0.09886879  0.12130595 -0.00980454  0.02633563\n",
      " -0.36946009 -0.07700351  0.94719949  0.08925196  0.11808323]\n",
      "Converged at Iteration 23\n",
      "Stable Vector:  [ 0.3131093   0.3181926  -0.0557476   0.03008093  0.18368679  0.15597691\n",
      "  0.07902947  0.12280175 -0.00295378  0.07002786  0.10625898  0.11173657\n",
      "  0.05639547 -0.03213379  0.22446916  0.28556305  0.04095746  0.11959101]\n",
      "Converged at Iteration 19\n",
      "Stable Vector:  [ 0.06817491  0.01167651  0.06503044  0.0958531   0.05190297  0.17199611\n",
      "  0.1749058   0.23388449  0.13522481  0.03065667  0.00720824  0.160567\n",
      "  0.22908834  0.0647741   0.13774672  0.11455843 -0.01519596  0.06555309\n",
      "  0.03884349]\n"
     ]
    },
    {
     "data": {
      "image/png": "[encoded data removed]",
      "text/plain": [
       "<Figure size 432x288 with 1 Axes>"
      ]
     },
     "metadata": {
      "needs_background": "light"
     },
     "output_type": "display_data"
    }
   ],
   "source": [
    "for i in range(2, 20):\n",
    "    A = diag_dom(i)\n",
    "    b = np.random.random(i)\n",
    "    rv = Prob3(A, b, tol, 500, True)"
   ]
  },
  {
   "cell_type": "code",
   "execution_count": 21,
   "metadata": {},
   "outputs": [
    {
     "name": "stdout",
     "output_type": "stream",
     "text": [
      "Converged at Iteration 15\n",
      "Stable Vector:  [0.00772531 0.00508759 0.00491328 ... 0.00754473 0.00269238 0.00711273]\n"
     ]
    }
   ],
   "source": [
    "def Prob4(A, b, tol, maxiters):\n",
    "    x = np.zeros_like(b, dtype=float)\n",
    "    xnew = np.zeros_like(x, dtype=float)\n",
    "    errs = np.zeros(maxiters)\n",
    "    A = A.tocsr()\n",
    "    for k in range(maxiters):\n",
    "        xnew = np.copy(x)\n",
    "        for i in range(len(x)):\n",
    "            rowstart = A.indptr[i]\n",
    "            rowend = A.indptr[i+1]\n",
    "            Aix = A.data[rowstart:rowend] @ x[A.indices[rowstart:rowend]]\n",
    "            xnew[i] = x[i] + ((1 / A[i,i]) * (b[i] - Aix)) \n",
    "        if (la.norm(xnew - x, np.inf) < tol):\n",
    "            print(\"Converged at Iteration {}\".format(k+1))\n",
    "            print(\"Stable Vector: \", x)\n",
    "            break\n",
    "        else:       \n",
    "            errs[k] =  la.norm(A @ xnew - b, ord=np.inf)\n",
    "        if errs[k] > 100000000:\n",
    "            print(\"function machine broke\")\n",
    "            break\n",
    "        x = xnew\n",
    "    return x, errs\n",
    "        \n",
    "A = sparse.csr_matrix(diag_dom(5000))\n",
    "b = np.random.random(5000)\n",
    "tol = 1.E-10\n",
    "rv = Prob4(A, b, tol, 500)"
   ]
  },
  {
   "cell_type": "code",
   "execution_count": 27,
   "metadata": {},
   "outputs": [
    {
     "name": "stdout",
     "output_type": "stream",
     "text": [
      "Weight: 0.1\n",
      "Iteration: 10\n",
      "Iteration: 20\n",
      "Iteration: 30\n",
      "Iteration: 40\n",
      "Iteration: 50\n",
      "Iteration: 60\n",
      "Iteration: 70\n",
      "Iteration: 80\n",
      "Iteration: 90\n",
      "Iteration: 100\n",
      "Weight: 0.2\n",
      "Iteration: 10\n",
      "Iteration: 20\n",
      "Iteration: 30\n",
      "Iteration: 40\n",
      "Iteration: 50\n",
      "Iteration: 60\n",
      "Iteration: 70\n",
      "Converged at Iteration 77\n",
      "Stable Vector:  [0.00807844 0.00370649 0.00183738 ... 0.00346009 0.00511132 0.00465062]\n",
      "Weight: 0.30000000000000004\n",
      "Iteration: 10\n",
      "Iteration: 20\n",
      "Iteration: 30\n",
      "Iteration: 40\n",
      "Iteration: 50\n",
      "Converged at Iteration 51\n",
      "Stable Vector:  [0.00807844 0.0037065  0.00183739 ... 0.00346009 0.00511131 0.00465063]\n",
      "Weight: 0.4\n",
      "Iteration: 10\n",
      "Iteration: 20\n",
      "Iteration: 30\n",
      "Converged at Iteration 38\n",
      "Stable Vector:  [0.00807845 0.0037065  0.00183739 ... 0.00346009 0.00511131 0.00465064]\n",
      "Weight: 0.5\n",
      "Iteration: 10\n",
      "Iteration: 20\n",
      "Converged at Iteration 29\n",
      "Stable Vector:  [0.00807845 0.0037065  0.00183739 ... 0.00346009 0.00511131 0.00465064]\n",
      "Weight: 0.6\n",
      "Iteration: 10\n",
      "Iteration: 20\n",
      "Converged at Iteration 24\n",
      "Stable Vector:  [0.00807845 0.00370651 0.0018374  ... 0.00346009 0.00511131 0.00465064]\n",
      "Weight: 0.7000000000000001\n",
      "Iteration: 10\n",
      "Iteration: 20\n",
      "Converged at Iteration 20\n",
      "Stable Vector:  [0.00807845 0.00370651 0.0018374  ... 0.0034601  0.00511131 0.00465064]\n",
      "Weight: 0.8\n",
      "Iteration: 10\n",
      "Converged at Iteration 16\n",
      "Stable Vector:  [0.00807845 0.00370651 0.0018374  ... 0.00346009 0.00511131 0.00465064]\n",
      "Weight: 0.9\n",
      "Iteration: 10\n",
      "Converged at Iteration 14\n",
      "Stable Vector:  [0.00807845 0.00370651 0.0018374  ... 0.0034601  0.00511131 0.00465064]\n",
      "Weight: 1.0\n",
      "Iteration: 10\n",
      "Converged at Iteration 11\n",
      "Stable Vector:  [0.00807845 0.00370651 0.0018374  ... 0.0034601  0.00511131 0.00465064]\n"
     ]
    }
   ],
   "source": [
    "def Prob5(A, b, w, tol = 1.E-8, maxiters = 100):\n",
    "    x = np.zeros_like(b, dtype=float)\n",
    "    xnew = np.zeros_like(x, dtype=float)\n",
    "    errs = np.zeros(maxiters)\n",
    "    A = A.tocsr()\n",
    "    for k in range(maxiters):\n",
    "        if (k%10 == 9): print(\"Iteration: {}\".format(k+1))\n",
    "        xnew = np.copy(x)\n",
    "        for i in range(len(x)):\n",
    "            rowstart = A.indptr[i]\n",
    "            rowend = A.indptr[i+1]\n",
    "            Aix = A.data[rowstart:rowend] @ x[A.indices[rowstart:rowend]]\n",
    "            xnew[i] = x[i] + ((w / A[i,i]) * (b[i] - Aix)) \n",
    "        if (la.norm(xnew - x, np.inf) < tol):\n",
    "            print(\"Converged at Iteration {}\".format(k+1))\n",
    "            print(\"Stable Vector: \", x)\n",
    "            break\n",
    "        else:       \n",
    "            errs[k] =  la.norm(A @ xnew - b, ord=np.inf)\n",
    "        if errs[k] > 100000000:\n",
    "            print(\"function machine broke\")\n",
    "            break\n",
    "        x = xnew\n",
    "    return x, k\n",
    "        \n",
    "        \n",
    "A = sparse.csr_matrix(diag_dom(5000))\n",
    "b = np.random.random(5000)\n",
    "tol = 1.E-8\n",
    "weights = np.linspace(.1, 1, 10)\n",
    "iterations = np.zeros(len(weights))\n",
    "for i, w in enumerate(weights):\n",
    "    print(\"Weight:\", w)\n",
    "    vec, k = Prob5(A, b, w)\n",
    "    iterations[i] = k"
   ]
  },
  {
   "cell_type": "code",
   "execution_count": null,
   "metadata": {},
   "outputs": [],
   "source": []
  }
 ],
 "metadata": {
  "kernelspec": {
   "display_name": "Python 3",
   "language": "python",
   "name": "python3"
  },
  "language_info": {
   "codemirror_mode": {
    "name": "ipython",
    "version": 3
   },
   "file_extension": ".py",
   "mimetype": "text/x-python",
   "name": "python",
   "nbconvert_exporter": "python",
   "pygments_lexer": "ipython3",
   "version": "3.7.3"
  }
 },
 "nbformat": 4,
 "nbformat_minor": 2
}
