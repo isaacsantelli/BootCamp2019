{
 "cells": [
  {
   "cell_type": "code",
   "execution_count": 1,
   "metadata": {},
   "outputs": [],
   "source": [
    "import numpy as np\n",
    "import pandas as pd\n",
    "from matplotlib import pyplot as plt\n",
    "from pydataset import data"
   ]
  },
  {
   "cell_type": "markdown",
   "metadata": {},
   "source": [
    "### Problem 1"
   ]
  },
  {
   "cell_type": "code",
   "execution_count": 10,
   "metadata": {},
   "outputs": [],
   "source": [
    "iris = data(\"iris\")\n",
    "poison = data(\"poisons\")\n",
    "diamonds = data(\"diamonds\")"
   ]
  },
  {
   "cell_type": "code",
   "execution_count": 11,
   "metadata": {},
   "outputs": [
    {
     "name": "stdout",
     "output_type": "stream",
     "text": [
      "Petal Width: \n",
      "             count   mean       std  min  25%  50%  75%  max\n",
      "Species                                                    \n",
      "setosa       50.0  0.246  0.105386  0.1  0.2  0.2  0.3  0.6\n",
      "versicolor   50.0  1.326  0.197753  1.0  1.2  1.3  1.5  1.8\n",
      "virginica    50.0  2.026  0.274650  1.4  1.8  2.0  2.3  2.5\n",
      "Petal Length: \n",
      "             count   mean       std  min  25%   50%    75%  max\n",
      "Species                                                       \n",
      "setosa       50.0  1.462  0.173664  1.0  1.4  1.50  1.575  1.9\n",
      "versicolor   50.0  4.260  0.469911  3.0  4.0  4.35  4.600  5.1\n",
      "virginica    50.0  5.552  0.551895  4.5  5.1  5.55  5.875  6.9\n"
     ]
    },
    {
     "data": {
      "image/png": "[encoded data removed]",
      "text/plain": [
       "<Figure size 432x288 with 1 Axes>"
      ]
     },
     "metadata": {
      "needs_background": "light"
     },
     "output_type": "display_data"
    }
   ],
   "source": [
    "spec = iris.groupby(\"Species\")\n",
    "spec[[\"Sepal.Length\", \"Sepal.Width\", \"Petal.Length\", \"Petal.Width\"]].mean().plot(kind=\"barh\",\n",
    "                xerr=spec.std())\n",
    "plt.xlabel(\"MM\")\n",
    "plt.ylabel(\"Species\")\n",
    "print(\"Petal Width: \\n\", spec['Petal.Width'].describe())\n",
    "print(\"Petal Length: \\n\", spec['Petal.Length'].describe())"
   ]
  },
  {
   "cell_type": "markdown",
   "metadata": {},
   "source": [
    "Based on the above graph and describes , it would seem that the Setosa is the most easily identifiable. It's Short Petal width and Length seperate it from the virginica and versicolor. The Length  seperates it as we can see that the maximum value for setosa Petal Length is 1.9, while the minimum for the other two species is 3.0 and 4.5 respectively. Similarly the width seperates it with a maximum Petal Width of .6 compared to a minimum of 1.0 and 1.4 fo the other flower species"
   ]
  },
  {
   "cell_type": "code",
   "execution_count": 12,
   "metadata": {},
   "outputs": [
    {
     "name": "stdout",
     "output_type": "stream",
     "text": [
      "   time  poison treat\n",
      "1  0.31       1     A\n",
      "2  0.45       1     A\n",
      "3  0.46       1     A\n",
      "4  0.43       1     A\n",
      "5  0.36       2     A\n",
      "Poison: \n",
      "         count      mean       std   min     25%    50%    75%   max\n",
      "poison                                                             \n",
      "1        16.0  0.617500  0.209428  0.31  0.4500  0.625  0.730  1.10\n",
      "2        16.0  0.544375  0.289366  0.23  0.3575  0.420  0.635  1.24\n",
      "3        16.0  0.276250  0.062276  0.18  0.2275  0.270  0.315  0.38\n",
      "Treatment: \n",
      "        count      mean       std   min     25%    50%     75%   max\n",
      "treat                                                              \n",
      "A       12.0  0.314167  0.102288  0.18  0.2275  0.300  0.4075  0.46\n",
      "B       12.0  0.676667  0.320832  0.29  0.3775  0.665  0.8900  1.24\n",
      "C       12.0  0.392500  0.167013  0.22  0.2475  0.375  0.4425  0.76\n",
      "D       12.0  0.534167  0.219440  0.30  0.3525  0.505  0.6725  1.02\n",
      "Overall: \n",
      "               count    mean       std   min     25%    50%     75%   max\n",
      "poison treat                                                            \n",
      "1      A        4.0  0.4125  0.069462  0.31  0.4000  0.440  0.4525  0.46\n",
      "       B        4.0  0.8800  0.160831  0.72  0.7950  0.850  0.9350  1.10\n",
      "       C        4.0  0.5675  0.156711  0.43  0.4450  0.540  0.6625  0.76\n",
      "       D        4.0  0.6100  0.112842  0.45  0.5775  0.640  0.6725  0.71\n",
      "2      A        4.0  0.3200  0.075277  0.23  0.2750  0.325  0.3700  0.40\n",
      "       B        4.0  0.8150  0.336303  0.49  0.5800  0.765  1.0000  1.24\n",
      "       C        4.0  0.3750  0.056862  0.31  0.3400  0.375  0.4100  0.44\n",
      "       D        4.0  0.6675  0.270970  0.38  0.5150  0.635  0.7875  1.02\n",
      "3      A        4.0  0.2100  0.021602  0.18  0.2025  0.215  0.2225  0.23\n",
      "       B        4.0  0.3350  0.046547  0.29  0.2975  0.335  0.3725  0.38\n",
      "       C        4.0  0.2350  0.012910  0.22  0.2275  0.235  0.2425  0.25\n",
      "       D        4.0  0.3250  0.026458  0.30  0.3075  0.320  0.3375  0.36\n"
     ]
    }
   ],
   "source": [
    "print(poison.head())\n",
    "pois = poison.groupby(\"poison\")\n",
    "treat = poison.groupby(\"treat\")\n",
    "overall = poison.groupby([\"poison\", \"treat\"])\n",
    "print(\"Poison: \\n\", pois['time'].describe())\n",
    "print(\"Treatment: \\n\", treat['time'].describe())\n",
    "print(\"Overall: \\n\", overall['time'].describe())\n"
   ]
  },
  {
   "cell_type": "markdown",
   "metadata": {},
   "source": [
    "This table tells us that the average time to death was shortest for Poison 3 making it them most deadly. Like, I guess treatment B is most effective but if you die in 6.7 hours versus 3.1 hours it doesn't make that much of a difference. I suppose if your will is non finalized better to get treatment B so you can get ur paperwork in order. I wonder what I would do with those extra 3.6 hours, not Psets for sure. \n",
    "\n",
    "For the sake of not being a nihilist I'm going to assume that these are temporary treatments and if you survive longer it increases your odds of making it to the hospital where your life might be saved for real for real. If you get poison 1, your best shot is treatment B. If you get poison 2, best shot is again treatment B. If you get poison 3, ur like kinda \"type screwed\" as we say in my apartment but like you got the best shot with treatment B again. Really like why do the other treatments exist. Like A is the worst in every category is that the one you give to your uncle Geoff who you never really liked?"
   ]
  },
  {
   "cell_type": "code",
   "execution_count": 13,
   "metadata": {},
   "outputs": [
    {
     "name": "stdout",
     "output_type": "stream",
     "text": [
      "diamonds\n",
      "\n",
      "PyDataset Documentation (adopted from R Documentation. The displayed examples are in R)\n",
      "\n",
      "## Prices of 50,000 round cut diamonds\n",
      "\n",
      "### Description\n",
      "\n",
      "A dataset containing the prices and other attributes of almost 54,000\n",
      "diamonds. The variables are as follows:\n",
      "\n",
      "### Usage\n",
      "\n",
      "    data(diamonds)\n",
      "\n",
      "### Format\n",
      "\n",
      "A data frame with 53940 rows and 10 variables\n",
      "\n",
      "### Details\n",
      "\n",
      "  * price. price in US dollars (\\$326–\\$18,823) \n",
      "\n",
      "  * carat. weight of the diamond (0.2–5.01) \n",
      "\n",
      "  * cut. quality of the cut (Fair, Good, Very Good, Premium, Ideal) \n",
      "\n",
      "  * colour. diamond colour, from J (worst) to D (best) \n",
      "\n",
      "  * clarity. a measurement of how clear the diamond is (I1 (worst), SI1, SI2, VS1, VS2, VVS1, VVS2, IF (best)) \n",
      "\n",
      "  * x. length in mm (0–10.74) \n",
      "\n",
      "  * y. width in mm (0–58.9) \n",
      "\n",
      "  * z. depth in mm (0–31.8) \n",
      "\n",
      "  * depth. total depth percentage = z / mean(x, y) = 2 * z / (x + y) (43–79) \n",
      "\n",
      "  * table. width of top of diamond relative to widest point (43–95) \n",
      "\n",
      "\n"
     ]
    }
   ],
   "source": [
    "data(\"diamonds\", show_doc = True)"
   ]
  },
  {
   "cell_type": "code",
   "execution_count": 14,
   "metadata": {},
   "outputs": [
    {
     "name": "stdout",
     "output_type": "stream",
     "text": [
      "   carat      cut color clarity  depth  table  price     x     y     z  \\\n",
      "1   0.23    Ideal     E     SI2   61.5   55.0    326  3.95  3.98  2.43   \n",
      "2   0.21  Premium     E     SI1   59.8   61.0    326  3.89  3.84  2.31   \n",
      "3   0.23     Good     E     VS1   56.9   65.0    327  4.05  4.07  2.31   \n",
      "4   0.29  Premium     I     VS2   62.4   58.0    334  4.20  4.23  2.63   \n",
      "5   0.31     Good     J     SI2   63.3   58.0    335  4.34  4.35  2.75   \n",
      "\n",
      "        avol  \n",
      "1  38.202030  \n",
      "2  34.505856  \n",
      "3  38.076885  \n",
      "4  46.724580  \n",
      "5  51.917250  \n",
      "             count         mean          std    min      25%     50%      75%  \\\n",
      "cut                                                                             \n",
      "Fair        1610.0  4358.757764  3560.386612  337.0  2050.25  3282.0  5205.50   \n",
      "Good        4906.0  3928.864452  3681.589584  327.0  1145.00  3050.5  5028.00   \n",
      "Ideal      21551.0  3457.541970  3808.401172  326.0   878.00  1810.0  4678.50   \n",
      "Premium    13791.0  4584.257704  4349.204961  326.0  1046.00  3185.0  6296.00   \n",
      "Very Good  12082.0  3981.759891  3935.862161  336.0   912.00  2648.0  5372.75   \n",
      "\n",
      "               max  \n",
      "cut                 \n",
      "Fair       18574.0  \n",
      "Good       18788.0  \n",
      "Ideal      18806.0  \n",
      "Premium    18823.0  \n",
      "Very Good  18818.0  \n"
     ]
    },
    {
     "data": {
      "text/plain": [
       "Text(0.5, 1.0, 'Cut')"
      ]
     },
     "execution_count": 14,
     "metadata": {},
     "output_type": "execute_result"
    },
    {
     "data": {
      "image/png": "[encoded data removed]",
      "text/plain": [
       "<Figure size 432x288 with 1 Axes>"
      ]
     },
     "metadata": {
      "needs_background": "light"
     },
     "output_type": "display_data"
    }
   ],
   "source": [
    "diamonds['avol'] = diamonds['x'] * diamonds['y'] * diamonds['z']\n",
    "diamonds['clarity'] = pd.Categorical(diamonds['clarity'])\n",
    "print(diamonds.head())\n",
    "cut = diamonds.groupby(\"cut\")\n",
    "color = diamonds.groupby(\"color\")\n",
    "print(cut['price'].describe())\n",
    "cut[\"price\"].mean().plot(kind=\"barh\", xerr=cut.std())\n",
    "plt.title(\"Cut\")"
   ]
  },
  {
   "cell_type": "code",
   "execution_count": 15,
   "metadata": {},
   "outputs": [
    {
     "name": "stdout",
     "output_type": "stream",
     "text": [
      "         count         mean          std    min     25%     50%      75%  \\\n",
      "color                                                                      \n",
      "D       6775.0  3169.954096  3356.590935  357.0   911.0  1838.0  4213.50   \n",
      "E       9797.0  3076.752475  3344.158685  326.0   882.0  1739.0  4003.00   \n",
      "F       9542.0  3724.886397  3784.992007  342.0   982.0  2343.5  4868.25   \n",
      "G      11292.0  3999.135671  4051.102846  354.0   931.0  2242.0  6048.00   \n",
      "H       8304.0  4486.669196  4215.944171  337.0   984.0  3460.0  5980.25   \n",
      "I       5422.0  5091.874954  4722.387604  334.0  1120.5  3730.0  7201.75   \n",
      "J       2808.0  5323.818020  4438.187251  335.0  1860.5  4234.0  7695.00   \n",
      "\n",
      "           max  \n",
      "color           \n",
      "D      18693.0  \n",
      "E      18731.0  \n",
      "F      18791.0  \n",
      "G      18818.0  \n",
      "H      18803.0  \n",
      "I      18823.0  \n",
      "J      18710.0  \n"
     ]
    },
    {
     "data": {
      "text/plain": [
       "Text(0.5, 1.0, 'Color')"
      ]
     },
     "execution_count": 15,
     "metadata": {},
     "output_type": "execute_result"
    },
    {
     "data": {
      "image/png": "[encoded data removed]",
      "text/plain": [
       "<Figure size 432x288 with 1 Axes>"
      ]
     },
     "metadata": {
      "needs_background": "light"
     },
     "output_type": "display_data"
    }
   ],
   "source": [
    "print(color['price'].describe())\n",
    "color[\"price\"].mean().plot(kind=\"barh\", xerr=color.std())\n",
    "plt.title(\"Color\")"
   ]
  },
  {
   "cell_type": "markdown",
   "metadata": {},
   "source": [
    "It seems that cut has little to no impact on price counterintuitively while certainly colors do show differences in their average price to a significant degree."
   ]
  },
  {
   "cell_type": "code",
   "execution_count": 19,
   "metadata": {},
   "outputs": [
    {
     "name": "stdout",
     "output_type": "stream",
     "text": [
      "              carat      depth        avol        price\n",
      "cut                                                    \n",
      "Fair       1.219175  64.585149  191.287122  5135.683168\n",
      "Good       0.914729  62.499573  146.800605  4276.254986\n",
      "Ideal      0.799525  61.733194  131.114846  3889.334831\n",
      "Premium    1.016449  61.322034  165.798350  5216.706780\n",
      "Very Good  0.915948  61.968366  148.352078  4535.390351\n"
     ]
    }
   ],
   "source": [
    "colorcut = diamonds.groupby([\"color\", \"cut\"])\n",
    "H = color.get_group(\"H\")\n",
    "hcut = H.groupby(\"cut\")\n",
    "print(hcut[\"carat\", \"depth\", \"avol\", 'price'].mean())\n"
   ]
  },
  {
   "cell_type": "markdown",
   "metadata": {},
   "source": [
    "Although the fair diamond should be less valuable pound for pound, On average, they have the highest carat, depth, and approximate volume (x * y * z). Moreover, the modal clarity for fair cut diamonds is not the lowest category like for the other cuts. "
   ]
  },
  {
   "cell_type": "markdown",
   "metadata": {},
   "source": [
    "### Problem 2"
   ]
  },
  {
   "cell_type": "code",
   "execution_count": 32,
   "metadata": {},
   "outputs": [
    {
     "name": "stdout",
     "output_type": "stream",
     "text": [
      "   Pclass  Survived                                             Name     Sex  \\\n",
      "0     1.0       1.0                    Allen, Miss. Elisabeth Walton  female   \n",
      "1     1.0       1.0                   Allison, Master. Hudson Trevor    male   \n",
      "2     1.0       0.0                     Allison, Miss. Helen Loraine  female   \n",
      "3     1.0       0.0             Allison, Mr. Hudson Joshua Creighton    male   \n",
      "4     1.0       0.0  Allison, Mrs. Hudson J C (Bessie Waldo Daniels)  female   \n",
      "\n",
      "       Age  Sibsp  Parch  Ticket      Fare    Cabin Embarked Boat   Body  \\\n",
      "0  29.0000    0.0    0.0   24160  211.3375       B5        S    2    NaN   \n",
      "1   0.9167    1.0    2.0  113781  151.5500  C22 C26        S   11    NaN   \n",
      "2   2.0000    1.0    2.0  113781  151.5500  C22 C26        S  NaN    NaN   \n",
      "3  30.0000    1.0    2.0  113781  151.5500  C22 C26        S  NaN  135.0   \n",
      "4  25.0000    1.0    2.0  113781  151.5500  C22 C26        S  NaN    NaN   \n",
      "\n",
      "                         home.dest  \n",
      "0                     St Louis, MO  \n",
      "1  Montreal, PQ / Chesterville, ON  \n",
      "2  Montreal, PQ / Chesterville, ON  \n",
      "3  Montreal, PQ / Chesterville, ON  \n",
      "4  Montreal, PQ / Chesterville, ON  \n",
      "\n",
      " \n",
      " \n",
      " \n",
      "Embarked\n",
      "C    0.555556\n",
      "Q    0.357724\n",
      "S    0.332604\n",
      "Name: Survived, dtype: float64\n",
      "\n",
      "\n",
      "Sex         female      male\n",
      "Embarked                    \n",
      "C         0.902655  0.305732\n",
      "Q         0.616667  0.111111\n",
      "S         0.680412  0.170144\n"
     ]
    }
   ],
   "source": [
    "data(\"Titanic\", show_doc = False)\n",
    "titanic = pd.read_csv(\"titanic.csv\")\n",
    "print(titanic.head())\n",
    "print(\"\\n \\n \\n \")\n",
    "print(titanic.groupby(\"Embarked\")['Survived'].mean())\n",
    "print(\"\\n\")\n",
    "print(titanic.pivot_table(values=\"Survived\", index=[\"Embarked\"], columns=\"Sex\") )"
   ]
  },
  {
   "cell_type": "code",
   "execution_count": 35,
   "metadata": {},
   "outputs": [
    {
     "name": "stdout",
     "output_type": "stream",
     "text": [
      "Sex         female      male\n",
      "Embarked                    \n",
      "C         1.646018  2.000000\n",
      "Q         2.900000  2.888889\n",
      "S         2.206186  2.414125\n",
      "Sex       female      male\n",
      "Pclass                    \n",
      "1.0     0.965278  0.340782\n",
      "2.0     0.886792  0.146199\n",
      "3.0     0.490741  0.152130\n"
     ]
    }
   ],
   "source": [
    "print(titanic.pivot_table(values=\"Pclass\", index=[\"Embarked\"], columns=\"Sex\") )"
   ]
  },
  {
   "cell_type": "markdown",
   "metadata": {},
   "source": [
    "It looks like the people from port C were of, on average higher class than the other ports and since higher classes had higher rates of survival it is likely that only the class, not the port is driving this pattern. This makes more causal sense."
   ]
  },
  {
   "cell_type": "code",
   "execution_count": 37,
   "metadata": {},
   "outputs": [
    {
     "name": "stdout",
     "output_type": "stream",
     "text": [
      "Sex       female      male\n",
      "Pclass                    \n",
      "1.0     0.965278  0.340782\n",
      "2.0     0.886792  0.146199\n",
      "3.0     0.490741  0.152130\n",
      "Sex                female      male\n",
      "Pclass Age                         \n",
      "1.0    (0, 12]   0.000000  1.000000\n",
      "       (12, 18]  1.000000  0.500000\n",
      "       (18, 80]  0.966667  0.328671\n",
      "2.0    (0, 12]   1.000000  1.000000\n",
      "       (12, 18]  0.875000  0.000000\n",
      "       (18, 80]  0.878049  0.087591\n",
      "3.0    (0, 12]   0.466667  0.342857\n",
      "       (12, 18]  0.607143  0.081081\n",
      "       (18, 80]  0.436170  0.158845\n"
     ]
    }
   ],
   "source": [
    "print(titanic.pivot_table(values=\"Survived\", index=[\"Pclass\"], columns=\"Sex\") )\n",
    "\n",
    "age = pd.cut(titanic['Age'], [0, 12, 18, 80])\n",
    "print(titanic.pivot_table(values=\"Survived\", index=[\"Pclass\", age], columns=\"Sex\") )"
   ]
  },
  {
   "cell_type": "code",
   "execution_count": null,
   "metadata": {},
   "outputs": [],
   "source": []
  }
 ],
 "metadata": {
  "kernelspec": {
   "display_name": "Python 3",
   "language": "python",
   "name": "python3"
  },
  "language_info": {
   "codemirror_mode": {
    "name": "ipython",
    "version": 3
   },
   "file_extension": ".py",
   "mimetype": "text/x-python",
   "name": "python",
   "nbconvert_exporter": "python",
   "pygments_lexer": "ipython3",
   "version": "3.7.3"
  }
 },
 "nbformat": 4,
 "nbformat_minor": 2
}
