{
 "cells": [
  {
   "cell_type": "markdown",
   "metadata": {},
   "source": [
    "Problem 1"
   ]
  },
  {
   "cell_type": "code",
   "execution_count": 1,
   "metadata": {},
   "outputs": [],
   "source": [
    "def sumstats(L):\n",
    "    '''\n",
    "    Given a list, the function returns a tuple of summary statistics:\n",
    "    maximum, minimum, average\n",
    "    Inputs: \n",
    "        - L: List\n",
    "    Outputs\n",
    "        - tuple with the values\n",
    "    '''\n",
    "    return (min(L), max(L), sum(L)/len(L))\n",
    "    "
   ]
  },
  {
   "cell_type": "code",
   "execution_count": 2,
   "metadata": {},
   "outputs": [
    {
     "data": {
      "text/plain": [
       "[1, 2, 3, 4, 5, 6, 7, 8, 9, 10]"
      ]
     },
     "execution_count": 2,
     "metadata": {},
     "output_type": "execute_result"
    }
   ],
   "source": [
    "L = list(range(1,11))\n",
    "L\n"
   ]
  },
  {
   "cell_type": "code",
   "execution_count": 3,
   "metadata": {},
   "outputs": [
    {
     "data": {
      "text/plain": [
       "(1, 10, 5.5)"
      ]
     },
     "execution_count": 3,
     "metadata": {},
     "output_type": "execute_result"
    }
   ],
   "source": [
    "sumstats(L)\n"
   ]
  },
  {
   "cell_type": "markdown",
   "metadata": {},
   "source": [
    "Problem 2:"
   ]
  },
  {
   "cell_type": "code",
   "execution_count": 4,
   "metadata": {},
   "outputs": [
    {
     "name": "stdout",
     "output_type": "stream",
     "text": [
      "Int1 is 5 \n",
      "Int2 is 6\n"
     ]
    },
    {
     "data": {
      "text/plain": [
       "False"
      ]
     },
     "execution_count": 4,
     "metadata": {},
     "output_type": "execute_result"
    }
   ],
   "source": [
    "int1 = 5\n",
    "int2 = int1\n",
    "int2 += 1\n",
    "print(\"Int1 is\", int1, \"\\nInt2 is\", int2)\n",
    "int1 == int2"
   ]
  },
  {
   "cell_type": "code",
   "execution_count": 5,
   "metadata": {},
   "outputs": [
    {
     "name": "stdout",
     "output_type": "stream",
     "text": [
      "str1 is Hello \n",
      "str2 is Hello my name is Isaac\n"
     ]
    },
    {
     "data": {
      "text/plain": [
       "False"
      ]
     },
     "execution_count": 5,
     "metadata": {},
     "output_type": "execute_result"
    }
   ],
   "source": [
    "str1 = \"Hello\"\n",
    "str2 = str1\n",
    "str2 += \" my name is Isaac\"\n",
    "print(\"str1 is\", str1, \"\\nstr2 is\", str2)\n",
    "str2 == str1"
   ]
  },
  {
   "cell_type": "code",
   "execution_count": 6,
   "metadata": {},
   "outputs": [
    {
     "name": "stdout",
     "output_type": "stream",
     "text": [
      "list1 is [1, 2, 4] \n",
      "list2 is [1, 2, 4]\n"
     ]
    },
    {
     "data": {
      "text/plain": [
       "True"
      ]
     },
     "execution_count": 6,
     "metadata": {},
     "output_type": "execute_result"
    }
   ],
   "source": [
    "list1 = [1, 2, 3]\n",
    "list2 = list1\n",
    "list2[2] = 4\n",
    "print(\"list1 is\", list1, \"\\nlist2 is\", list2)\n",
    "list1 == list2"
   ]
  },
  {
   "cell_type": "code",
   "execution_count": 7,
   "metadata": {},
   "outputs": [
    {
     "name": "stdout",
     "output_type": "stream",
     "text": [
      "list1 is [1, 2, 3, 4] \n",
      "list2 is [1, 2, 3, 4]\n"
     ]
    },
    {
     "data": {
      "text/plain": [
       "True"
      ]
     },
     "execution_count": 7,
     "metadata": {},
     "output_type": "execute_result"
    }
   ],
   "source": [
    "list1 = [1, 2, 3]\n",
    "list2 = list1\n",
    "list2.append(4)\n",
    "print(\"list1 is\", list1, \"\\nlist2 is\", list2)\n",
    "list1 == list2"
   ]
  },
  {
   "cell_type": "code",
   "execution_count": 8,
   "metadata": {},
   "outputs": [
    {
     "name": "stdout",
     "output_type": "stream",
     "text": [
      "tup1 is (1, 2, 3) \n",
      "tup2 is (1, 2, 3, 1)\n"
     ]
    },
    {
     "data": {
      "text/plain": [
       "False"
      ]
     },
     "execution_count": 8,
     "metadata": {},
     "output_type": "execute_result"
    }
   ],
   "source": [
    "tup1 = (1, 2, 3)\n",
    "tup2 = tup1\n",
    "tup2 += (1,)\n",
    "print(\"tup1 is\", tup1, \"\\ntup2 is\", tup2)\n",
    "tup1 == tup2"
   ]
  },
  {
   "cell_type": "code",
   "execution_count": 9,
   "metadata": {},
   "outputs": [
    {
     "name": "stdout",
     "output_type": "stream",
     "text": [
      "set1 is {'b', 'c', 'a', 'd'} \n",
      "set2 is {'b', 'c', 'a', 'd'}\n"
     ]
    },
    {
     "data": {
      "text/plain": [
       "True"
      ]
     },
     "execution_count": 9,
     "metadata": {},
     "output_type": "execute_result"
    }
   ],
   "source": [
    "set1 = {'a', 'b', 'c'}\n",
    "set2 = set1\n",
    "set2.add('d')\n",
    "print(\"set1 is\", set1, \"\\nset2 is\", set2)\n",
    "set2 == set1"
   ]
  },
  {
   "cell_type": "markdown",
   "metadata": {},
   "source": [
    "Based on the above code, Integers, strings, and tuples appear to all be immutable while lists and sets are both mutable"
   ]
  },
  {
   "cell_type": "markdown",
   "metadata": {},
   "source": [
    "Problem 3"
   ]
  },
  {
   "cell_type": "code",
   "execution_count": 10,
   "metadata": {},
   "outputs": [],
   "source": [
    "import math\n",
    "import numpy as np"
   ]
  },
  {
   "cell_type": "code",
   "execution_count": 11,
   "metadata": {},
   "outputs": [],
   "source": [
    "from math import sqrt"
   ]
  },
  {
   "cell_type": "code",
   "execution_count": 12,
   "metadata": {},
   "outputs": [],
   "source": [
    "import calculator"
   ]
  },
  {
   "cell_type": "code",
   "execution_count": 13,
   "metadata": {},
   "outputs": [],
   "source": [
    "def pythagoras(side1, side2):\n",
    "    '''\n",
    "    Given two sides of a right triangle calculates the hypotenuse\n",
    "    using the functions in the calculator module\n",
    "    '''\n",
    "    rv = calculator.mysum(calculator.myproduct(side1,side1),calculator.myproduct(side2,side2))\n",
    "    return sqrt(rv)\n"
   ]
  },
  {
   "cell_type": "code",
   "execution_count": 14,
   "metadata": {},
   "outputs": [
    {
     "data": {
      "text/plain": [
       "5.0"
      ]
     },
     "execution_count": 14,
     "metadata": {},
     "output_type": "execute_result"
    }
   ],
   "source": [
    "pythagoras(4, 3)"
   ]
  },
  {
   "cell_type": "markdown",
   "metadata": {},
   "source": [
    "Problem 4"
   ]
  },
  {
   "cell_type": "code",
   "execution_count": 15,
   "metadata": {},
   "outputs": [],
   "source": [
    "import itertools\n",
    "def powerset(A):\n",
    "    '''\n",
    "    Given an iterable item the function returns the power set of the iterable \n",
    "    Inputs: Itera, an iterator \n",
    "    Outputs: list of sets\n",
    "    '''\n",
    "    rv = []\n",
    "    rv.append(set()) \n",
    "    for i in range(len(A)):\n",
    "        tmp = list(itertools.combinations(A, i+1))\n",
    "        for tup in tmp:\n",
    "            rv.append(set(tup))\n",
    "    return rv"
   ]
  },
  {
   "cell_type": "code",
   "execution_count": 16,
   "metadata": {},
   "outputs": [
    {
     "data": {
      "text/plain": [
       "[set(),\n",
       " {1},\n",
       " {2},\n",
       " {3},\n",
       " {4},\n",
       " {5},\n",
       " {1, 2},\n",
       " {1, 3},\n",
       " {1, 4},\n",
       " {1, 5},\n",
       " {2, 3},\n",
       " {2, 4},\n",
       " {2, 5},\n",
       " {3, 4},\n",
       " {3, 5},\n",
       " {4, 5},\n",
       " {1, 2, 3},\n",
       " {1, 2, 4},\n",
       " {1, 2, 5},\n",
       " {1, 3, 4},\n",
       " {1, 3, 5},\n",
       " {1, 4, 5},\n",
       " {2, 3, 4},\n",
       " {2, 3, 5},\n",
       " {2, 4, 5},\n",
       " {3, 4, 5},\n",
       " {1, 2, 3, 4},\n",
       " {1, 2, 3, 5},\n",
       " {1, 2, 4, 5},\n",
       " {1, 3, 4, 5},\n",
       " {2, 3, 4, 5},\n",
       " {1, 2, 3, 4, 5}]"
      ]
     },
     "execution_count": 16,
     "metadata": {},
     "output_type": "execute_result"
    }
   ],
   "source": [
    "powerset([1,2,3,4,5])"
   ]
  },
  {
   "cell_type": "markdown",
   "metadata": {},
   "source": [
    "Problem 5 "
   ]
  },
  {
   "cell_type": "code",
   "execution_count": 17,
   "metadata": {},
   "outputs": [],
   "source": [
    "import sys \n",
    "import box "
   ]
  },
  {
   "cell_type": "code",
   "execution_count": 18,
   "metadata": {},
   "outputs": [],
   "source": [
    "import Prob5\n",
    "import random"
   ]
  },
  {
   "cell_type": "code",
   "execution_count": 19,
   "metadata": {},
   "outputs": [
    {
     "name": "stdout",
     "output_type": "stream",
     "text": [
      "Numbers Left:  [1, 2, 3, 4, 5, 6, 7, 8, 9]\n",
      "Roll:  7\n",
      "Seconds Left: 1000\n",
      "Numbers to Eliminate: 7\n",
      "Numbers Left:  [1, 2, 3, 4, 5, 6, 8, 9]\n",
      "Roll:  4\n",
      "Seconds Left: 997\n",
      "Numbers to Eliminate: 4\n",
      "Numbers Left:  [1, 2, 3, 5, 6, 8, 9]\n",
      "Roll:  6\n",
      "Seconds Left: 995\n",
      "Numbers to Eliminate: 6\n",
      "Numbers Left:  [1, 2, 3, 5, 8, 9]\n",
      "Roll:  6\n",
      "Seconds Left: 993\n",
      "Numbers to Eliminate: 5 1 \n",
      "Numbers Left:  [2, 3, 8, 9]\n",
      "Roll:  5\n",
      "Seconds Left: 987\n",
      "Numbers to Eliminate: 2 3 \n",
      "Numbers Left:  [8, 9]\n",
      "Roll:  6\n",
      "Game Over Loser\n",
      "Sorry buddy ya snooze ya looze time ran out and you lost\n",
      "Also this is like golf so points are bad :(\n",
      "You now have 17 points\n"
     ]
    }
   ],
   "source": [
    "run Prob5.py Isaac 1000"
   ]
  },
  {
   "cell_type": "code",
   "execution_count": null,
   "metadata": {},
   "outputs": [],
   "source": []
  }
 ],
 "metadata": {
  "kernelspec": {
   "display_name": "Python 3",
   "language": "python",
   "name": "python3"
  },
  "language_info": {
   "codemirror_mode": {
    "name": "ipython",
    "version": 3
   },
   "file_extension": ".py",
   "mimetype": "text/x-python",
   "name": "python",
   "nbconvert_exporter": "python",
   "pygments_lexer": "ipython3",
   "version": "3.7.3"
  }
 },
 "nbformat": 4,
 "nbformat_minor": 2
}
