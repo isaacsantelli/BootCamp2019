{
 "cells": [
  {
   "cell_type": "markdown",
   "metadata": {},
   "source": [
    "Problem 1 & 3"
   ]
  },
  {
   "cell_type": "code",
   "execution_count": 73,
   "metadata": {},
   "outputs": [],
   "source": [
    "class Backpack:\n",
    "    \"\"\"A Backpack object class. Has a name and a list of contents.\n",
    "    Attributes:\n",
    "        name (str): the name of the backpack's owner.\n",
    "        contents (list): the contents of the backpack.\n",
    "    \"\"\"\n",
    "    def __init__(self, name, color, max_size = None):           # This function is the constructor.\n",
    "        \"\"\"\n",
    "        Set the name and initialize an empty list of contents.\n",
    "        Parameters:\n",
    "            name (str): the name of the backpack's owner.\n",
    "            color: color of the bag\n",
    "            max_size: maximum number of objects that can fit in the bag (default 5)\n",
    "        \"\"\"\n",
    "        self.name = name                # Initialize some attributes.\n",
    "        self.contents = []\n",
    "        self.color = color \n",
    "        if max_size == None:\n",
    "            max_size = 5\n",
    "        self.max_size = max_size\n",
    "        \n",
    "    def __eq__(self, other):\n",
    "        if (self.name != other.name or \n",
    "            self.color != other.color or \n",
    "            len(self.contents) != len(self.contents)):\n",
    "            return False\n",
    "        else:\n",
    "            return True\n",
    "        \n",
    "    def __str__(self):\n",
    "        '''\n",
    "        Owner:     <name>\n",
    "        Color:     <color>\n",
    "        Size:      <number of items in contents>\n",
    "        Max Size:  <max_size>\n",
    "        Contents:  [<item1>, <item2>, ...]\n",
    "        '''\n",
    "        rv = []\n",
    "        rv.append('{:<15}{}'.format('Owner:', self.name))\n",
    "        rv.append('{:<15}{}'.format('Color:', self.color))\n",
    "        rv.append('{:<15}{}'.format('Size:', len(self.contents)))\n",
    "        rv.append('{:<15}{}'.format('Max Size:', self.max_size))\n",
    "        rv.append('{:<15}{}'.format('Contents:', self.contents))\n",
    "        return '\\n'.join(rv)\n",
    "\n",
    "        \n",
    "    def put(self, item):\n",
    "        \"\"\"\n",
    "        Add 'item' to the backpack's list of contents so long as it the \n",
    "        backpack is not at maximimum capacity denotes by self.max_size\n",
    "        \"\"\"\n",
    "        if (len(self.contents) < self.max_size):\n",
    "            self.contents.append(item)\n",
    "        else:\n",
    "            print(\"No Room!\")\n",
    "        \n",
    "    def take(self, item):\n",
    "        \"\"\"Remove 'item' from the backpack's list of contents.\"\"\"\n",
    "        self.contents.remove(item)\n",
    "        \n",
    "    def dump(self):\n",
    "        '''\n",
    "        Empties the bag reseting self.contents to an empty list \n",
    "        '''\n",
    "        self.contents = []"
   ]
  },
  {
   "cell_type": "code",
   "execution_count": 75,
   "metadata": {},
   "outputs": [],
   "source": [
    "everlane = Backpack('Everlane', 'Navy', 6)"
   ]
  },
  {
   "cell_type": "code",
   "execution_count": 76,
   "metadata": {},
   "outputs": [
    {
     "data": {
      "text/plain": [
       "<__main__.Backpack at 0x105cf3278>"
      ]
     },
     "execution_count": 76,
     "metadata": {},
     "output_type": "execute_result"
    }
   ],
   "source": [
    "everlane "
   ]
  },
  {
   "cell_type": "code",
   "execution_count": 77,
   "metadata": {},
   "outputs": [
    {
     "name": "stdout",
     "output_type": "stream",
     "text": [
      "Owner:         Everlane\n",
      "Color:         Navy\n",
      "Size:          0\n",
      "Max Size:      6\n",
      "Contents:      []\n"
     ]
    }
   ],
   "source": [
    "print(everlane)"
   ]
  },
  {
   "cell_type": "code",
   "execution_count": 60,
   "metadata": {},
   "outputs": [],
   "source": [
    "def test_backpack():\n",
    "    testpack = Backpack(\"Barry\", \"black\")\n",
    "    if (testpack.name == \"Barry\"):\n",
    "        print(\"Backpack.name assigned correctly\")\n",
    "    for item in [\"pencil\", \"pen\", \"paper\", \"computer\"]:\n",
    "        testpack.put(item)\n",
    "    print(testpack.contents)\n",
    "    print(\"Max size of the bag is {}\".format(testpack.max_size))\n",
    "    print(\"Color of the bag is {}\".format(testpack.color))"
   ]
  },
  {
   "cell_type": "code",
   "execution_count": 61,
   "metadata": {},
   "outputs": [
    {
     "name": "stdout",
     "output_type": "stream",
     "text": [
      "Backpack.name assigned correctly\n",
      "['pencil', 'pen', 'paper', 'computer']\n",
      "Max size of the bag is 5\n",
      "Color of the bag is black\n"
     ]
    }
   ],
   "source": [
    "test_backpack()"
   ]
  },
  {
   "cell_type": "markdown",
   "metadata": {},
   "source": [
    "Problem 2"
   ]
  },
  {
   "cell_type": "code",
   "execution_count": 62,
   "metadata": {},
   "outputs": [],
   "source": [
    "class Jetpack(Backpack):\n",
    "    '''\n",
    "    Jetpack verion of backpack inheriting the backpack class\n",
    "    '''\n",
    "    def __init__(self, name, color, max_size = 2, fuel = 10):\n",
    "        '''\n",
    "        Set the name and initialize attributes\n",
    "        Parameters:\n",
    "            name (str): the name of the backpack's owner.\n",
    "            color (str): color of the bag\n",
    "            max_size (int): maximum number of objects that can fit in the bag (default 5)\n",
    "            fuel (int): fuel amount\n",
    "        '''\n",
    "        Backpack.__init__(self, name, color, max_size)\n",
    "        self.fuel = fuel\n",
    "        \n",
    "    def fly(self, fuel):\n",
    "        '''\n",
    "        accepts an amount of fuel to be burned and decrements the fuel attribute by that amount.\n",
    "        '''\n",
    "        if fuel >= self.fuel:\n",
    "            self.fuel -= fuel\n",
    "        else:\n",
    "            print(\"Not enough fuel!\")\n",
    "            \n",
    "    def dump(self):\n",
    "        '''\n",
    "        Empties both the content list and the fuel amount\n",
    "        '''\n",
    "        self.fuel = 0 \n",
    "        self.contents = []\n",
    "    "
   ]
  },
  {
   "cell_type": "code",
   "execution_count": 63,
   "metadata": {},
   "outputs": [],
   "source": [
    "jetty = Jetpack(\"Jetty\", \"Lava\", 2, 100)"
   ]
  },
  {
   "cell_type": "code",
   "execution_count": 64,
   "metadata": {},
   "outputs": [
    {
     "data": {
      "text/plain": [
       "100"
      ]
     },
     "execution_count": 64,
     "metadata": {},
     "output_type": "execute_result"
    }
   ],
   "source": [
    "jetty.fuel\n"
   ]
  },
  {
   "cell_type": "code",
   "execution_count": 65,
   "metadata": {},
   "outputs": [],
   "source": [
    "jetty.put(\"Toothbrush\")"
   ]
  },
  {
   "cell_type": "code",
   "execution_count": 66,
   "metadata": {},
   "outputs": [],
   "source": [
    "jetty.put(\"undies\")"
   ]
  },
  {
   "cell_type": "code",
   "execution_count": 67,
   "metadata": {},
   "outputs": [
    {
     "name": "stdout",
     "output_type": "stream",
     "text": [
      "No Room!\n"
     ]
    }
   ],
   "source": [
    "jetty.put(\"Tacos\")"
   ]
  },
  {
   "cell_type": "code",
   "execution_count": 68,
   "metadata": {},
   "outputs": [
    {
     "data": {
      "text/plain": [
       "['Toothbrush', 'undies']"
      ]
     },
     "execution_count": 68,
     "metadata": {},
     "output_type": "execute_result"
    }
   ],
   "source": [
    "jetty.contents"
   ]
  },
  {
   "cell_type": "code",
   "execution_count": 69,
   "metadata": {},
   "outputs": [],
   "source": [
    "jetty.dump()"
   ]
  },
  {
   "cell_type": "code",
   "execution_count": 70,
   "metadata": {},
   "outputs": [
    {
     "data": {
      "text/plain": [
       "0"
      ]
     },
     "execution_count": 70,
     "metadata": {},
     "output_type": "execute_result"
    }
   ],
   "source": [
    "jetty.fuel"
   ]
  },
  {
   "cell_type": "code",
   "execution_count": 71,
   "metadata": {},
   "outputs": [
    {
     "data": {
      "text/plain": [
       "[]"
      ]
     },
     "execution_count": 71,
     "metadata": {},
     "output_type": "execute_result"
    }
   ],
   "source": [
    "jetty.contents"
   ]
  },
  {
   "cell_type": "markdown",
   "metadata": {},
   "source": [
    "Problem 4"
   ]
  },
  {
   "cell_type": "code",
   "execution_count": 114,
   "metadata": {},
   "outputs": [],
   "source": [
    "import math"
   ]
  },
  {
   "cell_type": "code",
   "execution_count": 210,
   "metadata": {},
   "outputs": [],
   "source": [
    "class ComplexNumber:\n",
    "    '''\n",
    "    A class to represent complex numbers. Complex number have two parts, the complex\n",
    "    and real portion denoted in total a+bi. 'a' is the real part and takes a value in \n",
    "    the Real Numbers (R), 'b' is the imaginary part and also takes a value in R. \n",
    "    i denotes the fact that it is imaginary, i = sqrt(-1)\n",
    "    '''\n",
    "    \n",
    "    def __init__(self, real, imag):\n",
    "        '''\n",
    "        Constructor for complex number object \n",
    "        '''\n",
    "        self.real = real\n",
    "        self.imag = imag\n",
    "        \n",
    "    def __str__(self):\n",
    "        if self.imag >= 0:\n",
    "            return (\"({}+{}j)\".format(self.real, self.imag))\n",
    "        else:\n",
    "            return (\"({}-{}j)\".format(self.real, abs(self.imag)))\n",
    "\n",
    "    def __abs__(self):\n",
    "        return math.sqrt(self.imag**2 + self.real**2)\n",
    "    \n",
    "    def __eq__(self, other):\n",
    "        return (self.real == other.real and self.imag == other.imag)\n",
    "    \n",
    "    def __add__(self, other):\n",
    "        return ComplexNumber(self.real + other.real, self.imag + other.imag)\n",
    "        \n",
    "    def __sub__(self, other):\n",
    "        return ComplexNumber(self.real - other.real, self.imag - other.imag)\n",
    "        \n",
    "    def __mul__(self, other):\n",
    "        newreal = (self.real * other.real) - (self.imag * other.imag)\n",
    "        newimag = (self.real * other.imag) + (self.imag * other.real)\n",
    "        return ComplexNumber(newreal, newimag)\n",
    "        \n",
    "    def __truediv__(self, other):\n",
    "        newreal = ((self.real * other.real) + (self.imag * other.imag))\n",
    "        newreal = newreal / (other.real ** 2 + other.imag ** 2)\n",
    "        newimag = (self.imag * other.real) - (self.real * other.imag)\n",
    "        newimag = newimag / (other.real ** 2 + other.imag ** 2)\n",
    "        return ComplexNumber(newreal, newimag)\n",
    "    \n",
    "    def conjugate(self):\n",
    "        return ComplexNumber(self.real, -self.imag)\n",
    "    \n",
    "    "
   ]
  },
  {
   "cell_type": "code",
   "execution_count": 211,
   "metadata": {},
   "outputs": [],
   "source": [
    "c1 = ComplexNumber(1,2)"
   ]
  },
  {
   "cell_type": "code",
   "execution_count": 212,
   "metadata": {},
   "outputs": [
    {
     "name": "stdout",
     "output_type": "stream",
     "text": [
      "(1+2j)\n"
     ]
    }
   ],
   "source": [
    "print(c1)"
   ]
  },
  {
   "cell_type": "code",
   "execution_count": 213,
   "metadata": {},
   "outputs": [
    {
     "data": {
      "text/plain": [
       "<bound method ComplexNumber.conjugate of <__main__.ComplexNumber object at 0x105762c18>>"
      ]
     },
     "execution_count": 213,
     "metadata": {},
     "output_type": "execute_result"
    }
   ],
   "source": [
    "c1.conjugate"
   ]
  },
  {
   "cell_type": "code",
   "execution_count": 214,
   "metadata": {},
   "outputs": [],
   "source": [
    "c2 = c1.conjugate()"
   ]
  },
  {
   "cell_type": "code",
   "execution_count": 215,
   "metadata": {},
   "outputs": [
    {
     "name": "stdout",
     "output_type": "stream",
     "text": [
      "(2+0j)\n"
     ]
    }
   ],
   "source": [
    "print (c1 + c2 )"
   ]
  },
  {
   "cell_type": "code",
   "execution_count": 216,
   "metadata": {},
   "outputs": [
    {
     "name": "stdout",
     "output_type": "stream",
     "text": [
      "(0+4j)\n"
     ]
    }
   ],
   "source": [
    "print (c1 - c2)"
   ]
  },
  {
   "cell_type": "code",
   "execution_count": 217,
   "metadata": {},
   "outputs": [
    {
     "name": "stdout",
     "output_type": "stream",
     "text": [
      "(5+0j)\n"
     ]
    }
   ],
   "source": [
    "print (c1 * c2)"
   ]
  },
  {
   "cell_type": "code",
   "execution_count": 218,
   "metadata": {},
   "outputs": [
    {
     "name": "stdout",
     "output_type": "stream",
     "text": [
      "(-0.6+0.8j)\n"
     ]
    }
   ],
   "source": [
    "print (c1 / c2 )"
   ]
  },
  {
   "cell_type": "code",
   "execution_count": 219,
   "metadata": {},
   "outputs": [],
   "source": [
    "def test_ComplexNumber(a, b):\n",
    "    py_cnum, my_cnum = complex(a, b), ComplexNumber(a, b)\n",
    "    # Validate the constructor.\n",
    "    if my_cnum.real != a or my_cnum.imag != b:\n",
    "        print(\"__init__() set self.real and self.imag incorrectly\")\n",
    "    # Validate conjugate() by checking the new number's imag attribute.\n",
    "    if py_cnum.conjugate().imag != my_cnum.conjugate().imag:\n",
    "        print(\"conjugate() failed for\", py_cnum)\n",
    "    # Validate __str__().\n",
    "    if str(py_cnum) != str(my_cnum):\n",
    "        print(\"__str__() failed for\", py_cnum)\n",
    "    # Validate\n"
   ]
  },
  {
   "cell_type": "code",
   "execution_count": 223,
   "metadata": {},
   "outputs": [],
   "source": [
    "test_ComplexNumber(1, 2)"
   ]
  },
  {
   "cell_type": "code",
   "execution_count": 221,
   "metadata": {},
   "outputs": [
    {
     "data": {
      "text/plain": [
       "(1+2j)"
      ]
     },
     "execution_count": 221,
     "metadata": {},
     "output_type": "execute_result"
    }
   ],
   "source": [
    "complex(1, 2)"
   ]
  },
  {
   "cell_type": "code",
   "execution_count": 222,
   "metadata": {},
   "outputs": [
    {
     "name": "stdout",
     "output_type": "stream",
     "text": [
      "(1+2j)\n"
     ]
    }
   ],
   "source": [
    "print(ComplexNumber(1,2))"
   ]
  }
 ],
 "metadata": {
  "kernelspec": {
   "display_name": "Python 3",
   "language": "python",
   "name": "python3"
  },
  "language_info": {
   "codemirror_mode": {
    "name": "ipython",
    "version": 3
   },
   "file_extension": ".py",
   "mimetype": "text/x-python",
   "name": "python",
   "nbconvert_exporter": "python",
   "pygments_lexer": "ipython3",
   "version": "3.7.3"
  }
 },
 "nbformat": 4,
 "nbformat_minor": 2
}
