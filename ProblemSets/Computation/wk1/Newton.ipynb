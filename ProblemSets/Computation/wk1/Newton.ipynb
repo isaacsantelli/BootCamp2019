{
 "cells": [
  {
   "cell_type": "markdown",
   "metadata": {},
   "source": [
    "Problem 1"
   ]
  },
  {
   "cell_type": "code",
   "execution_count": 32,
   "metadata": {},
   "outputs": [
    {
     "name": "stdout",
     "output_type": "stream",
     "text": [
      "1.2706705664732254\n",
      "0.8319573037399686\n",
      "0.7023505840171669\n",
      "0.6931894022505122\n",
      "0.6931471814512683\n",
      "0.6931471805599453\n",
      "woohoo\n",
      "0.6931471805599453\n",
      "1.59375\n",
      "1.3805806095506252\n",
      "1.3204558637587656\n",
      "1.3160957760892447\n",
      "1.3160740134923037\n",
      "1.3160740129524924\n",
      "woohoo\n",
      "1.3160740129524924\n"
     ]
    }
   ],
   "source": [
    "import numpy as np\n",
    "\n",
    "def newton(f, x_0, f_prime, stop_tol = 10 ** -5, max_iter = 15):\n",
    "    x_t = x_0\n",
    "    for i in range(max_iter):  \n",
    "        x_t1 = x_t - ( f(x_t) / f_prime(x_t) )\n",
    "        print(x_t1)\n",
    "        if (abs(x_t1 - x_t) < stop_tol):\n",
    "            print(\"woohoo\")\n",
    "            return x_t1\n",
    "        x_t = x_t1\n",
    "    print(\"Convergence Failed\")\n",
    "    return None\n",
    "    \n",
    "f = lambda x: np.exp(x) - 2\n",
    "df = lambda x: np.exp(x)\n",
    "print(newton(f, 2, df))\n",
    "f = lambda x: (x ** 4) - 3 \n",
    "df = lambda x: 4 * (x ** 3)\n",
    "print(newton(f, 2, df))"
   ]
  },
  {
   "cell_type": "markdown",
   "metadata": {},
   "source": [
    "Problem 3"
   ]
  },
  {
   "cell_type": "code",
   "execution_count": 36,
   "metadata": {},
   "outputs": [
    {
     "name": "stdout",
     "output_type": "stream",
     "text": [
      "-0.02000000000000001\n",
      "0.04000000000000004\n",
      "-0.08000000000000013\n",
      "0.16000000000000028\n",
      "-0.3200000000000006\n",
      "0.6400000000000013\n",
      "-1.280000000000003\n",
      "2.560000000000006\n",
      "-5.1200000000000125\n",
      "10.240000000000023\n",
      "-20.480000000000047\n",
      "40.96000000000008\n",
      "-81.92000000000013\n",
      "163.84000000000023\n",
      "-327.6800000000003\n",
      "Convergence Failed\n",
      "-0.0020000000000000035\n",
      "0.0004000000000000019\n",
      "-8.000000000000059e-05\n",
      "1.6000000000000186e-05\n",
      "-3.2000000000000507e-06\n",
      "6.400000000000134e-07\n",
      "woohoo\n",
      "0.003999999999999998\n",
      "0.0015999999999999986\n",
      "0.0006399999999999991\n",
      "0.00025599999999999945\n",
      "0.0001023999999999997\n",
      "4.095999999999984e-05\n",
      "1.638399999999992e-05\n",
      "6.5535999999999604e-06\n",
      "woohoo\n"
     ]
    },
    {
     "data": {
      "text/plain": [
       "6.5535999999999604e-06"
      ]
     },
     "execution_count": 36,
     "metadata": {},
     "output_type": "execute_result"
    }
   ],
   "source": [
    "def newton3(f, x_0, f_prime, alpha = 1, stop_tol = 10 ** -5, max_iter = 15):\n",
    "    x_t = x_0\n",
    "    for i in range(max_iter):  \n",
    "        x_t1 = x_t - alpha * ( f(x_t) / f_prime(x_t) )\n",
    "        print(x_t1)\n",
    "        if (abs(x_t1 - x_t) < stop_tol):\n",
    "            print(\"woohoo\")\n",
    "            return x_t1\n",
    "            break\n",
    "        x_t = x_t1\n",
    "    print(\"Convergence Failed\")\n",
    "    return None\n",
    "    \n",
    "f = lambda x: np.sign(x) * np.power(np.abs(x), 1./3) \n",
    "df =  lambda x: (1/3) * np.power(np.abs(x), (-2./3))\n",
    "newton3(f, .01, df, 1)\n",
    "newton3(f, .01, df, .4)\n"
   ]
  },
  {
   "cell_type": "code",
   "execution_count": 50,
   "metadata": {},
   "outputs": [
    {
     "data": {
      "text/plain": [
       "0.3261261261261262"
      ]
     },
     "execution_count": 50,
     "metadata": {},
     "output_type": "execute_result"
    }
   ],
   "source": [
    "def newton4(f, x_0, f_prime, alpha = 1, stop_tol = 10 ** -5, max_iter = 300):\n",
    "    x_t = x_0\n",
    "    x_t1 = x_t * 2\n",
    "    itera = 0 \n",
    "    while (abs(x_t1 - x_t) > stop_tol):\n",
    "        itera += 1\n",
    "        x_t = x_t1\n",
    "        x_t1 = x_t - alpha * ( f(x_t) / f_prime(x_t) )\n",
    "        if (itera > 500): return None \n",
    "    return (x_t1, itera)\n",
    "\n",
    "def min_iter(f, x_0, f_prime, stop_tol = 10 ** -5, max_iter = 300):\n",
    "    alpha = np.linspace(.01, 1, 1000)\n",
    "    best = [0, 10000]\n",
    "    for i, a in enumerate(alpha):\n",
    "        tmp = newton4(f, x_0, f_prime, a, stop_tol, max_iter)\n",
    "        if (tmp and tmp[1] < best[1]):\n",
    "            best[0] = a\n",
    "            best[1] = tmp[1]\n",
    "        \n",
    "        \n",
    "    return best[0]\n",
    "\n",
    "f = lambda x: np.sign(x) * np.power(np.abs(x), 1./3) \n",
    "df =  lambda x: (1/3) * np.power(np.abs(x), (-2./3))\n",
    "min_iter(f, .01, df)\n"
   ]
  },
  {
   "cell_type": "code",
   "execution_count": null,
   "metadata": {},
   "outputs": [],
   "source": []
  }
 ],
 "metadata": {
  "kernelspec": {
   "display_name": "Python 3",
   "language": "python",
   "name": "python3"
  },
  "language_info": {
   "codemirror_mode": {
    "name": "ipython",
    "version": 3
   },
   "file_extension": ".py",
   "mimetype": "text/x-python",
   "name": "python",
   "nbconvert_exporter": "python",
   "pygments_lexer": "ipython3",
   "version": "3.7.3"
  }
 },
 "nbformat": 4,
 "nbformat_minor": 2
}
