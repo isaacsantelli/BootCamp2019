{
 "cells": [
  {
   "cell_type": "markdown",
   "metadata": {},
   "source": [
    "2.1"
   ]
  },
  {
   "cell_type": "code",
   "execution_count": 117,
   "metadata": {},
   "outputs": [],
   "source": [
    "import numpy as np\n",
    "from matplotlib import pyplot as plt"
   ]
  },
  {
   "cell_type": "code",
   "execution_count": 118,
   "metadata": {},
   "outputs": [],
   "source": [
    "def ex2_1(g, a, b, N, method):\n",
    "    tot = 0\n",
    "    if (method == \"midpoint\"):\n",
    "        for i in range(0, N):\n",
    "            tot += g(a + (((2*i)+1)*(b-a))/(2*N))\n",
    "        tot = tot * ((b-a) / N)\n",
    "        return tot\n",
    "    elif (method == 'trapezoid'):      \n",
    "        tot += g(a)\n",
    "        tot += g(b)\n",
    "        for i in range(1, N):\n",
    "            tot += (2 * g(a + ((i*(b-a))/N)))\n",
    "        tot = tot * ((b-a) / (2*N))\n",
    "        return tot \n",
    "    elif method == 'Simpsons':\n",
    "        tot += g(a)\n",
    "        tot += g(b)\n",
    "        for i in range(1, 2*N):\n",
    "            if (i%2 == 1):\n",
    "                tot += ( 4 * g(a + ((i*(b-a))/(2*N))) )\n",
    "            else:\n",
    "                tot += ( 2 * g(a + ((i*(b-a))/(2*N))) )\n",
    "        tot = tot * ((b-a) / (6*N))\n",
    "        return tot\n",
    "    else:\n",
    "        raise ValueError(\"method must be trapezoid, midpoint or simpsons\")\n",
    "    "
   ]
  },
  {
   "cell_type": "code",
   "execution_count": 119,
   "metadata": {},
   "outputs": [
    {
     "name": "stdout",
     "output_type": "stream",
     "text": [
      "4371.964759999999\n",
      "4376.070560000001\n",
      "4373.3333600000005\n"
     ]
    }
   ],
   "source": [
    "f = lambda x: .1*(x**4) - 1.5*(x**3) + .53*(x**2) + 2*x + 1\n",
    "print(ex2_1(f, -10, 10, 100, 'midpoint'))\n",
    "print(ex2_1(f, -10, 10, 100, 'trapezoid'))\n",
    "print(ex2_1(f, -10, 10, 100, 'Simpsons'))"
   ]
  },
  {
   "cell_type": "markdown",
   "metadata": {},
   "source": [
    "2.2"
   ]
  },
  {
   "cell_type": "code",
   "execution_count": 120,
   "metadata": {},
   "outputs": [],
   "source": [
    "from scipy import stats"
   ]
  },
  {
   "cell_type": "code",
   "execution_count": 121,
   "metadata": {},
   "outputs": [
    {
     "data": {
      "text/plain": [
       "array([7.61985302e-24, 3.69047871e-15, 1.38365090e-08, 4.29060333e-04,\n",
       "       1.33260263e-01, 8.66739737e-01, 9.99570940e-01, 9.99999986e-01,\n",
       "       1.00000000e+00, 1.00000000e+00])"
      ]
     },
     "execution_count": 121,
     "metadata": {},
     "output_type": "execute_result"
    }
   ],
   "source": [
    "x = np.linspace(-10, 10, 10)\n",
    "stats.norm.cdf(x)\n"
   ]
  },
  {
   "cell_type": "code",
   "execution_count": 181,
   "metadata": {},
   "outputs": [],
   "source": [
    "def ex2_2(mu, sd, N, k):\n",
    "    x = np.linspace(mu - sd*k, mu + sd*k, N)\n",
    "    w = np.zeros_like(x)\n",
    "    for i in range(N):\n",
    "        if (i == 0):\n",
    "            w[i-1] = stats.norm.cdf((x[1] + x[0])/2, loc = mu, scale = sd)\n",
    "        elif i > 0 and i < N-1:\n",
    "            w[i] = (stats.norm.cdf((x[i] + x[i+1])/2, loc = mu, scale = sd) - \n",
    "                   stats.norm.cdf((x[i] + x[i-1])/2, loc = mu, scale = sd) )\n",
    "        else:\n",
    "            w[i] =  (1 - stats.norm.cdf((x[N-1] + x[N-2])/2, loc = mu, scale = sd))\n",
    "    return (x, w)\n",
    "    "
   ]
  },
  {
   "cell_type": "code",
   "execution_count": 255,
   "metadata": {},
   "outputs": [
    {
     "data": {
      "text/plain": [
       "[<matplotlib.lines.Line2D at 0x1a1cc41828>]"
      ]
     },
     "execution_count": 255,
     "metadata": {},
     "output_type": "execute_result"
    },
    {
     "data": {
      "image/png": "[encoded data removed]",
      "text/plain": [
       "<Figure size 432x288 with 1 Axes>"
      ]
     },
     "metadata": {
      "needs_background": "light"
     },
     "output_type": "display_data"
    }
   ],
   "source": [
    "z, w = ex2_2(10, 3, 100, 4)\n",
    "\n",
    "plt.plot(z,w, 'o-')"
   ]
  },
  {
   "cell_type": "markdown",
   "metadata": {},
   "source": [
    "2.3"
   ]
  },
  {
   "cell_type": "code",
   "execution_count": 265,
   "metadata": {},
   "outputs": [
    {
     "data": {
      "text/plain": [
       "<matplotlib.legend.Legend at 0x1a1d289cf8>"
      ]
     },
     "execution_count": 265,
     "metadata": {},
     "output_type": "execute_result"
    },
    {
     "data": {
      "image/png": "[encoded data removed]",
      "text/plain": [
       "<Figure size 432x288 with 1 Axes>"
      ]
     },
     "metadata": {
      "needs_background": "light"
     },
     "output_type": "display_data"
    }
   ],
   "source": [
    "def ex2_3(mu, sd, N, k):\n",
    "    z, w = ex2_2(mu, sd, N, k)\n",
    "    z1 = np.exp(z)\n",
    "    return z1, w\n",
    "\n",
    "\n",
    "z_l, w_l = ex2_3(0, 1, 200, 4)\n",
    "z, w = ex2_2(0, 1, 100, 4)\n",
    "fig = plt.figure()\n",
    "#plt.plot(z, w, label = \"normal\")\n",
    "plt.plot(z_l, w_l, label = \"log normal\")\n",
    "plt.plot(z,w, label=\"normal\")\n",
    "plt.legend(loc = \"upper right\")"
   ]
  },
  {
   "cell_type": "markdown",
   "metadata": {},
   "source": [
    "2.4"
   ]
  },
  {
   "cell_type": "code",
   "execution_count": 271,
   "metadata": {},
   "outputs": [
    {
     "name": "stdout",
     "output_type": "stream",
     "text": [
      "50024.59670953277\n",
      "50011.087008521754\n"
     ]
    }
   ],
   "source": [
    "z, w = ex2_3(10.5, .8, 100, 5)\n",
    "rv = 0\n",
    "for i in range(len(z)):\n",
    "    rv += z[i]*w[i]\n",
    "    \n",
    "print(rv)\n",
    "\n",
    "val = np.exp(10.5 + .32)\n",
    "print(val)"
   ]
  },
  {
   "cell_type": "markdown",
   "metadata": {},
   "source": [
    "3.1"
   ]
  },
  {
   "cell_type": "code",
   "execution_count": 272,
   "metadata": {},
   "outputs": [],
   "source": [
    "f = lambda x: .1*(x**4) - 1.5*(x**3) + .53*(x**2) + 2*x + 1\n"
   ]
  },
  {
   "cell_type": "markdown",
   "metadata": {},
   "source": [
    "3.2"
   ]
  },
  {
   "cell_type": "markdown",
   "metadata": {},
   "source": [
    "4.1"
   ]
  },
  {
   "cell_type": "code",
   "execution_count": null,
   "metadata": {},
   "outputs": [],
   "source": []
  }
 ],
 "metadata": {
  "kernelspec": {
   "display_name": "Python 3",
   "language": "python",
   "name": "python3"
  },
  "language_info": {
   "codemirror_mode": {
    "name": "ipython",
    "version": 3
   },
   "file_extension": ".py",
   "mimetype": "text/x-python",
   "name": "python",
   "nbconvert_exporter": "python",
   "pygments_lexer": "ipython3",
   "version": "3.7.3"
  }
 },
 "nbformat": 4,
 "nbformat_minor": 2
}
