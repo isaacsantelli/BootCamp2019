{
 "cells": [
  {
   "cell_type": "code",
   "execution_count": 33,
   "metadata": {},
   "outputs": [],
   "source": [
    "import random\n",
    "\n",
    "def AssignRooms():\n",
    "    jonas = 0 \n",
    "    isaac = 0 \n",
    "    ian = 0\n",
    "    for i in range(100):\n",
    "        jonas += random.randint(0, 2) - 1 \n",
    "        isaac += random.randint(0, 2) - 1 \n",
    "        ian += random.randint(0, 2) - 1 \n",
    "    d = {\"Jonas\":jonas, \"Isaac\": isaac, \"Ian\":ian}\n",
    "    x = max(d.values())\n",
    "    for k, v in d.items():\n",
    "        if v == x: rv = k\n",
    "    return rv\n",
    "    \n",
    "x = AssignRooms()\n",
    "\n",
    "def Iterate():\n",
    "    winners = [AssignRooms() for i in range(100)]\n",
    "    print(\"Isaac\", winners.count(\"Isaac\"))\n",
    "    print(\"Jonas\", winners.count(\"Jonas\"))\n",
    "    print(\"Ian\", winners.count(\"Ian\"))\n",
    "\n",
    "    "
   ]
  },
  {
   "cell_type": "code",
   "execution_count": 41,
   "metadata": {},
   "outputs": [
    {
     "name": "stdout",
     "output_type": "stream",
     "text": [
      "Isaac 29\n",
      "Jonas 30\n",
      "Ian 41\n"
     ]
    }
   ],
   "source": [
    "Iterate()"
   ]
  },
  {
   "cell_type": "code",
   "execution_count": null,
   "metadata": {},
   "outputs": [],
   "source": []
  }
 ],
 "metadata": {
  "kernelspec": {
   "display_name": "Python 3",
   "language": "python",
   "name": "python3"
  },
  "language_info": {
   "codemirror_mode": {
    "name": "ipython",
    "version": 3
   },
   "file_extension": ".py",
   "mimetype": "text/x-python",
   "name": "python",
   "nbconvert_exporter": "python",
   "pygments_lexer": "ipython3",
   "version": "3.7.3"
  }
 },
 "nbformat": 4,
 "nbformat_minor": 2
}
