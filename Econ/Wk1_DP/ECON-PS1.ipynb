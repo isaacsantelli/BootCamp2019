{
 "cells": [
  {
   "cell_type": "code",
   "execution_count": 1,
   "metadata": {},
   "outputs": [],
   "source": [
    "import scipy as scipy\n",
    "from scipy import stats\n",
    "from scipy.stats import norm\n",
    "import numpy as np\n",
    "from matplotlib import pyplot as plt\n",
    "import scipy.optimize\n",
    "from scipy.optimize import root\n",
    "from scipy.integrate import quad\n",
    "from matplotlib import pyplot as plt"
   ]
  },
  {
   "cell_type": "code",
   "execution_count": null,
   "metadata": {},
   "outputs": [],
   "source": [
    "#set gamma\n",
    "gamma=2\n",
    "#Payoffs from assets:\n",
    "A1=np.array([1,1,1,1])\n",
    "A2=np.array([1,1,1.5,1.5])\n",
    "#Endowments:\n",
    "e0h1=1\n",
    "e0h2=1\n",
    "eh1=np.array([1,2,1,2])\n",
    "eh2=np.array([3,1,3,1])"
   ]
  },
  {
   "cell_type": "code",
   "execution_count": null,
   "metadata": {},
   "outputs": [],
   "source": [
    "def fun(x):\n",
    "    #Parameters we need to solve for: \n",
    "    #x1h1 x1h2 x2h1 x2h2\n",
    "    #System of Equations: \n",
    "    #Household 1\n",
    "    #FOC wrt x1h\n",
    "    #x=[x1h1, x2h1,x1h2, x2h2,p1,p2]\n",
    "    x1h1=x[0]\n",
    "    x2h1=x[1]\n",
    "    x1h2=x[2]\n",
    "    x2h2=x[3]\n",
    "    p1=x[4]\n",
    "    p2=x[5]\n",
    "    return \\\n",
    "     [0.25*(eh1[0]+x1h1*A1[0]+x2h1*A2[0])**(-gamma)*A1[0]+ #s0\n",
    "     0.25*(eh1[1]+x1h1*A1[1]+x2h1*A2[1])**(-gamma)*A1[1]+ #s1\n",
    "     0.25*(eh1[2]+x1h1*A1[2]+x2h1*A2[2])**(-gamma)*A1[2]+ #s2\n",
    "     0.25*(eh1[3]+x1h1*A1[3]+x2h1*A2[3])**(-gamma)*A1[3]-  \n",
    "     (e0h1-x1h1*p1-x2h1*p2)**(-gamma)*p1,\n",
    "    #FOC wrt x2h\n",
    "     0.25*(eh1[0]+x1h1*A1[0]+x2h1*A2[0])**(-gamma)*A2[0]+ #0\n",
    "     0.25*(eh1[1]+x1h1*A1[1]+x2h1*A2[1])**(-gamma)*A2[1]+ #1\n",
    "     0.25*(eh1[2]+x1h1*A1[2]+x2h1*A2[2])**(-gamma)*A2[2]+ #2\n",
    "     0.25*(eh1[3]+x1h1*A1[3]+x2h1*A2[3])**(-gamma)*A2[3]- \n",
    "    (e0h1-x1h1*p1-x2h1*p2)**(-gamma)*p2,\n",
    "    #Household 2\n",
    "     0.25*(eh2[0]+x1h2*A1[0]+x2h2*A2[0])**(-gamma)*A1[0]+ #0\n",
    "     0.25*(eh2[1]+x1h2*A1[1]+x2h2*A2[1])**(-gamma)*A1[1]+ #1\n",
    "     0.25*(eh2[2]+x1h2*A1[2]+x2h2*A2[2])**(-gamma)*A1[2]+ #2\n",
    "     0.25*(eh2[3]+x1h2*A1[3]+x2h2*A2[3])**(-gamma)*A1[3]-\n",
    "    (e0h2-x1h2*p1-x2h2*p2)**(-gamma)*p1,\n",
    "    #FOC wrt x2h\n",
    "     0.25*(eh2[0]+x1h2*A1[0]+x2h2*A2[0])**(-gamma)*A2[0]+ #0\n",
    "     0.25*(eh2[1]+x1h2*A1[1]+x2h2*A2[1])**(-gamma)*A2[1]+ #1\n",
    "     0.25*(eh2[2]+x1h2*A1[2]+x2h2*A2[2])**(-gamma)*A2[2]+ #2\n",
    "     0.25*(eh2[3]+x1h2*A1[3]+x2h2*A2[3])**(-gamma)*A2[3]- \n",
    "    (e0h2-x1h2*p1-x2h2*p2)**(-gamma)*p2,\n",
    "    #Market clearing: \n",
    "    x1h1+x1h2,\n",
    "    x2h1+x2h2]"
   ]
  },
  {
   "cell_type": "code",
   "execution_count": null,
   "metadata": {},
   "outputs": [],
   "source": [
    "sol=scipy.optimize.root(fun, [0.5,0.5,0.5, 0.5,0.5,0.5])\n",
    "print(sol.x)"
   ]
  },
  {
   "cell_type": "code",
   "execution_count": null,
   "metadata": {},
   "outputs": [],
   "source": [
    "gamma=4\n",
    "sol=scipy.optimize.root(fun, [0.5,0.5,0.5, 0.5,0.5,0.5])\n",
    "print(sol.x)"
   ]
  },
  {
   "cell_type": "code",
   "execution_count": null,
   "metadata": {},
   "outputs": [],
   "source": [
    "gamma=8\n",
    "sol=scipy.optimize.root(fun, [0.5,0.5,0.5, 0.5,0.5,0.5])\n",
    "print(sol.x)"
   ]
  },
  {
   "cell_type": "code",
   "execution_count": null,
   "metadata": {},
   "outputs": [],
   "source": [
    "gamma=166\n",
    "sol=scipy.optimize.root(fun, [0.5,0.5,0.5, 0.5,0.5,0.5])\n",
    "print(sol.x)"
   ]
  },
  {
   "cell_type": "markdown",
   "metadata": {},
   "source": [
    "# Ramsey 1"
   ]
  },
  {
   "cell_type": "code",
   "execution_count": null,
   "metadata": {},
   "outputs": [],
   "source": []
  },
  {
   "cell_type": "code",
   "execution_count": 11,
   "metadata": {},
   "outputs": [],
   "source": [
    "#Initialize the problem:\n",
    "beta=0.9\n",
    "pi=0.5\n",
    "sgrid=[1,2]\n",
    "tolForFixedPoint=0.001\n",
    "max_iterations=500"
   ]
  },
  {
   "cell_type": "code",
   "execution_count": 12,
   "metadata": {},
   "outputs": [],
   "source": [
    "def objectivefun(EV1,K,K1,S):\n",
    "    if S==1:\n",
    "        c=0.9*K**0.3+0.3*K-K1\n",
    "    else:\n",
    "        c=1.1*K**0.3+0.9*K-K1\n",
    "    value= np.zeros_like(c)\n",
    "    value[c<=0]=-1000000\n",
    "    value[c>0]=np.log(c[c>0])+beta*EV1[c>0] \n",
    "    return value"
   ]
  },
  {
   "cell_type": "code",
   "execution_count": 1,
   "metadata": {},
   "outputs": [],
   "source": [
    "def V(grid_size):    \n",
    "    kgrid=np.linspace(0.001,10,grid_size)\n",
    "    EV1  = np.zeros(len(kgrid))   \n",
    "    diff=1\n",
    "    ixiter=0\n",
    "    V=np.empty([len(kgrid),len(kgrid)])\n",
    "    policy  = np.empty([len(kgrid),2])\n",
    "    \n",
    "    K1=np.linspace(0.001,1,len(kgrid))\n",
    "    \n",
    "    for ixiter  in range(max_iterations): \n",
    "        EV = np.zeros(len(kgrid))\n",
    "        for ii, K in enumerate(kgrid): \n",
    "            #K=kgrid[ki]\n",
    "            for jj, S in enumerate(sgrid): \n",
    "                #S=sgrid[sj]\n",
    "                \n",
    "                Vvalue=objectivefun(EV1,K,K1,S)\n",
    "\n",
    "                optval=np.amax(Vvalue)\n",
    "                policy[ii,jj]=kgrid[np.argmax(Vvalue)]\n",
    "                V[ii,jj]=optval\n",
    "                \n",
    "            EV[ii]=pi* V[ii,0]+pi* V[ii,1]\n",
    "\n",
    "        diff=np.amax(abs(EV1 - EV))\n",
    "\n",
    "        EV1=np.copy(EV)\n",
    "        if diff < tolForFixedPoint:\n",
    "            break\n",
    "    print(ixiter)\n",
    "    return policy, V\n"
   ]
  },
  {
   "cell_type": "code",
   "execution_count": 59,
   "metadata": {},
   "outputs": [
    {
     "name": "stdout",
     "output_type": "stream",
     "text": [
      "72\n"
     ]
    }
   ],
   "source": [
    "grid_size=500\n",
    "policy, Val  =V(grid_size)\n",
    "kgrid=np.linspace(0.001,10,grid_size)"
   ]
  },
  {
   "cell_type": "code",
   "execution_count": 58,
   "metadata": {},
   "outputs": [
    {
     "data": {
      "text/plain": [
       "Text(0.5, 1.0, 'Policy function')"
      ]
     },
     "execution_count": 58,
     "metadata": {},
     "output_type": "execute_result"
    },
    {
     "data": {
      "image/png": "[encoded data removed]",
      "text/plain": [
       "<Figure size 432x288 with 1 Axes>"
      ]
     },
     "metadata": {
      "needs_background": "light"
     },
     "output_type": "display_data"
    }
   ],
   "source": [
    "plt.plot(kgrid, policy[:,0], label=\"bad state\")\n",
    "plt.plot(kgrid, policy[:,1], label=\"good state\")\n",
    "plt.legend(loc=\"upper left\")\n",
    "plt.title(\"Policy function\")"
   ]
  },
  {
   "cell_type": "code",
   "execution_count": 47,
   "metadata": {},
   "outputs": [
    {
     "data": {
      "text/plain": [
       "Text(0.5, 1.0, 'Value function')"
      ]
     },
     "execution_count": 47,
     "metadata": {},
     "output_type": "execute_result"
    },
    {
     "data": {
      "image/png": "[encoded data removed]",
      "text/plain": [
       "<Figure size 432x288 with 1 Axes>"
      ]
     },
     "metadata": {
      "needs_background": "light"
     },
     "output_type": "display_data"
    }
   ],
   "source": [
    "plt.plot(kgrid, Val[:,0], label=\"bad state\")\n",
    "plt.plot(kgrid, Val[:,1], label=\"good state\")\n",
    "plt.legend(loc=\"upper left\")\n",
    "plt.title(\"Value function\")"
   ]
  },
  {
   "cell_type": "code",
   "execution_count": null,
   "metadata": {},
   "outputs": [],
   "source": [
    "c=np.array([-1,-4,50,3,0,-2])\n",
    "value= np.zeros_like(c)\n",
    "value[c<0]=-1000000\n",
    "value[c>0]=np.log(c[c>0])+28  "
   ]
  },
  {
   "cell_type": "code",
   "execution_count": null,
   "metadata": {},
   "outputs": [],
   "source": []
  }
 ],
 "metadata": {
  "kernelspec": {
   "display_name": "Python 3",
   "language": "python",
   "name": "python3"
  },
  "language_info": {
   "codemirror_mode": {
    "name": "ipython",
    "version": 3
   },
   "file_extension": ".py",
   "mimetype": "text/x-python",
   "name": "python",
   "nbconvert_exporter": "python",
   "pygments_lexer": "ipython3",
   "version": "3.7.3"
  }
 },
 "nbformat": 4,
 "nbformat_minor": 2
}
