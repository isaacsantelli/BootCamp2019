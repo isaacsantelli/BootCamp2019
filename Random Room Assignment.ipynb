{
 "cells": [
  {
   "cell_type": "code",
   "execution_count": 22,
   "metadata": {},
   "outputs": [],
   "source": [
    "import random\n",
    "\n",
    "def AssignRooms():\n",
    "    jonas = 0 \n",
    "    isaac = 0 \n",
    "    ian = 0\n",
    "    for i in range(100):\n",
    "        jonas += random.randint(0, 2) - 1 \n",
    "        isaac += random.randint(0, 2) - 1 \n",
    "        ian += random.randint(0, 2) - 1 \n",
    "    d = {\"Jonas\":jonas, \"Isaac\": isaac, \"Ian\":ian}\n",
    "    x = max(d.values())\n",
    "    for k, v in d.items():\n",
    "        if v == x: rv = k\n",
    "    return rv\n",
    "    \n",
    "x = AssignRooms()\n",
    "\n",
    "def Iterate():\n",
    "    winners = [AssignRooms() for i in range(100)]\n",
    "    print(\"Isaac\", winners.count(\"Isaac\"))\n",
    "    print(\"Jonas\", winners.count(\"Jonas\"))\n",
    "    print(\"Ian\", winners.count(\"Ian\"))\n",
    "\n",
    "    "
   ]
  },
  {
   "cell_type": "code",
   "execution_count": 23,
   "metadata": {},
   "outputs": [
    {
     "name": "stdout",
     "output_type": "stream",
     "text": [
      "Isaac 35\n",
      "Jonas 34\n",
      "Ian 31\n"
     ]
    }
   ],
   "source": [
    "Iterate()"
   ]
  },
  {
   "cell_type": "code",
   "execution_count": 37,
   "metadata": {},
   "outputs": [
    {
     "name": "stdout",
     "output_type": "stream",
     "text": [
      "{'Isaac': 'Room 2', 'Ian': 'Room 3', 'Jonas': 'Room 1'}\n"
     ]
    }
   ],
   "source": [
    "rooms = [\"Room 1\", \"Room 2\", \"Room 3\"]\n",
    "people =  [\"Isaac\", \"Ian\", \"Jonas\"]\n",
    "random.shuffle(rooms)\n",
    "random.shuffle(people)\n",
    "assignments = dict(zip(people, rooms))\n",
    "print(assignments)\n"
   ]
  },
  {
   "cell_type": "code",
   "execution_count": 56,
   "metadata": {},
   "outputs": [
    {
     "name": "stdout",
     "output_type": "stream",
     "text": [
      "Isaac gets Room 1\n",
      "Jonas gets Room 3\n",
      "Ian gets Room 2\n"
     ]
    }
   ],
   "source": [
    "rooms = [\"Room 1\", \"Room 2\", \"Room 3\"]\n",
    "people =  [\"Isaac\", \"Ian\", \"Jonas\"]\n",
    "\n",
    "for i in range(3):\n",
    "    ri = random.randint(0, 2-i)\n",
    "    pi = random.randint(0, 2-i)\n",
    "    room = rooms.pop(ri)\n",
    "    per = people.pop(pi)\n",
    "    print(per, \"gets\", room)\n"
   ]
  },
  {
   "cell_type": "code",
   "execution_count": null,
   "metadata": {},
   "outputs": [],
   "source": []
  },
  {
   "cell_type": "code",
   "execution_count": null,
   "metadata": {},
   "outputs": [],
   "source": []
  }
 ],
 "metadata": {
  "kernelspec": {
   "display_name": "Python 3",
   "language": "python",
   "name": "python3"
  },
  "language_info": {
   "codemirror_mode": {
    "name": "ipython",
    "version": 3
   },
   "file_extension": ".py",
   "mimetype": "text/x-python",
   "name": "python",
   "nbconvert_exporter": "python",
   "pygments_lexer": "ipython3",
   "version": "3.7.3"
  }
 },
 "nbformat": 4,
 "nbformat_minor": 2
}
